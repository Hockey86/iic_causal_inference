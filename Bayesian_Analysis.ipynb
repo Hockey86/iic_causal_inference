{
 "cells": [
  {
   "cell_type": "code",
   "execution_count": 1,
   "metadata": {},
   "outputs": [],
   "source": [
    "import pystan"
   ]
  },
  {
   "cell_type": "code",
   "execution_count": 2,
   "metadata": {},
   "outputs": [
    {
     "name": "stdout",
     "output_type": "stream",
     "text": [
      "C:\\Users\\Harsh\\anaconda3\\lib\\distutils\\__init__.py\n"
     ]
    }
   ],
   "source": [
    "import distutils\n",
    "print(distutils.__file__)"
   ]
  },
  {
   "cell_type": "code",
   "execution_count": 3,
   "metadata": {},
   "outputs": [],
   "source": [
    "import numpy as np\n",
    "import pandas as pd\n",
    "import scipy \n",
    "import seaborn as sns\n",
    "import matplotlib.pyplot as plt\n",
    "sns.set()"
   ]
  },
  {
   "cell_type": "code",
   "execution_count": 26,
   "metadata": {},
   "outputs": [],
   "source": [
    "pd_model = \"\"\"\n",
    "data {\n",
    "    int<lower=0> T;\n",
    "    int<lower=0> W;\n",
    "    int<lower=0> ND;\n",
    "    int<lower=0> E[T];\n",
    "    matrix[ND,T] D;\n",
    "}\n",
    "\n",
    "parameters {\n",
    "    real a0;\n",
    "    real a1;\n",
    "    real a2;\n",
    "    real b0;\n",
    "    vector[ND] b;\n",
    "    real theta_u;\n",
    "    real theta_l;\n",
    "    real p1_s;\n",
    "    real p2_s;\n",
    "}\n",
    "\n",
    "transformed parameters {\n",
    "    vector[T] p;\n",
    "    vector[T] A;\n",
    "    vector[T] B;\n",
    "    p[1] = p1_s;\n",
    "    p[2] = p2_s;\n",
    "    for (t in 3:T) {\n",
    "        A[t] = a0 + a1*p[t-1] +a2*p[t-2];\n",
    "        B[t] = b0 + dot_product(b,col(D,t));\n",
    "        p[t] = (1/(1+exp(-1*A[t])))*(1 - (1/(1+exp(-1*B[t]))));\n",
    "    }\n",
    "}\n",
    "\n",
    "model {\n",
    "    p1_s ~ uniform(theta_l,theta_u);\n",
    "    p2_s ~ uniform(theta_l,theta_u);\n",
    "    for (t in 1:T) {\n",
    "        E[t] ~ binomial(W,p[t]);\n",
    "    }   \n",
    "}\n",
    "\n",
    "\"\"\""
   ]
  },
  {
   "cell_type": "code",
   "execution_count": 5,
   "metadata": {},
   "outputs": [
    {
     "name": "stderr",
     "output_type": "stream",
     "text": [
      "INFO:numexpr.utils:NumExpr defaulting to 4 threads.\n"
     ]
    }
   ],
   "source": [
    "halflife = pd.DataFrame({\n",
    "    'lacosamide':[13],\n",
    "    'levetiracetam':[6],\n",
    "    'midazolam':[1.5],\n",
    "    'pentobarbital':[15],\n",
    "    'phenobarbital':[53],\n",
    "    'phenytoin':[22],\n",
    "    'propofol':[1.5],\n",
    "    'valproate':[8]\n",
    "    },index=['t1/2'])\n",
    "\n",
    "halflife = halflife.append(np.log(2) / halflife.rename(index={'t1/2':'k'}))"
   ]
  },
  {
   "cell_type": "code",
   "execution_count": 6,
   "metadata": {},
   "outputs": [],
   "source": [
    "def drug_concentration(d_ts,k):\n",
    "    k_ts = np.array([ np.exp(-k*t) for t in range(d_ts.shape[1]) ]).T\n",
    "    conc = np.array([np.convolve(d_ts[i],k_ts[i],'full') for i in range(d_ts.shape[0])])\n",
    "    return conc"
   ]
  },
  {
   "cell_type": "code",
   "execution_count": 8,
   "metadata": {},
   "outputs": [],
   "source": [
    "import os\n",
    "import scipy.io as io\n",
    "files = os.listdir()\n",
    "\n",
    "def patient(file):\n",
    "    window=900\n",
    "    step=900\n",
    "    df_temp = pd.DataFrame()\n",
    "    if '.mat' in file:\n",
    "        s = io.loadmat(file)\n",
    "        human_iic_dummy = pd.get_dummies(s['human_iic'][0],dummy_na=False).rename(columns=lambda x: str(x) )\n",
    "        human_iic_dummy_1hour = pd.DataFrame([np.mean(human_iic_dummy.loc[i:i+window,:],axis=0) for i in range(0,human_iic_dummy.shape[0],step)])\n",
    "        \n",
    "        drugs = s['drugs_weightnormalized']\n",
    "        drugnames = list(map(lambda x: x.replace(' ',''),s['Dnames']))\n",
    "        drugs_1hr = pd.DataFrame([ np.mean(drugs[i:i+window,:],axis=0) for i in range(0,human_iic_dummy.shape[0],step) ],columns=drugnames)\n",
    "        change_drug_1hr = drugs_1hr.diff().rename(columns=lambda x: 'd_'+x)\n",
    "        drugs_1hr = drugs_1hr.join(change_drug_1hr)\n",
    "        \n",
    "        for i in range(human_iic_dummy_1hour.shape[0]):\n",
    "            if (human_iic_dummy_1hour.loc[i,:]==0).all():\n",
    "                drugs_1hr.loc[i,:] = np.nan \n",
    "                human_iic_dummy_1hour.loc[i,:] = np.nan\n",
    "        \n",
    "        human_iic_dummy_1hour['IIC'] = 1 - human_iic_dummy_1hour['0.0']\n",
    "        if '5.0' in human_iic_dummy_1hour.columns:\n",
    "            human_iic_dummy_1hour['IIC'] = human_iic_dummy_1hour['IIC'] - human_iic_dummy_1hour['5.0']\n",
    "        change_iic_1hr = human_iic_dummy_1hour.diff().rename(columns=lambda x: 'd_'+x)\n",
    "        human_iic_dummy_1hour = human_iic_dummy_1hour.join(change_iic_1hr)\n",
    "        \n",
    "        df_temp = human_iic_dummy_1hour.join(drugs_1hr)\n",
    "        df_temp['sid'] = [file.split('.')[0] for i in range(df_temp.shape[0])]\n",
    "    return df_temp"
   ]
  },
  {
   "cell_type": "code",
   "execution_count": 9,
   "metadata": {},
   "outputs": [
    {
     "data": {
      "text/plain": [
       "Index(['sid36', 'sid39', 'sid56', 'sid297', 'sid327', 'sid385', 'sid395',\n",
       "       'sid400', 'sid403', 'sid406', 'sid424', 'sid450', 'sid456', 'sid490',\n",
       "       'sid512', 'sid551', 'sid557', 'sid575', 'sid988', 'sid1016', 'sid1025',\n",
       "       'sid1034', 'sid1038', 'sid1039', 'sid1055', 'sid1056', 'sid1063',\n",
       "       'sid1337', 'sid1897', 'sid1913', 'sid1915', 'sid1916', 'sid1917',\n",
       "       'sid1926', 'sid1928', 'sid1956', 'sid1966'],\n",
       "      dtype='object', name='Index')"
      ]
     },
     "execution_count": 9,
     "metadata": {},
     "output_type": "execute_result"
    }
   ],
   "source": [
    "covariates = pd.read_csv('covariates.csv').set_index('Index').dropna(axis=1)\n",
    "covariates.index"
   ]
  },
  {
   "cell_type": "code",
   "execution_count": 10,
   "metadata": {},
   "outputs": [],
   "source": [
    "def patient_data(sid):\n",
    "    covariates = pd.read_csv('covariates.csv').set_index('Index').dropna(axis=1)\n",
    "    k = halflife.loc['k'].to_numpy()\n",
    "    \n",
    "    np.random.seed(0)\n",
    "\n",
    "    #fetch the data\n",
    "    file = sid + '.mat'\n",
    "    p = patient(file)\n",
    "\n",
    "    #setting up the data\n",
    "    Eobs1 = np.clip(p['IIC'].to_numpy(),0,1)\n",
    "    Eobs = np.clip(p['IIC'].interpolate(method='cubic').to_numpy(),0,1)\n",
    "    Dobs = p[['lacosamide', 'levetiracetam', 'midazolam', \n",
    "                    'pentobarbital','phenobarbital', 'phenytoin', 'propofol', 'valproate']].fillna(0).to_numpy().T\n",
    "    T = Eobs.shape[0]\n",
    "\n",
    "    #PK\n",
    "    d_conc = drug_concentration(Dobs,k)[:,:T]\n",
    "    return Eobs1, Eobs, T, d_conc"
   ]
  },
  {
   "cell_type": "code",
   "execution_count": 11,
   "metadata": {},
   "outputs": [],
   "source": [
    "sid1916 = patient_data('sid1916')"
   ]
  },
  {
   "cell_type": "code",
   "execution_count": 32,
   "metadata": {},
   "outputs": [],
   "source": [
    "W=900\n",
    "Eobs1, Eobs, T, D = sid1916\n",
    "E = (Eobs*W).astype(int)"
   ]
  },
  {
   "cell_type": "code",
   "execution_count": 30,
   "metadata": {},
   "outputs": [
    {
     "name": "stdout",
     "output_type": "stream",
     "text": [
      "(91,)\n",
      "(8, 91)\n",
      "91\n"
     ]
    },
    {
     "data": {
      "image/png": "[encoded data removed]",
      "text/plain": [
       "<Figure size 432x288 with 1 Axes>"
      ]
     },
     "metadata": {},
     "output_type": "display_data"
    }
   ],
   "source": [
    "plt.plot(E)\n",
    "print(E.shape)\n",
    "print(D.shape)\n",
    "print(T)"
   ]
  },
  {
   "cell_type": "code",
   "execution_count": 35,
   "metadata": {},
   "outputs": [
    {
     "name": "stdout",
     "output_type": "stream",
     "text": [
      "{'T': 91, 'W': 900, 'ND': 8, 'E': array([  0,   3,  69, 187,  65, 115,  11,  98, 100,  11, 255, 101, 118,\n",
      "       152,  70,  16, 219, 126,  99, 540, 369,  39,  44, 175,  65, 230,\n",
      "       117,  56,  84, 152, 102,  93, 254, 113, 109, 131,  46, 190, 190,\n",
      "       129,  41,  62, 359,   0,   0,   0,   0,   0,  43,   0, 143,   0,\n",
      "        19, 257,   0,  50,   0,   0,   0,   0,   0,  43,   0,   9,   5,\n",
      "         0, 178,   0,  58,   0,   6, 343, 314, 431, 153,  14,   4,   0,\n",
      "        37,  72,   0,  14,  30,  38,   0,   0, 118, 343,   6, 298,   0]), 'D': array([[0.00000000e+00, 0.00000000e+00, 0.00000000e+00, 0.00000000e+00,\n",
      "        0.00000000e+00, 0.00000000e+00, 0.00000000e+00, 0.00000000e+00,\n",
      "        0.00000000e+00, 0.00000000e+00, 0.00000000e+00, 0.00000000e+00,\n",
      "        0.00000000e+00, 0.00000000e+00, 0.00000000e+00, 0.00000000e+00,\n",
      "        0.00000000e+00, 0.00000000e+00, 0.00000000e+00, 0.00000000e+00,\n",
      "        0.00000000e+00, 0.00000000e+00, 0.00000000e+00, 0.00000000e+00,\n",
      "        0.00000000e+00, 0.00000000e+00, 0.00000000e+00, 0.00000000e+00,\n",
      "        0.00000000e+00, 0.00000000e+00, 0.00000000e+00, 0.00000000e+00,\n",
      "        0.00000000e+00, 0.00000000e+00, 0.00000000e+00, 0.00000000e+00,\n",
      "        0.00000000e+00, 0.00000000e+00, 0.00000000e+00, 0.00000000e+00,\n",
      "        0.00000000e+00, 0.00000000e+00, 0.00000000e+00, 0.00000000e+00,\n",
      "        0.00000000e+00, 0.00000000e+00, 0.00000000e+00, 0.00000000e+00,\n",
      "        0.00000000e+00, 0.00000000e+00, 0.00000000e+00, 0.00000000e+00,\n",
      "        0.00000000e+00, 0.00000000e+00, 0.00000000e+00, 0.00000000e+00,\n",
      "        0.00000000e+00, 0.00000000e+00, 0.00000000e+00, 0.00000000e+00,\n",
      "        0.00000000e+00, 0.00000000e+00, 0.00000000e+00, 0.00000000e+00,\n",
      "        0.00000000e+00, 0.00000000e+00, 0.00000000e+00, 0.00000000e+00,\n",
      "        0.00000000e+00, 0.00000000e+00, 0.00000000e+00, 0.00000000e+00,\n",
      "        0.00000000e+00, 0.00000000e+00, 0.00000000e+00, 0.00000000e+00,\n",
      "        0.00000000e+00, 0.00000000e+00, 0.00000000e+00, 0.00000000e+00,\n",
      "        0.00000000e+00, 0.00000000e+00, 0.00000000e+00, 0.00000000e+00,\n",
      "        0.00000000e+00, 0.00000000e+00, 0.00000000e+00, 0.00000000e+00,\n",
      "        0.00000000e+00, 0.00000000e+00, 0.00000000e+00],\n",
      "       [0.00000000e+00, 0.00000000e+00, 0.00000000e+00, 0.00000000e+00,\n",
      "        0.00000000e+00, 0.00000000e+00, 0.00000000e+00, 0.00000000e+00,\n",
      "        0.00000000e+00, 0.00000000e+00, 0.00000000e+00, 0.00000000e+00,\n",
      "        0.00000000e+00, 0.00000000e+00, 0.00000000e+00, 0.00000000e+00,\n",
      "        0.00000000e+00, 0.00000000e+00, 0.00000000e+00, 0.00000000e+00,\n",
      "        3.26089684e+01, 2.90512882e+01, 2.58817554e+01, 2.30580227e+01,\n",
      "        2.05423629e+01, 1.83011647e+01, 1.63044842e+01, 1.45256441e+01,\n",
      "        1.29408777e+01, 1.15290114e+01, 1.02711814e+01, 9.15058237e+00,\n",
      "        8.15224211e+00, 7.26282204e+00, 6.47043885e+00, 5.76450568e+00,\n",
      "        5.13559072e+00, 4.57529119e+00, 4.07612105e+00, 3.63141102e+00,\n",
      "        3.23521942e+00, 2.88225284e+00, 2.56779536e+00, 2.28764559e+00,\n",
      "        2.03806053e+00, 1.81570551e+00, 1.61760971e+00, 3.40500948e+01,\n",
      "        3.03351859e+01, 2.70255782e+01, 2.40770530e+01, 2.14502156e+01,\n",
      "        1.91099696e+01, 1.70250474e+01, 1.51675929e+01, 1.35127891e+01,\n",
      "        1.20385265e+01, 1.07251078e+01, 9.55498480e+00, 8.51252371e+00,\n",
      "        7.58379646e+00, 6.75639455e+00, 6.01926324e+00, 5.36255391e+00,\n",
      "        4.77749240e+00, 4.25626186e+00, 3.79189823e+00, 3.37819727e+00,\n",
      "        3.00963162e+00, 3.52902454e+01, 3.14400344e+01, 2.80098863e+01,\n",
      "        2.49539718e+01, 2.22314615e+01, 1.98059806e+01, 1.76451227e+01,\n",
      "        1.57200172e+01, 1.40049432e+01, 1.24769859e+01, 1.11157308e+01,\n",
      "        9.90299028e+00, 8.82256135e+00, 7.86000859e+00, 7.00247158e+00,\n",
      "        6.23849295e+00, 5.55786538e+00, 4.95149514e+00, 4.41128067e+00,\n",
      "        3.93000430e+00, 3.50123579e+00, 3.11924648e+00],\n",
      "       [0.00000000e+00, 0.00000000e+00, 0.00000000e+00, 0.00000000e+00,\n",
      "        0.00000000e+00, 0.00000000e+00, 0.00000000e+00, 0.00000000e+00,\n",
      "        0.00000000e+00, 0.00000000e+00, 0.00000000e+00, 0.00000000e+00,\n",
      "        0.00000000e+00, 0.00000000e+00, 0.00000000e+00, 0.00000000e+00,\n",
      "        0.00000000e+00, 0.00000000e+00, 0.00000000e+00, 0.00000000e+00,\n",
      "        0.00000000e+00, 0.00000000e+00, 0.00000000e+00, 0.00000000e+00,\n",
      "        0.00000000e+00, 0.00000000e+00, 0.00000000e+00, 0.00000000e+00,\n",
      "        0.00000000e+00, 0.00000000e+00, 0.00000000e+00, 0.00000000e+00,\n",
      "        0.00000000e+00, 0.00000000e+00, 0.00000000e+00, 0.00000000e+00,\n",
      "        0.00000000e+00, 0.00000000e+00, 0.00000000e+00, 0.00000000e+00,\n",
      "        0.00000000e+00, 8.69572491e-02, 5.47796343e-02, 3.45090072e-02,\n",
      "        2.17393123e-02, 1.36949086e-02, 8.62725180e-03, 5.43482807e-03,\n",
      "        3.42372714e-03, 2.15681295e-03, 1.35870702e-03, 8.55931786e-04,\n",
      "        5.39203237e-04, 3.39676754e-04, 2.13982947e-04, 1.34800809e-04,\n",
      "        8.49191886e-05, 5.34957366e-05, 3.37002023e-05, 2.12297972e-05,\n",
      "        1.33739342e-05, 8.42505058e-06, 5.30744929e-06, 3.34348354e-06,\n",
      "        2.10626265e-06, 1.32686232e-06, 8.35870885e-07, 5.26565662e-07,\n",
      "        3.31715581e-07, 2.08967721e-07, 1.31641415e-07, 8.29288951e-08,\n",
      "        5.22419303e-08, 3.29103538e-08, 2.07322238e-08, 1.30604826e-08,\n",
      "        8.22758846e-09, 5.18305595e-09, 3.26512064e-09, 2.05689712e-09,\n",
      "        1.29576399e-09, 8.16280161e-10, 5.14224279e-10, 3.23940997e-10,\n",
      "        2.04070040e-10, 1.28556070e-10, 8.09852492e-11, 5.10175101e-11,\n",
      "        3.21390174e-11, 2.02463123e-11, 1.27543775e-11],\n",
      "       [0.00000000e+00, 0.00000000e+00, 0.00000000e+00, 0.00000000e+00,\n",
      "        0.00000000e+00, 0.00000000e+00, 0.00000000e+00, 0.00000000e+00,\n",
      "        0.00000000e+00, 0.00000000e+00, 0.00000000e+00, 0.00000000e+00,\n",
      "        0.00000000e+00, 0.00000000e+00, 0.00000000e+00, 0.00000000e+00,\n",
      "        0.00000000e+00, 0.00000000e+00, 0.00000000e+00, 0.00000000e+00,\n",
      "        0.00000000e+00, 0.00000000e+00, 0.00000000e+00, 0.00000000e+00,\n",
      "        0.00000000e+00, 0.00000000e+00, 0.00000000e+00, 0.00000000e+00,\n",
      "        0.00000000e+00, 0.00000000e+00, 0.00000000e+00, 0.00000000e+00,\n",
      "        0.00000000e+00, 0.00000000e+00, 0.00000000e+00, 0.00000000e+00,\n",
      "        0.00000000e+00, 0.00000000e+00, 0.00000000e+00, 0.00000000e+00,\n",
      "        0.00000000e+00, 0.00000000e+00, 0.00000000e+00, 0.00000000e+00,\n",
      "        0.00000000e+00, 0.00000000e+00, 0.00000000e+00, 0.00000000e+00,\n",
      "        0.00000000e+00, 0.00000000e+00, 0.00000000e+00, 0.00000000e+00,\n",
      "        0.00000000e+00, 0.00000000e+00, 0.00000000e+00, 0.00000000e+00,\n",
      "        0.00000000e+00, 0.00000000e+00, 0.00000000e+00, 0.00000000e+00,\n",
      "        0.00000000e+00, 0.00000000e+00, 0.00000000e+00, 0.00000000e+00,\n",
      "        0.00000000e+00, 0.00000000e+00, 0.00000000e+00, 0.00000000e+00,\n",
      "        0.00000000e+00, 0.00000000e+00, 0.00000000e+00, 0.00000000e+00,\n",
      "        0.00000000e+00, 0.00000000e+00, 0.00000000e+00, 0.00000000e+00,\n",
      "        0.00000000e+00, 0.00000000e+00, 0.00000000e+00, 0.00000000e+00,\n",
      "        0.00000000e+00, 0.00000000e+00, 0.00000000e+00, 0.00000000e+00,\n",
      "        0.00000000e+00, 0.00000000e+00, 0.00000000e+00, 0.00000000e+00,\n",
      "        0.00000000e+00, 0.00000000e+00, 0.00000000e+00],\n",
      "       [0.00000000e+00, 0.00000000e+00, 0.00000000e+00, 0.00000000e+00,\n",
      "        0.00000000e+00, 0.00000000e+00, 0.00000000e+00, 0.00000000e+00,\n",
      "        0.00000000e+00, 0.00000000e+00, 0.00000000e+00, 0.00000000e+00,\n",
      "        0.00000000e+00, 0.00000000e+00, 0.00000000e+00, 0.00000000e+00,\n",
      "        0.00000000e+00, 0.00000000e+00, 0.00000000e+00, 0.00000000e+00,\n",
      "        0.00000000e+00, 0.00000000e+00, 0.00000000e+00, 0.00000000e+00,\n",
      "        0.00000000e+00, 0.00000000e+00, 0.00000000e+00, 0.00000000e+00,\n",
      "        0.00000000e+00, 0.00000000e+00, 0.00000000e+00, 0.00000000e+00,\n",
      "        0.00000000e+00, 0.00000000e+00, 0.00000000e+00, 0.00000000e+00,\n",
      "        0.00000000e+00, 0.00000000e+00, 0.00000000e+00, 0.00000000e+00,\n",
      "        0.00000000e+00, 0.00000000e+00, 0.00000000e+00, 0.00000000e+00,\n",
      "        0.00000000e+00, 0.00000000e+00, 0.00000000e+00, 0.00000000e+00,\n",
      "        0.00000000e+00, 0.00000000e+00, 0.00000000e+00, 0.00000000e+00,\n",
      "        0.00000000e+00, 0.00000000e+00, 0.00000000e+00, 0.00000000e+00,\n",
      "        0.00000000e+00, 0.00000000e+00, 0.00000000e+00, 0.00000000e+00,\n",
      "        0.00000000e+00, 0.00000000e+00, 0.00000000e+00, 0.00000000e+00,\n",
      "        0.00000000e+00, 0.00000000e+00, 0.00000000e+00, 0.00000000e+00,\n",
      "        0.00000000e+00, 0.00000000e+00, 0.00000000e+00, 0.00000000e+00,\n",
      "        0.00000000e+00, 0.00000000e+00, 0.00000000e+00, 0.00000000e+00,\n",
      "        0.00000000e+00, 0.00000000e+00, 0.00000000e+00, 0.00000000e+00,\n",
      "        0.00000000e+00, 0.00000000e+00, 0.00000000e+00, 0.00000000e+00,\n",
      "        0.00000000e+00, 0.00000000e+00, 0.00000000e+00, 0.00000000e+00,\n",
      "        0.00000000e+00, 0.00000000e+00, 0.00000000e+00],\n",
      "       [0.00000000e+00, 0.00000000e+00, 0.00000000e+00, 0.00000000e+00,\n",
      "        0.00000000e+00, 0.00000000e+00, 0.00000000e+00, 0.00000000e+00,\n",
      "        0.00000000e+00, 0.00000000e+00, 0.00000000e+00, 0.00000000e+00,\n",
      "        0.00000000e+00, 0.00000000e+00, 0.00000000e+00, 0.00000000e+00,\n",
      "        0.00000000e+00, 0.00000000e+00, 0.00000000e+00, 0.00000000e+00,\n",
      "        0.00000000e+00, 0.00000000e+00, 0.00000000e+00, 0.00000000e+00,\n",
      "        0.00000000e+00, 0.00000000e+00, 0.00000000e+00, 0.00000000e+00,\n",
      "        0.00000000e+00, 0.00000000e+00, 0.00000000e+00, 0.00000000e+00,\n",
      "        0.00000000e+00, 0.00000000e+00, 0.00000000e+00, 0.00000000e+00,\n",
      "        0.00000000e+00, 0.00000000e+00, 0.00000000e+00, 0.00000000e+00,\n",
      "        0.00000000e+00, 0.00000000e+00, 0.00000000e+00, 0.00000000e+00,\n",
      "        0.00000000e+00, 0.00000000e+00, 0.00000000e+00, 0.00000000e+00,\n",
      "        0.00000000e+00, 0.00000000e+00, 0.00000000e+00, 0.00000000e+00,\n",
      "        0.00000000e+00, 0.00000000e+00, 0.00000000e+00, 0.00000000e+00,\n",
      "        0.00000000e+00, 0.00000000e+00, 0.00000000e+00, 0.00000000e+00,\n",
      "        0.00000000e+00, 0.00000000e+00, 0.00000000e+00, 0.00000000e+00,\n",
      "        0.00000000e+00, 0.00000000e+00, 0.00000000e+00, 0.00000000e+00,\n",
      "        0.00000000e+00, 0.00000000e+00, 0.00000000e+00, 0.00000000e+00,\n",
      "        0.00000000e+00, 0.00000000e+00, 0.00000000e+00, 0.00000000e+00,\n",
      "        0.00000000e+00, 0.00000000e+00, 0.00000000e+00, 0.00000000e+00,\n",
      "        0.00000000e+00, 0.00000000e+00, 0.00000000e+00, 0.00000000e+00,\n",
      "        0.00000000e+00, 0.00000000e+00, 0.00000000e+00, 0.00000000e+00,\n",
      "        0.00000000e+00, 0.00000000e+00, 0.00000000e+00],\n",
      "       [0.00000000e+00, 0.00000000e+00, 0.00000000e+00, 0.00000000e+00,\n",
      "        0.00000000e+00, 0.00000000e+00, 0.00000000e+00, 0.00000000e+00,\n",
      "        0.00000000e+00, 0.00000000e+00, 0.00000000e+00, 0.00000000e+00,\n",
      "        0.00000000e+00, 0.00000000e+00, 0.00000000e+00, 0.00000000e+00,\n",
      "        0.00000000e+00, 0.00000000e+00, 0.00000000e+00, 0.00000000e+00,\n",
      "        0.00000000e+00, 0.00000000e+00, 0.00000000e+00, 0.00000000e+00,\n",
      "        0.00000000e+00, 0.00000000e+00, 0.00000000e+00, 0.00000000e+00,\n",
      "        0.00000000e+00, 0.00000000e+00, 0.00000000e+00, 0.00000000e+00,\n",
      "        0.00000000e+00, 0.00000000e+00, 0.00000000e+00, 0.00000000e+00,\n",
      "        0.00000000e+00, 0.00000000e+00, 0.00000000e+00, 0.00000000e+00,\n",
      "        0.00000000e+00, 0.00000000e+00, 1.51600000e+00, 2.75502016e+00,\n",
      "        3.53555394e+00, 4.02725942e+00, 4.33701446e+00, 4.53214790e+00,\n",
      "        4.14974094e+00, 3.81417298e+00, 3.60277841e+00, 3.46960818e+00,\n",
      "        2.88038286e+00, 2.41452750e+00, 2.12105701e+00, 1.93618219e+00,\n",
      "        1.81971835e+00, 1.74635073e+00, 1.70013202e+00, 1.67101606e+00,\n",
      "        1.65267415e+00, 1.64111948e+00, 1.63384049e+00, 1.62925501e+00,\n",
      "        1.62636634e+00, 1.62454659e+00, 1.62340023e+00, 1.62267806e+00,\n",
      "        1.62222312e+00, 1.62193653e+00, 1.62175599e+00, 1.62164225e+00,\n",
      "        1.62157061e+00, 1.62152547e+00, 1.62149704e+00, 1.62147912e+00,\n",
      "        1.62146784e+00, 1.62146073e+00, 1.62145625e+00, 1.62145343e+00,\n",
      "        1.62145166e+00, 1.62145054e+00, 1.62144983e+00, 1.62144939e+00,\n",
      "        1.62144911e+00, 1.62144893e+00, 1.62144882e+00, 1.62144875e+00,\n",
      "        1.62144871e+00, 1.62144868e+00, 1.62144866e+00],\n",
      "       [0.00000000e+00, 0.00000000e+00, 0.00000000e+00, 0.00000000e+00,\n",
      "        0.00000000e+00, 0.00000000e+00, 0.00000000e+00, 0.00000000e+00,\n",
      "        0.00000000e+00, 0.00000000e+00, 0.00000000e+00, 0.00000000e+00,\n",
      "        0.00000000e+00, 4.34786246e+01, 3.98700745e+01, 3.65610195e+01,\n",
      "        3.35266027e+01, 3.07440303e+01, 2.81924001e+01, 2.58525448e+01,\n",
      "        2.37068882e+01, 2.17393123e+01, 1.99350373e+01, 1.82805098e+01,\n",
      "        1.67633014e+01, 1.53720151e+01, 1.40962000e+01, 1.29262724e+01,\n",
      "        1.18534441e+01, 1.08696561e+01, 9.96751863e+00, 9.14025489e+00,\n",
      "        8.38165069e+00, 7.68600757e+00, 7.04810002e+00, 6.46313621e+00,\n",
      "        5.92672204e+00, 5.43482807e+00, 4.98375932e+00, 4.57012744e+00,\n",
      "        4.19082534e+00, 3.84300378e+00, 3.52405001e+00, 3.23156811e+00,\n",
      "        2.96336102e+00, 2.71741404e+00, 2.49187966e+00, 2.28506372e+00,\n",
      "        2.09541267e+00, 1.92150189e+00, 1.76202500e+00, 1.61578405e+00,\n",
      "        1.48168051e+00, 1.35870702e+00, 1.24593983e+00, 1.14253186e+00,\n",
      "        1.04770634e+00, 9.60750946e-01, 8.81012502e-01, 8.07892026e-01,\n",
      "        7.40840255e-01, 6.79353509e-01, 6.22969914e-01, 5.71265930e-01,\n",
      "        5.23853168e-01, 4.80375473e-01, 4.40506251e-01, 4.03946013e-01,\n",
      "        3.70420127e-01, 3.39676754e-01, 3.11484957e-01, 2.85632965e-01,\n",
      "        2.61926584e-01, 2.40187737e-01, 2.20253126e-01, 2.01973007e-01,\n",
      "        1.85210064e-01, 1.69838377e-01, 1.55742479e-01, 1.42816483e-01,\n",
      "        1.30963292e-01, 1.20093868e-01, 1.10126563e-01, 1.00986503e-01,\n",
      "        9.26050318e-02, 8.49191886e-02, 7.78712393e-02, 7.14082413e-02,\n",
      "        6.54816460e-02, 6.00469341e-02, 5.50632814e-02]])}\n"
     ]
    }
   ],
   "source": [
    "data_feed = {'T': T, 'W': W, 'ND': 8, 'E': E, 'D': D}\n",
    "print(data_feed)\n"
   ]
  },
  {
   "cell_type": "code",
   "execution_count": 37,
   "metadata": {},
   "outputs": [
    {
     "name": "stderr",
     "output_type": "stream",
     "text": [
      "INFO:pystan:COMPILING THE C++ CODE FOR MODEL anon_model_b1a592e43ff9fe498d44cc2ccf148e37 NOW.\n"
     ]
    },
    {
     "ename": "RuntimeError",
     "evalue": "Initialization failed.",
     "output_type": "error",
     "traceback": [
      "\u001b[1;31m---------------------------------------------------------------------------\u001b[0m",
      "\u001b[1;31mRemoteTraceback\u001b[0m                           Traceback (most recent call last)",
      "\u001b[1;31mRemoteTraceback\u001b[0m: \n\"\"\"\nTraceback (most recent call last):\n  File \"C:\\Users\\Harsh\\anaconda3\\lib\\multiprocessing\\pool.py\", line 121, in worker\n    result = (True, func(*args, **kwds))\n  File \"C:\\Users\\Harsh\\anaconda3\\lib\\multiprocessing\\pool.py\", line 44, in mapstar\n    return list(map(*args))\n  File \"stanfit4anon_model_b1a592e43ff9fe498d44cc2ccf148e37_8286600242148129966.pyx\", line 373, in stanfit4anon_model_b1a592e43ff9fe498d44cc2ccf148e37_8286600242148129966._call_sampler_star\n  File \"stanfit4anon_model_b1a592e43ff9fe498d44cc2ccf148e37_8286600242148129966.pyx\", line 406, in stanfit4anon_model_b1a592e43ff9fe498d44cc2ccf148e37_8286600242148129966._call_sampler\nRuntimeError: Initialization failed.\n\"\"\"",
      "\nThe above exception was the direct cause of the following exception:\n",
      "\u001b[1;31mRuntimeError\u001b[0m                              Traceback (most recent call last)",
      "\u001b[1;32m<ipython-input-37-d5290e26ecbc>\u001b[0m in \u001b[0;36m<module>\u001b[1;34m\u001b[0m\n\u001b[0;32m      1\u001b[0m \u001b[0msm\u001b[0m \u001b[1;33m=\u001b[0m \u001b[0mpystan\u001b[0m\u001b[1;33m.\u001b[0m\u001b[0mStanModel\u001b[0m\u001b[1;33m(\u001b[0m\u001b[0mmodel_code\u001b[0m\u001b[1;33m=\u001b[0m\u001b[0mstan_model\u001b[0m\u001b[1;33m)\u001b[0m\u001b[1;33m\u001b[0m\u001b[1;33m\u001b[0m\u001b[0m\n\u001b[1;32m----> 2\u001b[1;33m \u001b[0mfit\u001b[0m \u001b[1;33m=\u001b[0m \u001b[0msm\u001b[0m\u001b[1;33m.\u001b[0m\u001b[0msampling\u001b[0m\u001b[1;33m(\u001b[0m\u001b[0mdata\u001b[0m\u001b[1;33m=\u001b[0m\u001b[0mdata_feed\u001b[0m\u001b[1;33m,\u001b[0m \u001b[0miter\u001b[0m\u001b[1;33m=\u001b[0m\u001b[1;36m10\u001b[0m\u001b[1;33m)\u001b[0m\u001b[1;33m\u001b[0m\u001b[1;33m\u001b[0m\u001b[0m\n\u001b[0m",
      "\u001b[1;32m~\\anaconda3\\lib\\site-packages\\pystan\\model.py\u001b[0m in \u001b[0;36msampling\u001b[1;34m(self, data, pars, chains, iter, warmup, thin, seed, init, sample_file, diagnostic_file, verbose, algorithm, control, n_jobs, **kwargs)\u001b[0m\n\u001b[0;32m    811\u001b[0m         \u001b[0mcall_sampler_args\u001b[0m \u001b[1;33m=\u001b[0m \u001b[0mizip\u001b[0m\u001b[1;33m(\u001b[0m\u001b[0mitertools\u001b[0m\u001b[1;33m.\u001b[0m\u001b[0mrepeat\u001b[0m\u001b[1;33m(\u001b[0m\u001b[0mdata\u001b[0m\u001b[1;33m)\u001b[0m\u001b[1;33m,\u001b[0m \u001b[0margs_list\u001b[0m\u001b[1;33m,\u001b[0m \u001b[0mitertools\u001b[0m\u001b[1;33m.\u001b[0m\u001b[0mrepeat\u001b[0m\u001b[1;33m(\u001b[0m\u001b[0mpars\u001b[0m\u001b[1;33m)\u001b[0m\u001b[1;33m)\u001b[0m\u001b[1;33m\u001b[0m\u001b[1;33m\u001b[0m\u001b[0m\n\u001b[0;32m    812\u001b[0m         \u001b[0mcall_sampler_star\u001b[0m \u001b[1;33m=\u001b[0m \u001b[0mself\u001b[0m\u001b[1;33m.\u001b[0m\u001b[0mmodule\u001b[0m\u001b[1;33m.\u001b[0m\u001b[0m_call_sampler_star\u001b[0m\u001b[1;33m\u001b[0m\u001b[1;33m\u001b[0m\u001b[0m\n\u001b[1;32m--> 813\u001b[1;33m         \u001b[0mret_and_samples\u001b[0m \u001b[1;33m=\u001b[0m \u001b[0m_map_parallel\u001b[0m\u001b[1;33m(\u001b[0m\u001b[0mcall_sampler_star\u001b[0m\u001b[1;33m,\u001b[0m \u001b[0mcall_sampler_args\u001b[0m\u001b[1;33m,\u001b[0m \u001b[0mn_jobs\u001b[0m\u001b[1;33m)\u001b[0m\u001b[1;33m\u001b[0m\u001b[1;33m\u001b[0m\u001b[0m\n\u001b[0m\u001b[0;32m    814\u001b[0m         \u001b[0msamples\u001b[0m \u001b[1;33m=\u001b[0m \u001b[1;33m[\u001b[0m\u001b[0msmpl\u001b[0m \u001b[1;32mfor\u001b[0m \u001b[0m_\u001b[0m\u001b[1;33m,\u001b[0m \u001b[0msmpl\u001b[0m \u001b[1;32min\u001b[0m \u001b[0mret_and_samples\u001b[0m\u001b[1;33m]\u001b[0m\u001b[1;33m\u001b[0m\u001b[1;33m\u001b[0m\u001b[0m\n\u001b[0;32m    815\u001b[0m \u001b[1;33m\u001b[0m\u001b[0m\n",
      "\u001b[1;32m~\\anaconda3\\lib\\site-packages\\pystan\\model.py\u001b[0m in \u001b[0;36m_map_parallel\u001b[1;34m(function, args, n_jobs)\u001b[0m\n\u001b[0;32m     83\u001b[0m         \u001b[1;32mtry\u001b[0m\u001b[1;33m:\u001b[0m\u001b[1;33m\u001b[0m\u001b[1;33m\u001b[0m\u001b[0m\n\u001b[0;32m     84\u001b[0m             \u001b[0mpool\u001b[0m \u001b[1;33m=\u001b[0m \u001b[0mmultiprocessing\u001b[0m\u001b[1;33m.\u001b[0m\u001b[0mPool\u001b[0m\u001b[1;33m(\u001b[0m\u001b[0mprocesses\u001b[0m\u001b[1;33m=\u001b[0m\u001b[0mn_jobs\u001b[0m\u001b[1;33m)\u001b[0m\u001b[1;33m\u001b[0m\u001b[1;33m\u001b[0m\u001b[0m\n\u001b[1;32m---> 85\u001b[1;33m             \u001b[0mmap_result\u001b[0m \u001b[1;33m=\u001b[0m \u001b[0mpool\u001b[0m\u001b[1;33m.\u001b[0m\u001b[0mmap\u001b[0m\u001b[1;33m(\u001b[0m\u001b[0mfunction\u001b[0m\u001b[1;33m,\u001b[0m \u001b[0margs\u001b[0m\u001b[1;33m)\u001b[0m\u001b[1;33m\u001b[0m\u001b[1;33m\u001b[0m\u001b[0m\n\u001b[0m\u001b[0;32m     86\u001b[0m         \u001b[1;32mfinally\u001b[0m\u001b[1;33m:\u001b[0m\u001b[1;33m\u001b[0m\u001b[1;33m\u001b[0m\u001b[0m\n\u001b[0;32m     87\u001b[0m             \u001b[0mpool\u001b[0m\u001b[1;33m.\u001b[0m\u001b[0mclose\u001b[0m\u001b[1;33m(\u001b[0m\u001b[1;33m)\u001b[0m\u001b[1;33m\u001b[0m\u001b[1;33m\u001b[0m\u001b[0m\n",
      "\u001b[1;32m~\\anaconda3\\lib\\multiprocessing\\pool.py\u001b[0m in \u001b[0;36mmap\u001b[1;34m(self, func, iterable, chunksize)\u001b[0m\n\u001b[0;32m    266\u001b[0m         \u001b[1;32min\u001b[0m \u001b[0ma\u001b[0m \u001b[0mlist\u001b[0m \u001b[0mthat\u001b[0m \u001b[1;32mis\u001b[0m \u001b[0mreturned\u001b[0m\u001b[1;33m.\u001b[0m\u001b[1;33m\u001b[0m\u001b[1;33m\u001b[0m\u001b[0m\n\u001b[0;32m    267\u001b[0m         '''\n\u001b[1;32m--> 268\u001b[1;33m         \u001b[1;32mreturn\u001b[0m \u001b[0mself\u001b[0m\u001b[1;33m.\u001b[0m\u001b[0m_map_async\u001b[0m\u001b[1;33m(\u001b[0m\u001b[0mfunc\u001b[0m\u001b[1;33m,\u001b[0m \u001b[0miterable\u001b[0m\u001b[1;33m,\u001b[0m \u001b[0mmapstar\u001b[0m\u001b[1;33m,\u001b[0m \u001b[0mchunksize\u001b[0m\u001b[1;33m)\u001b[0m\u001b[1;33m.\u001b[0m\u001b[0mget\u001b[0m\u001b[1;33m(\u001b[0m\u001b[1;33m)\u001b[0m\u001b[1;33m\u001b[0m\u001b[1;33m\u001b[0m\u001b[0m\n\u001b[0m\u001b[0;32m    269\u001b[0m \u001b[1;33m\u001b[0m\u001b[0m\n\u001b[0;32m    270\u001b[0m     \u001b[1;32mdef\u001b[0m \u001b[0mstarmap\u001b[0m\u001b[1;33m(\u001b[0m\u001b[0mself\u001b[0m\u001b[1;33m,\u001b[0m \u001b[0mfunc\u001b[0m\u001b[1;33m,\u001b[0m \u001b[0miterable\u001b[0m\u001b[1;33m,\u001b[0m \u001b[0mchunksize\u001b[0m\u001b[1;33m=\u001b[0m\u001b[1;32mNone\u001b[0m\u001b[1;33m)\u001b[0m\u001b[1;33m:\u001b[0m\u001b[1;33m\u001b[0m\u001b[1;33m\u001b[0m\u001b[0m\n",
      "\u001b[1;32m~\\anaconda3\\lib\\multiprocessing\\pool.py\u001b[0m in \u001b[0;36mget\u001b[1;34m(self, timeout)\u001b[0m\n\u001b[0;32m    655\u001b[0m             \u001b[1;32mreturn\u001b[0m \u001b[0mself\u001b[0m\u001b[1;33m.\u001b[0m\u001b[0m_value\u001b[0m\u001b[1;33m\u001b[0m\u001b[1;33m\u001b[0m\u001b[0m\n\u001b[0;32m    656\u001b[0m         \u001b[1;32melse\u001b[0m\u001b[1;33m:\u001b[0m\u001b[1;33m\u001b[0m\u001b[1;33m\u001b[0m\u001b[0m\n\u001b[1;32m--> 657\u001b[1;33m             \u001b[1;32mraise\u001b[0m \u001b[0mself\u001b[0m\u001b[1;33m.\u001b[0m\u001b[0m_value\u001b[0m\u001b[1;33m\u001b[0m\u001b[1;33m\u001b[0m\u001b[0m\n\u001b[0m\u001b[0;32m    658\u001b[0m \u001b[1;33m\u001b[0m\u001b[0m\n\u001b[0;32m    659\u001b[0m     \u001b[1;32mdef\u001b[0m \u001b[0m_set\u001b[0m\u001b[1;33m(\u001b[0m\u001b[0mself\u001b[0m\u001b[1;33m,\u001b[0m \u001b[0mi\u001b[0m\u001b[1;33m,\u001b[0m \u001b[0mobj\u001b[0m\u001b[1;33m)\u001b[0m\u001b[1;33m:\u001b[0m\u001b[1;33m\u001b[0m\u001b[1;33m\u001b[0m\u001b[0m\n",
      "\u001b[1;31mRuntimeError\u001b[0m: Initialization failed."
     ]
    }
   ],
   "source": [
    "sm = pystan.StanModel(model_code=pd_model)\n",
    "fit = sm.sampling(data=data_feed, iter=10)"
   ]
  }
 ],
 "metadata": {
  "kernelspec": {
   "display_name": "Python 3",
   "language": "python",
   "name": "python3"
  },
  "language_info": {
   "codemirror_mode": {
    "name": "ipython",
    "version": 3
   },
   "file_extension": ".py",
   "mimetype": "text/x-python",
   "name": "python",
   "nbconvert_exporter": "python",
   "pygments_lexer": "ipython3",
   "version": "3.7.6"
  }
 },
 "nbformat": 4,
 "nbformat_minor": 4
}
