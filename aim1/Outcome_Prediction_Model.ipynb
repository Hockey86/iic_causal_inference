{
 "cells": [
  {
   "cell_type": "code",
   "execution_count": 1,
   "metadata": {},
   "outputs": [],
   "source": [
    "## Part1:"
   ]
  },
  {
   "cell_type": "code",
   "execution_count": 1,
   "metadata": {},
   "outputs": [],
   "source": [
    "import sklearn\n",
    "import pandas as pd\n",
    "import numpy as np\n"
   ]
  },
  {
   "cell_type": "code",
   "execution_count": 2,
   "metadata": {},
   "outputs": [],
   "source": [
    "C = pd.read_csv('/home/kentaro/Dropbox/step1_output_2000pt/covariates.csv')"
   ]
  },
  {
   "cell_type": "code",
   "execution_count": 3,
   "metadata": {},
   "outputs": [
    {
     "data": {
      "text/html": [
       "<div>\n",
       "<style scoped>\n",
       "    .dataframe tbody tr th:only-of-type {\n",
       "        vertical-align: middle;\n",
       "    }\n",
       "\n",
       "    .dataframe tbody tr th {\n",
       "        vertical-align: top;\n",
       "    }\n",
       "\n",
       "    .dataframe thead th {\n",
       "        text-align: right;\n",
       "    }\n",
       "</style>\n",
       "<table border=\"1\" class=\"dataframe\">\n",
       "  <thead>\n",
       "    <tr style=\"text-align: right;\">\n",
       "      <th></th>\n",
       "      <th>Index</th>\n",
       "      <th>Gender</th>\n",
       "      <th>Age</th>\n",
       "      <th>marrital</th>\n",
       "      <th>APACHE II  first 24</th>\n",
       "      <th>Hx CVA (including TIA)</th>\n",
       "      <th>Hx HTN</th>\n",
       "      <th>Hx Sz /epilepsy</th>\n",
       "      <th>Hx brain surgery</th>\n",
       "      <th>Hx CKD</th>\n",
       "      <th>...</th>\n",
       "      <th>iGCS-Total</th>\n",
       "      <th>iGCS = T?</th>\n",
       "      <th>iGCS-E</th>\n",
       "      <th>iGCS-V</th>\n",
       "      <th>iGCS-M</th>\n",
       "      <th>Worst GCS in 1st 24</th>\n",
       "      <th>Worst GCS Intubation status</th>\n",
       "      <th>iGCS actual scores</th>\n",
       "      <th>neuro_dx_Seizures/status epilepticus</th>\n",
       "      <th>prim_dx_Respiratory disorders</th>\n",
       "    </tr>\n",
       "  </thead>\n",
       "  <tbody>\n",
       "    <tr>\n",
       "      <th>0</th>\n",
       "      <td>sid1</td>\n",
       "      <td>0</td>\n",
       "      <td>19.93</td>\n",
       "      <td>0.0</td>\n",
       "      <td>NaN</td>\n",
       "      <td>0.0</td>\n",
       "      <td>0.0</td>\n",
       "      <td>0.0</td>\n",
       "      <td>0.0</td>\n",
       "      <td>0.0</td>\n",
       "      <td>...</td>\n",
       "      <td>11</td>\n",
       "      <td>0</td>\n",
       "      <td>4</td>\n",
       "      <td>1</td>\n",
       "      <td>6</td>\n",
       "      <td>11</td>\n",
       "      <td>0</td>\n",
       "      <td>11</td>\n",
       "      <td>0</td>\n",
       "      <td>0</td>\n",
       "    </tr>\n",
       "    <tr>\n",
       "      <th>1</th>\n",
       "      <td>sid2</td>\n",
       "      <td>0</td>\n",
       "      <td>85.01</td>\n",
       "      <td>0.0</td>\n",
       "      <td>NaN</td>\n",
       "      <td>0.0</td>\n",
       "      <td>1.0</td>\n",
       "      <td>0.0</td>\n",
       "      <td>0.0</td>\n",
       "      <td>1.0</td>\n",
       "      <td>...</td>\n",
       "      <td>7</td>\n",
       "      <td>0</td>\n",
       "      <td>1</td>\n",
       "      <td>2</td>\n",
       "      <td>4</td>\n",
       "      <td>3</td>\n",
       "      <td>1</td>\n",
       "      <td>3</td>\n",
       "      <td>0</td>\n",
       "      <td>1</td>\n",
       "    </tr>\n",
       "    <tr>\n",
       "      <th>2</th>\n",
       "      <td>sid3</td>\n",
       "      <td>1</td>\n",
       "      <td>45.91</td>\n",
       "      <td>1.0</td>\n",
       "      <td>NaN</td>\n",
       "      <td>0.0</td>\n",
       "      <td>0.0</td>\n",
       "      <td>1.0</td>\n",
       "      <td>0.0</td>\n",
       "      <td>0.0</td>\n",
       "      <td>...</td>\n",
       "      <td>8</td>\n",
       "      <td>0</td>\n",
       "      <td>3</td>\n",
       "      <td>1</td>\n",
       "      <td>4</td>\n",
       "      <td>8</td>\n",
       "      <td>0</td>\n",
       "      <td>8</td>\n",
       "      <td>0</td>\n",
       "      <td>1</td>\n",
       "    </tr>\n",
       "    <tr>\n",
       "      <th>3</th>\n",
       "      <td>sid4</td>\n",
       "      <td>1</td>\n",
       "      <td>53.99</td>\n",
       "      <td>1.0</td>\n",
       "      <td>NaN</td>\n",
       "      <td>0.0</td>\n",
       "      <td>0.0</td>\n",
       "      <td>0.0</td>\n",
       "      <td>1.0</td>\n",
       "      <td>0.0</td>\n",
       "      <td>...</td>\n",
       "      <td>4</td>\n",
       "      <td>0</td>\n",
       "      <td>1</td>\n",
       "      <td>2</td>\n",
       "      <td>1</td>\n",
       "      <td>3</td>\n",
       "      <td>1</td>\n",
       "      <td>4</td>\n",
       "      <td>0</td>\n",
       "      <td>1</td>\n",
       "    </tr>\n",
       "    <tr>\n",
       "      <th>4</th>\n",
       "      <td>sid5</td>\n",
       "      <td>1</td>\n",
       "      <td>23.08</td>\n",
       "      <td>0.0</td>\n",
       "      <td>NaN</td>\n",
       "      <td>0.0</td>\n",
       "      <td>0.0</td>\n",
       "      <td>1.0</td>\n",
       "      <td>0.0</td>\n",
       "      <td>0.0</td>\n",
       "      <td>...</td>\n",
       "      <td>6</td>\n",
       "      <td>1</td>\n",
       "      <td>1</td>\n",
       "      <td>1</td>\n",
       "      <td>4</td>\n",
       "      <td>3</td>\n",
       "      <td>1</td>\n",
       "      <td>6</td>\n",
       "      <td>1</td>\n",
       "      <td>0</td>\n",
       "    </tr>\n",
       "    <tr>\n",
       "      <th>...</th>\n",
       "      <td>...</td>\n",
       "      <td>...</td>\n",
       "      <td>...</td>\n",
       "      <td>...</td>\n",
       "      <td>...</td>\n",
       "      <td>...</td>\n",
       "      <td>...</td>\n",
       "      <td>...</td>\n",
       "      <td>...</td>\n",
       "      <td>...</td>\n",
       "      <td>...</td>\n",
       "      <td>...</td>\n",
       "      <td>...</td>\n",
       "      <td>...</td>\n",
       "      <td>...</td>\n",
       "      <td>...</td>\n",
       "      <td>...</td>\n",
       "      <td>...</td>\n",
       "      <td>...</td>\n",
       "      <td>...</td>\n",
       "      <td>...</td>\n",
       "    </tr>\n",
       "    <tr>\n",
       "      <th>1994</th>\n",
       "      <td>sid1996</td>\n",
       "      <td>1</td>\n",
       "      <td>80.20</td>\n",
       "      <td>1.0</td>\n",
       "      <td>NaN</td>\n",
       "      <td>0.0</td>\n",
       "      <td>1.0</td>\n",
       "      <td>0.0</td>\n",
       "      <td>0.0</td>\n",
       "      <td>0.0</td>\n",
       "      <td>...</td>\n",
       "      <td>5</td>\n",
       "      <td>1</td>\n",
       "      <td>1</td>\n",
       "      <td>1</td>\n",
       "      <td>3</td>\n",
       "      <td>3</td>\n",
       "      <td>1</td>\n",
       "      <td>5</td>\n",
       "      <td>1</td>\n",
       "      <td>0</td>\n",
       "    </tr>\n",
       "    <tr>\n",
       "      <th>1995</th>\n",
       "      <td>sid1997</td>\n",
       "      <td>1</td>\n",
       "      <td>60.44</td>\n",
       "      <td>0.0</td>\n",
       "      <td>NaN</td>\n",
       "      <td>0.0</td>\n",
       "      <td>0.0</td>\n",
       "      <td>1.0</td>\n",
       "      <td>0.0</td>\n",
       "      <td>0.0</td>\n",
       "      <td>...</td>\n",
       "      <td>3</td>\n",
       "      <td>1</td>\n",
       "      <td>1</td>\n",
       "      <td>1</td>\n",
       "      <td>1</td>\n",
       "      <td>3</td>\n",
       "      <td>1</td>\n",
       "      <td>3</td>\n",
       "      <td>1</td>\n",
       "      <td>0</td>\n",
       "    </tr>\n",
       "    <tr>\n",
       "      <th>1996</th>\n",
       "      <td>sid1998</td>\n",
       "      <td>1</td>\n",
       "      <td>28.75</td>\n",
       "      <td>1.0</td>\n",
       "      <td>NaN</td>\n",
       "      <td>0.0</td>\n",
       "      <td>0.0</td>\n",
       "      <td>0.0</td>\n",
       "      <td>0.0</td>\n",
       "      <td>0.0</td>\n",
       "      <td>...</td>\n",
       "      <td>13</td>\n",
       "      <td>0</td>\n",
       "      <td>4</td>\n",
       "      <td>3</td>\n",
       "      <td>6</td>\n",
       "      <td>13</td>\n",
       "      <td>0</td>\n",
       "      <td>13</td>\n",
       "      <td>0</td>\n",
       "      <td>0</td>\n",
       "    </tr>\n",
       "    <tr>\n",
       "      <th>1997</th>\n",
       "      <td>sid1999</td>\n",
       "      <td>1</td>\n",
       "      <td>50.08</td>\n",
       "      <td>0.0</td>\n",
       "      <td>NaN</td>\n",
       "      <td>0.0</td>\n",
       "      <td>0.0</td>\n",
       "      <td>1.0</td>\n",
       "      <td>1.0</td>\n",
       "      <td>0.0</td>\n",
       "      <td>...</td>\n",
       "      <td>12</td>\n",
       "      <td>0</td>\n",
       "      <td>2</td>\n",
       "      <td>4</td>\n",
       "      <td>6</td>\n",
       "      <td>12</td>\n",
       "      <td>0</td>\n",
       "      <td>12</td>\n",
       "      <td>1</td>\n",
       "      <td>0</td>\n",
       "    </tr>\n",
       "    <tr>\n",
       "      <th>1998</th>\n",
       "      <td>sid2000</td>\n",
       "      <td>0</td>\n",
       "      <td>53.44</td>\n",
       "      <td>1.0</td>\n",
       "      <td>NaN</td>\n",
       "      <td>1.0</td>\n",
       "      <td>1.0</td>\n",
       "      <td>0.0</td>\n",
       "      <td>0.0</td>\n",
       "      <td>1.0</td>\n",
       "      <td>...</td>\n",
       "      <td>12</td>\n",
       "      <td>0</td>\n",
       "      <td>4</td>\n",
       "      <td>4</td>\n",
       "      <td>4</td>\n",
       "      <td>12</td>\n",
       "      <td>0</td>\n",
       "      <td>12</td>\n",
       "      <td>0</td>\n",
       "      <td>0</td>\n",
       "    </tr>\n",
       "  </tbody>\n",
       "</table>\n",
       "<p>1999 rows × 38 columns</p>\n",
       "</div>"
      ],
      "text/plain": [
       "        Index  Gender    Age  marrital  APACHE II  first 24  \\\n",
       "0        sid1       0  19.93       0.0                  NaN   \n",
       "1        sid2       0  85.01       0.0                  NaN   \n",
       "2        sid3       1  45.91       1.0                  NaN   \n",
       "3        sid4       1  53.99       1.0                  NaN   \n",
       "4        sid5       1  23.08       0.0                  NaN   \n",
       "...       ...     ...    ...       ...                  ...   \n",
       "1994  sid1996       1  80.20       1.0                  NaN   \n",
       "1995  sid1997       1  60.44       0.0                  NaN   \n",
       "1996  sid1998       1  28.75       1.0                  NaN   \n",
       "1997  sid1999       1  50.08       0.0                  NaN   \n",
       "1998  sid2000       0  53.44       1.0                  NaN   \n",
       "\n",
       "      Hx CVA (including TIA)  Hx HTN  Hx Sz /epilepsy  Hx brain surgery  \\\n",
       "0                        0.0     0.0              0.0               0.0   \n",
       "1                        0.0     1.0              0.0               0.0   \n",
       "2                        0.0     0.0              1.0               0.0   \n",
       "3                        0.0     0.0              0.0               1.0   \n",
       "4                        0.0     0.0              1.0               0.0   \n",
       "...                      ...     ...              ...               ...   \n",
       "1994                     0.0     1.0              0.0               0.0   \n",
       "1995                     0.0     0.0              1.0               0.0   \n",
       "1996                     0.0     0.0              0.0               0.0   \n",
       "1997                     0.0     0.0              1.0               1.0   \n",
       "1998                     1.0     1.0              0.0               0.0   \n",
       "\n",
       "      Hx CKD  ...  iGCS-Total  iGCS = T?  iGCS-E  iGCS-V  iGCS-M  \\\n",
       "0        0.0  ...          11          0       4       1       6   \n",
       "1        1.0  ...           7          0       1       2       4   \n",
       "2        0.0  ...           8          0       3       1       4   \n",
       "3        0.0  ...           4          0       1       2       1   \n",
       "4        0.0  ...           6          1       1       1       4   \n",
       "...      ...  ...         ...        ...     ...     ...     ...   \n",
       "1994     0.0  ...           5          1       1       1       3   \n",
       "1995     0.0  ...           3          1       1       1       1   \n",
       "1996     0.0  ...          13          0       4       3       6   \n",
       "1997     0.0  ...          12          0       2       4       6   \n",
       "1998     1.0  ...          12          0       4       4       4   \n",
       "\n",
       "      Worst GCS in 1st 24  Worst GCS Intubation status  iGCS actual scores  \\\n",
       "0                      11                            0                  11   \n",
       "1                       3                            1                   3   \n",
       "2                       8                            0                   8   \n",
       "3                       3                            1                   4   \n",
       "4                       3                            1                   6   \n",
       "...                   ...                          ...                 ...   \n",
       "1994                    3                            1                   5   \n",
       "1995                    3                            1                   3   \n",
       "1996                   13                            0                  13   \n",
       "1997                   12                            0                  12   \n",
       "1998                   12                            0                  12   \n",
       "\n",
       "      neuro_dx_Seizures/status epilepticus  prim_dx_Respiratory disorders  \n",
       "0                                        0                              0  \n",
       "1                                        0                              1  \n",
       "2                                        0                              1  \n",
       "3                                        0                              1  \n",
       "4                                        1                              0  \n",
       "...                                    ...                            ...  \n",
       "1994                                     1                              0  \n",
       "1995                                     1                              0  \n",
       "1996                                     0                              0  \n",
       "1997                                     1                              0  \n",
       "1998                                     0                              0  \n",
       "\n",
       "[1999 rows x 38 columns]"
      ]
     },
     "execution_count": 3,
     "metadata": {},
     "output_type": "execute_result"
    }
   ],
   "source": [
    "C"
   ]
  },
  {
   "cell_type": "code",
   "execution_count": 4,
   "metadata": {},
   "outputs": [],
   "source": [
    "#APACHE has a lot of missing parameters so we will remove it from the dataframe\n",
    "C = C.drop(['APACHE II  first 24'], axis=1)\n"
   ]
  },
  {
   "cell_type": "code",
   "execution_count": 5,
   "metadata": {},
   "outputs": [
    {
     "data": {
      "text/plain": [
       "Index(['Index', 'Gender', 'Age', 'marrital', 'Hx CVA (including TIA)',\n",
       "       'Hx HTN', 'Hx Sz /epilepsy', 'Hx brain surgery', 'Hx CKD', 'Hx CAD/MI',\n",
       "       'Hx CHF', 'Hx DM', 'Hx of HLD', 'Hx tobacco (including ex-smokers)',\n",
       "       'Hx ETOH abuse any time in their life (just when in the hx is mentioned)',\n",
       "       'Hx other substance abuse, any time in their life',\n",
       "       'Hx cancer (other than CNS cancer)', 'Hx CNS cancer', 'Hx COPD/ Asthma',\n",
       "       'premorbid MRS before admission  (modified ranking scale),before admission',\n",
       "       'SZ at presentation,(exclude non-convulsive seizures) just if it is mentioned in MGH notes (the date is necessary, however,the date is the day of admission at MGH)',\n",
       "       'hydrocephalus  (either on admission or during hospital course)   QPID',\n",
       "       'iMV  (initial (on admission) mechanical ventilation)', 'systolic BP',\n",
       "       'diastolic BP', 'Midline shift with any reason ( Document Date)',\n",
       "       'Primary systemic dx Sepsis/Shock', 'iGCS-Total', 'iGCS = T?', 'iGCS-E',\n",
       "       'iGCS-V', 'iGCS-M', 'Worst GCS in 1st 24',\n",
       "       'Worst GCS Intubation status', 'iGCS actual scores',\n",
       "       'neuro_dx_Seizures/status epilepticus',\n",
       "       'prim_dx_Respiratory disorders'],\n",
       "      dtype='object')"
      ]
     },
     "execution_count": 5,
     "metadata": {},
     "output_type": "execute_result"
    }
   ],
   "source": [
    "C.columns"
   ]
  },
  {
   "cell_type": "code",
   "execution_count": 6,
   "metadata": {},
   "outputs": [
    {
     "data": {
      "text/html": [
       "<div>\n",
       "<style scoped>\n",
       "    .dataframe tbody tr th:only-of-type {\n",
       "        vertical-align: middle;\n",
       "    }\n",
       "\n",
       "    .dataframe tbody tr th {\n",
       "        vertical-align: top;\n",
       "    }\n",
       "\n",
       "    .dataframe thead th {\n",
       "        text-align: right;\n",
       "    }\n",
       "</style>\n",
       "<table border=\"1\" class=\"dataframe\">\n",
       "  <thead>\n",
       "    <tr style=\"text-align: right;\">\n",
       "      <th></th>\n",
       "      <th>Index</th>\n",
       "      <th>Gender</th>\n",
       "      <th>Age</th>\n",
       "      <th>marrital</th>\n",
       "      <th>Hx CVA (including TIA)</th>\n",
       "      <th>Hx HTN</th>\n",
       "      <th>Hx Sz /epilepsy</th>\n",
       "      <th>Hx brain surgery</th>\n",
       "      <th>Hx CKD</th>\n",
       "      <th>Hx CAD/MI</th>\n",
       "      <th>...</th>\n",
       "      <th>iGCS-Total</th>\n",
       "      <th>iGCS = T?</th>\n",
       "      <th>iGCS-E</th>\n",
       "      <th>iGCS-V</th>\n",
       "      <th>iGCS-M</th>\n",
       "      <th>Worst GCS in 1st 24</th>\n",
       "      <th>Worst GCS Intubation status</th>\n",
       "      <th>iGCS actual scores</th>\n",
       "      <th>neuro_dx_Seizures/status epilepticus</th>\n",
       "      <th>prim_dx_Respiratory disorders</th>\n",
       "    </tr>\n",
       "  </thead>\n",
       "  <tbody>\n",
       "    <tr>\n",
       "      <th>0</th>\n",
       "      <td>sid1</td>\n",
       "      <td>0</td>\n",
       "      <td>-2.276488</td>\n",
       "      <td>0.0</td>\n",
       "      <td>0.0</td>\n",
       "      <td>0.0</td>\n",
       "      <td>0.0</td>\n",
       "      <td>0.0</td>\n",
       "      <td>0.0</td>\n",
       "      <td>0.0</td>\n",
       "      <td>...</td>\n",
       "      <td>0.183509</td>\n",
       "      <td>-0.801601</td>\n",
       "      <td>0.874397</td>\n",
       "      <td>-1.032425</td>\n",
       "      <td>0.770527</td>\n",
       "      <td>0.435355</td>\n",
       "      <td>-0.945932</td>\n",
       "      <td>0.184854</td>\n",
       "      <td>0</td>\n",
       "      <td>0</td>\n",
       "    </tr>\n",
       "    <tr>\n",
       "      <th>1</th>\n",
       "      <td>sid2</td>\n",
       "      <td>0</td>\n",
       "      <td>1.409512</td>\n",
       "      <td>0.0</td>\n",
       "      <td>0.0</td>\n",
       "      <td>1.0</td>\n",
       "      <td>0.0</td>\n",
       "      <td>0.0</td>\n",
       "      <td>1.0</td>\n",
       "      <td>0.0</td>\n",
       "      <td>...</td>\n",
       "      <td>-0.653533</td>\n",
       "      <td>-0.801601</td>\n",
       "      <td>-1.314150</td>\n",
       "      <td>-0.485718</td>\n",
       "      <td>-0.224810</td>\n",
       "      <td>-1.157095</td>\n",
       "      <td>1.057159</td>\n",
       "      <td>-1.491942</td>\n",
       "      <td>0</td>\n",
       "      <td>1</td>\n",
       "    </tr>\n",
       "    <tr>\n",
       "      <th>2</th>\n",
       "      <td>sid3</td>\n",
       "      <td>1</td>\n",
       "      <td>-0.805033</td>\n",
       "      <td>1.0</td>\n",
       "      <td>0.0</td>\n",
       "      <td>0.0</td>\n",
       "      <td>1.0</td>\n",
       "      <td>0.0</td>\n",
       "      <td>0.0</td>\n",
       "      <td>0.0</td>\n",
       "      <td>...</td>\n",
       "      <td>-0.444273</td>\n",
       "      <td>-0.801601</td>\n",
       "      <td>0.144881</td>\n",
       "      <td>-1.032425</td>\n",
       "      <td>-0.224810</td>\n",
       "      <td>-0.161814</td>\n",
       "      <td>-0.945932</td>\n",
       "      <td>-0.443944</td>\n",
       "      <td>0</td>\n",
       "      <td>1</td>\n",
       "    </tr>\n",
       "    <tr>\n",
       "      <th>3</th>\n",
       "      <td>sid4</td>\n",
       "      <td>1</td>\n",
       "      <td>-0.347398</td>\n",
       "      <td>1.0</td>\n",
       "      <td>0.0</td>\n",
       "      <td>0.0</td>\n",
       "      <td>0.0</td>\n",
       "      <td>1.0</td>\n",
       "      <td>0.0</td>\n",
       "      <td>0.0</td>\n",
       "      <td>...</td>\n",
       "      <td>-1.281315</td>\n",
       "      <td>-0.801601</td>\n",
       "      <td>-1.314150</td>\n",
       "      <td>-0.485718</td>\n",
       "      <td>-1.717816</td>\n",
       "      <td>-1.157095</td>\n",
       "      <td>1.057159</td>\n",
       "      <td>-1.282343</td>\n",
       "      <td>0</td>\n",
       "      <td>1</td>\n",
       "    </tr>\n",
       "    <tr>\n",
       "      <th>4</th>\n",
       "      <td>sid5</td>\n",
       "      <td>1</td>\n",
       "      <td>-2.098078</td>\n",
       "      <td>0.0</td>\n",
       "      <td>0.0</td>\n",
       "      <td>0.0</td>\n",
       "      <td>1.0</td>\n",
       "      <td>0.0</td>\n",
       "      <td>0.0</td>\n",
       "      <td>0.0</td>\n",
       "      <td>...</td>\n",
       "      <td>-0.862794</td>\n",
       "      <td>1.247504</td>\n",
       "      <td>-1.314150</td>\n",
       "      <td>-1.032425</td>\n",
       "      <td>-0.224810</td>\n",
       "      <td>-1.157095</td>\n",
       "      <td>1.057159</td>\n",
       "      <td>-0.863144</td>\n",
       "      <td>1</td>\n",
       "      <td>0</td>\n",
       "    </tr>\n",
       "    <tr>\n",
       "      <th>...</th>\n",
       "      <td>...</td>\n",
       "      <td>...</td>\n",
       "      <td>...</td>\n",
       "      <td>...</td>\n",
       "      <td>...</td>\n",
       "      <td>...</td>\n",
       "      <td>...</td>\n",
       "      <td>...</td>\n",
       "      <td>...</td>\n",
       "      <td>...</td>\n",
       "      <td>...</td>\n",
       "      <td>...</td>\n",
       "      <td>...</td>\n",
       "      <td>...</td>\n",
       "      <td>...</td>\n",
       "      <td>...</td>\n",
       "      <td>...</td>\n",
       "      <td>...</td>\n",
       "      <td>...</td>\n",
       "      <td>...</td>\n",
       "      <td>...</td>\n",
       "    </tr>\n",
       "    <tr>\n",
       "      <th>1994</th>\n",
       "      <td>sid1996</td>\n",
       "      <td>1</td>\n",
       "      <td>1.137083</td>\n",
       "      <td>1.0</td>\n",
       "      <td>0.0</td>\n",
       "      <td>1.0</td>\n",
       "      <td>0.0</td>\n",
       "      <td>0.0</td>\n",
       "      <td>0.0</td>\n",
       "      <td>0.0</td>\n",
       "      <td>...</td>\n",
       "      <td>-1.072055</td>\n",
       "      <td>1.247504</td>\n",
       "      <td>-1.314150</td>\n",
       "      <td>-1.032425</td>\n",
       "      <td>-0.722478</td>\n",
       "      <td>-1.157095</td>\n",
       "      <td>1.057159</td>\n",
       "      <td>-1.072743</td>\n",
       "      <td>1</td>\n",
       "      <td>0</td>\n",
       "    </tr>\n",
       "    <tr>\n",
       "      <th>1995</th>\n",
       "      <td>sid1997</td>\n",
       "      <td>1</td>\n",
       "      <td>0.017917</td>\n",
       "      <td>0.0</td>\n",
       "      <td>0.0</td>\n",
       "      <td>0.0</td>\n",
       "      <td>1.0</td>\n",
       "      <td>0.0</td>\n",
       "      <td>0.0</td>\n",
       "      <td>0.0</td>\n",
       "      <td>...</td>\n",
       "      <td>-1.490576</td>\n",
       "      <td>1.247504</td>\n",
       "      <td>-1.314150</td>\n",
       "      <td>-1.032425</td>\n",
       "      <td>-1.717816</td>\n",
       "      <td>-1.157095</td>\n",
       "      <td>1.057159</td>\n",
       "      <td>-1.491942</td>\n",
       "      <td>1</td>\n",
       "      <td>0</td>\n",
       "    </tr>\n",
       "    <tr>\n",
       "      <th>1996</th>\n",
       "      <td>sid1998</td>\n",
       "      <td>1</td>\n",
       "      <td>-1.776941</td>\n",
       "      <td>1.0</td>\n",
       "      <td>0.0</td>\n",
       "      <td>0.0</td>\n",
       "      <td>0.0</td>\n",
       "      <td>0.0</td>\n",
       "      <td>0.0</td>\n",
       "      <td>0.0</td>\n",
       "      <td>...</td>\n",
       "      <td>0.602030</td>\n",
       "      <td>-0.801601</td>\n",
       "      <td>0.874397</td>\n",
       "      <td>0.060988</td>\n",
       "      <td>0.770527</td>\n",
       "      <td>0.833467</td>\n",
       "      <td>-0.945932</td>\n",
       "      <td>0.604054</td>\n",
       "      <td>0</td>\n",
       "      <td>0</td>\n",
       "    </tr>\n",
       "    <tr>\n",
       "      <th>1997</th>\n",
       "      <td>sid1999</td>\n",
       "      <td>1</td>\n",
       "      <td>-0.568853</td>\n",
       "      <td>0.0</td>\n",
       "      <td>0.0</td>\n",
       "      <td>0.0</td>\n",
       "      <td>1.0</td>\n",
       "      <td>1.0</td>\n",
       "      <td>0.0</td>\n",
       "      <td>0.0</td>\n",
       "      <td>...</td>\n",
       "      <td>0.392769</td>\n",
       "      <td>-0.801601</td>\n",
       "      <td>-0.584634</td>\n",
       "      <td>0.607695</td>\n",
       "      <td>0.770527</td>\n",
       "      <td>0.634411</td>\n",
       "      <td>-0.945932</td>\n",
       "      <td>0.394454</td>\n",
       "      <td>1</td>\n",
       "      <td>0</td>\n",
       "    </tr>\n",
       "    <tr>\n",
       "      <th>1998</th>\n",
       "      <td>sid2000</td>\n",
       "      <td>0</td>\n",
       "      <td>-0.378549</td>\n",
       "      <td>1.0</td>\n",
       "      <td>1.0</td>\n",
       "      <td>1.0</td>\n",
       "      <td>0.0</td>\n",
       "      <td>0.0</td>\n",
       "      <td>1.0</td>\n",
       "      <td>0.0</td>\n",
       "      <td>...</td>\n",
       "      <td>0.392769</td>\n",
       "      <td>-0.801601</td>\n",
       "      <td>0.874397</td>\n",
       "      <td>0.607695</td>\n",
       "      <td>-0.224810</td>\n",
       "      <td>0.634411</td>\n",
       "      <td>-0.945932</td>\n",
       "      <td>0.394454</td>\n",
       "      <td>0</td>\n",
       "      <td>0</td>\n",
       "    </tr>\n",
       "  </tbody>\n",
       "</table>\n",
       "<p>1999 rows × 37 columns</p>\n",
       "</div>"
      ],
      "text/plain": [
       "        Index  Gender       Age  marrital  Hx CVA (including TIA)  Hx HTN  \\\n",
       "0        sid1       0 -2.276488       0.0                     0.0     0.0   \n",
       "1        sid2       0  1.409512       0.0                     0.0     1.0   \n",
       "2        sid3       1 -0.805033       1.0                     0.0     0.0   \n",
       "3        sid4       1 -0.347398       1.0                     0.0     0.0   \n",
       "4        sid5       1 -2.098078       0.0                     0.0     0.0   \n",
       "...       ...     ...       ...       ...                     ...     ...   \n",
       "1994  sid1996       1  1.137083       1.0                     0.0     1.0   \n",
       "1995  sid1997       1  0.017917       0.0                     0.0     0.0   \n",
       "1996  sid1998       1 -1.776941       1.0                     0.0     0.0   \n",
       "1997  sid1999       1 -0.568853       0.0                     0.0     0.0   \n",
       "1998  sid2000       0 -0.378549       1.0                     1.0     1.0   \n",
       "\n",
       "      Hx Sz /epilepsy  Hx brain surgery  Hx CKD  Hx CAD/MI  ...  iGCS-Total  \\\n",
       "0                 0.0               0.0     0.0        0.0  ...    0.183509   \n",
       "1                 0.0               0.0     1.0        0.0  ...   -0.653533   \n",
       "2                 1.0               0.0     0.0        0.0  ...   -0.444273   \n",
       "3                 0.0               1.0     0.0        0.0  ...   -1.281315   \n",
       "4                 1.0               0.0     0.0        0.0  ...   -0.862794   \n",
       "...               ...               ...     ...        ...  ...         ...   \n",
       "1994              0.0               0.0     0.0        0.0  ...   -1.072055   \n",
       "1995              1.0               0.0     0.0        0.0  ...   -1.490576   \n",
       "1996              0.0               0.0     0.0        0.0  ...    0.602030   \n",
       "1997              1.0               1.0     0.0        0.0  ...    0.392769   \n",
       "1998              0.0               0.0     1.0        0.0  ...    0.392769   \n",
       "\n",
       "      iGCS = T?    iGCS-E    iGCS-V    iGCS-M  Worst GCS in 1st 24  \\\n",
       "0     -0.801601  0.874397 -1.032425  0.770527             0.435355   \n",
       "1     -0.801601 -1.314150 -0.485718 -0.224810            -1.157095   \n",
       "2     -0.801601  0.144881 -1.032425 -0.224810            -0.161814   \n",
       "3     -0.801601 -1.314150 -0.485718 -1.717816            -1.157095   \n",
       "4      1.247504 -1.314150 -1.032425 -0.224810            -1.157095   \n",
       "...         ...       ...       ...       ...                  ...   \n",
       "1994   1.247504 -1.314150 -1.032425 -0.722478            -1.157095   \n",
       "1995   1.247504 -1.314150 -1.032425 -1.717816            -1.157095   \n",
       "1996  -0.801601  0.874397  0.060988  0.770527             0.833467   \n",
       "1997  -0.801601 -0.584634  0.607695  0.770527             0.634411   \n",
       "1998  -0.801601  0.874397  0.607695 -0.224810             0.634411   \n",
       "\n",
       "      Worst GCS Intubation status  iGCS actual scores  \\\n",
       "0                       -0.945932            0.184854   \n",
       "1                        1.057159           -1.491942   \n",
       "2                       -0.945932           -0.443944   \n",
       "3                        1.057159           -1.282343   \n",
       "4                        1.057159           -0.863144   \n",
       "...                           ...                 ...   \n",
       "1994                     1.057159           -1.072743   \n",
       "1995                     1.057159           -1.491942   \n",
       "1996                    -0.945932            0.604054   \n",
       "1997                    -0.945932            0.394454   \n",
       "1998                    -0.945932            0.394454   \n",
       "\n",
       "      neuro_dx_Seizures/status epilepticus  prim_dx_Respiratory disorders  \n",
       "0                                        0                              0  \n",
       "1                                        0                              1  \n",
       "2                                        0                              1  \n",
       "3                                        0                              1  \n",
       "4                                        1                              0  \n",
       "...                                    ...                            ...  \n",
       "1994                                     1                              0  \n",
       "1995                                     1                              0  \n",
       "1996                                     0                              0  \n",
       "1997                                     1                              0  \n",
       "1998                                     0                              0  \n",
       "\n",
       "[1999 rows x 37 columns]"
      ]
     },
     "execution_count": 6,
     "metadata": {},
     "output_type": "execute_result"
    }
   ],
   "source": [
    "#normalize the numericals\n",
    "C1 = C\n",
    "C1['Age'] = (C['Age'] - np.mean(C['Age']))/np.std(C['Age'])\n",
    "C1['systolic BP'] = (C['systolic BP'] - np.mean(C['systolic BP']))/np.std(C['systolic BP'])\n",
    "C1['diastolic BP'] = (C['diastolic BP'] - np.mean(C['diastolic BP']))/np.std(C['diastolic BP'])\n",
    "\n",
    "# convert ordinal to i-1/2 / M where is ordinal rank and M is total rank. For GCS, M  = 15, For MRS M = 6\n",
    "#C1.iloc[:,27:34] = (C1.iloc[:,27:34]  - 0.5)/15 \n",
    "C1.iloc[:,27:34] = (C1.iloc[:,27:34]  - np.mean(C1.iloc[:,27:34]))/np.std(C1.iloc[:,27:34]) \n",
    "C1['iGCS actual scores'] = (C1['iGCS actual scores']  - np.mean(C1['iGCS actual scores']))/np.std(C1['iGCS actual scores']) \n",
    "#C1['iGCS actual scores'] = (C1['iGCS actual scores']  - 0.5)/15 \n",
    "\n",
    "C1['premorbid MRS before admission  (modified ranking scale),before admission'] = (C1['premorbid MRS before admission  (modified ranking scale),before admission'] - 0.5)/6\n",
    "\n",
    "C1"
   ]
  },
  {
   "cell_type": "code",
   "execution_count": 7,
   "metadata": {},
   "outputs": [
    {
     "name": "stdout",
     "output_type": "stream",
     "text": [
      "[[-1.03513409 -2.27648813 -0.99038682 ...  0.18485449 -0.59371995\n",
      "  -0.63622216]\n",
      " [-1.03513409  1.40951212 -0.99038682 ... -1.49194248 -0.59371995\n",
      "   1.57177801]\n",
      " [ 0.96605841 -0.80503321  1.00970649 ... -0.44394437 -0.59371995\n",
      "   1.57177801]\n",
      " ...\n",
      " [ 0.96605841 -1.77694108  1.00970649 ...  0.60405374 -0.59371995\n",
      "  -0.63622216]\n",
      " [ 0.96605841 -0.5688528  -0.99038682 ...  0.39445412  1.68429576\n",
      "  -0.63622216]\n",
      " [-1.03513409 -0.37854916  1.00970649 ...  0.39445412 -0.59371995\n",
      "  -0.63622216]]\n"
     ]
    }
   ],
   "source": [
    "C1=  C.iloc[:,1:37]\n",
    "from sklearn.preprocessing import StandardScaler\n",
    "scaler = StandardScaler()\n",
    "scaler.fit(C1)\n",
    "print(scaler.transform(C1))\n",
    "\n",
    "C1 = C1 - np.mean(C1) "
   ]
  },
  {
   "cell_type": "code",
   "execution_count": 8,
   "metadata": {},
   "outputs": [
    {
     "data": {
      "text/plain": [
       "array([[-0.51725863, -2.27648813, -0.49517031, ...,  0.18485449,\n",
       "        -0.26063032, -0.28814407],\n",
       "       [-0.51725863,  1.40951212, -0.49517031, ..., -1.49194248,\n",
       "        -0.26063032,  0.71185593],\n",
       "       [ 0.48274137, -0.80503321,  0.50482969, ..., -0.44394437,\n",
       "        -0.26063032,  0.71185593],\n",
       "       ...,\n",
       "       [ 0.48274137, -1.77694108,  0.50482969, ...,  0.60405374,\n",
       "        -0.26063032, -0.28814407],\n",
       "       [ 0.48274137, -0.5688528 , -0.49517031, ...,  0.39445412,\n",
       "         0.73936968, -0.28814407],\n",
       "       [-0.51725863, -0.37854916,  0.50482969, ...,  0.39445412,\n",
       "        -0.26063032, -0.28814407]])"
      ]
     },
     "execution_count": 8,
     "metadata": {},
     "output_type": "execute_result"
    }
   ],
   "source": [
    "#Fill in NAN with most frequent (chosen to avoid binary being repalced with mean)\n",
    "from sklearn.impute import SimpleImputer\n",
    "imp = SimpleImputer(missing_values=np.nan, strategy='most_frequent')\n",
    "imp.fit(C1)\n",
    "C1 = imp.transform(C1)\n",
    "\n",
    "C1\n",
    "#C1 = imp.transform(C.loc[:,C.columns != 'Index'])\n",
    "\n",
    "\n"
   ]
  },
  {
   "cell_type": "code",
   "execution_count": 9,
   "metadata": {},
   "outputs": [
    {
     "data": {
      "text/html": [
       "<div>\n",
       "<style scoped>\n",
       "    .dataframe tbody tr th:only-of-type {\n",
       "        vertical-align: middle;\n",
       "    }\n",
       "\n",
       "    .dataframe tbody tr th {\n",
       "        vertical-align: top;\n",
       "    }\n",
       "\n",
       "    .dataframe thead th {\n",
       "        text-align: right;\n",
       "    }\n",
       "</style>\n",
       "<table border=\"1\" class=\"dataframe\">\n",
       "  <thead>\n",
       "    <tr style=\"text-align: right;\">\n",
       "      <th></th>\n",
       "      <th>Gender</th>\n",
       "      <th>Age</th>\n",
       "      <th>marrital</th>\n",
       "      <th>Hx CVA (including TIA)</th>\n",
       "      <th>Hx HTN</th>\n",
       "      <th>Hx Sz /epilepsy</th>\n",
       "      <th>Hx brain surgery</th>\n",
       "      <th>Hx CKD</th>\n",
       "      <th>Hx CAD/MI</th>\n",
       "      <th>Hx CHF</th>\n",
       "      <th>...</th>\n",
       "      <th>iGCS-Total</th>\n",
       "      <th>iGCS = T?</th>\n",
       "      <th>iGCS-E</th>\n",
       "      <th>iGCS-V</th>\n",
       "      <th>iGCS-M</th>\n",
       "      <th>Worst GCS in 1st 24</th>\n",
       "      <th>Worst GCS Intubation status</th>\n",
       "      <th>iGCS actual scores</th>\n",
       "      <th>neuro_dx_Seizures/status epilepticus</th>\n",
       "      <th>prim_dx_Respiratory disorders</th>\n",
       "    </tr>\n",
       "  </thead>\n",
       "  <tbody>\n",
       "    <tr>\n",
       "      <th>0</th>\n",
       "      <td>-0.517259</td>\n",
       "      <td>-2.276488</td>\n",
       "      <td>-0.49517</td>\n",
       "      <td>-0.195368</td>\n",
       "      <td>-0.530211</td>\n",
       "      <td>-0.185801</td>\n",
       "      <td>-0.100705</td>\n",
       "      <td>-0.135448</td>\n",
       "      <td>-0.187815</td>\n",
       "      <td>-0.1143</td>\n",
       "      <td>...</td>\n",
       "      <td>0.183509</td>\n",
       "      <td>-0.801601</td>\n",
       "      <td>0.874397</td>\n",
       "      <td>-1.032425</td>\n",
       "      <td>0.770527</td>\n",
       "      <td>0.435355</td>\n",
       "      <td>-0.945932</td>\n",
       "      <td>0.184854</td>\n",
       "      <td>-0.26063</td>\n",
       "      <td>-0.288144</td>\n",
       "    </tr>\n",
       "    <tr>\n",
       "      <th>1</th>\n",
       "      <td>-0.517259</td>\n",
       "      <td>1.409512</td>\n",
       "      <td>-0.49517</td>\n",
       "      <td>-0.195368</td>\n",
       "      <td>0.469789</td>\n",
       "      <td>-0.185801</td>\n",
       "      <td>-0.100705</td>\n",
       "      <td>0.864552</td>\n",
       "      <td>-0.187815</td>\n",
       "      <td>-0.1143</td>\n",
       "      <td>...</td>\n",
       "      <td>-0.653533</td>\n",
       "      <td>-0.801601</td>\n",
       "      <td>-1.314150</td>\n",
       "      <td>-0.485718</td>\n",
       "      <td>-0.224810</td>\n",
       "      <td>-1.157095</td>\n",
       "      <td>1.057159</td>\n",
       "      <td>-1.491942</td>\n",
       "      <td>-0.26063</td>\n",
       "      <td>0.711856</td>\n",
       "    </tr>\n",
       "    <tr>\n",
       "      <th>2</th>\n",
       "      <td>0.482741</td>\n",
       "      <td>-0.805033</td>\n",
       "      <td>0.50483</td>\n",
       "      <td>-0.195368</td>\n",
       "      <td>-0.530211</td>\n",
       "      <td>0.814199</td>\n",
       "      <td>-0.100705</td>\n",
       "      <td>-0.135448</td>\n",
       "      <td>-0.187815</td>\n",
       "      <td>-0.1143</td>\n",
       "      <td>...</td>\n",
       "      <td>-0.444273</td>\n",
       "      <td>-0.801601</td>\n",
       "      <td>0.144881</td>\n",
       "      <td>-1.032425</td>\n",
       "      <td>-0.224810</td>\n",
       "      <td>-0.161814</td>\n",
       "      <td>-0.945932</td>\n",
       "      <td>-0.443944</td>\n",
       "      <td>-0.26063</td>\n",
       "      <td>0.711856</td>\n",
       "    </tr>\n",
       "    <tr>\n",
       "      <th>3</th>\n",
       "      <td>0.482741</td>\n",
       "      <td>-0.347398</td>\n",
       "      <td>0.50483</td>\n",
       "      <td>-0.195368</td>\n",
       "      <td>-0.530211</td>\n",
       "      <td>-0.185801</td>\n",
       "      <td>0.899295</td>\n",
       "      <td>-0.135448</td>\n",
       "      <td>-0.187815</td>\n",
       "      <td>-0.1143</td>\n",
       "      <td>...</td>\n",
       "      <td>-1.281315</td>\n",
       "      <td>-0.801601</td>\n",
       "      <td>-1.314150</td>\n",
       "      <td>-0.485718</td>\n",
       "      <td>-1.717816</td>\n",
       "      <td>-1.157095</td>\n",
       "      <td>1.057159</td>\n",
       "      <td>-1.282343</td>\n",
       "      <td>-0.26063</td>\n",
       "      <td>0.711856</td>\n",
       "    </tr>\n",
       "    <tr>\n",
       "      <th>4</th>\n",
       "      <td>0.482741</td>\n",
       "      <td>-2.098078</td>\n",
       "      <td>-0.49517</td>\n",
       "      <td>-0.195368</td>\n",
       "      <td>-0.530211</td>\n",
       "      <td>0.814199</td>\n",
       "      <td>-0.100705</td>\n",
       "      <td>-0.135448</td>\n",
       "      <td>-0.187815</td>\n",
       "      <td>-0.1143</td>\n",
       "      <td>...</td>\n",
       "      <td>-0.862794</td>\n",
       "      <td>1.247504</td>\n",
       "      <td>-1.314150</td>\n",
       "      <td>-1.032425</td>\n",
       "      <td>-0.224810</td>\n",
       "      <td>-1.157095</td>\n",
       "      <td>1.057159</td>\n",
       "      <td>-0.863144</td>\n",
       "      <td>0.73937</td>\n",
       "      <td>-0.288144</td>\n",
       "    </tr>\n",
       "    <tr>\n",
       "      <th>...</th>\n",
       "      <td>...</td>\n",
       "      <td>...</td>\n",
       "      <td>...</td>\n",
       "      <td>...</td>\n",
       "      <td>...</td>\n",
       "      <td>...</td>\n",
       "      <td>...</td>\n",
       "      <td>...</td>\n",
       "      <td>...</td>\n",
       "      <td>...</td>\n",
       "      <td>...</td>\n",
       "      <td>...</td>\n",
       "      <td>...</td>\n",
       "      <td>...</td>\n",
       "      <td>...</td>\n",
       "      <td>...</td>\n",
       "      <td>...</td>\n",
       "      <td>...</td>\n",
       "      <td>...</td>\n",
       "      <td>...</td>\n",
       "      <td>...</td>\n",
       "    </tr>\n",
       "    <tr>\n",
       "      <th>1994</th>\n",
       "      <td>0.482741</td>\n",
       "      <td>1.137083</td>\n",
       "      <td>0.50483</td>\n",
       "      <td>-0.195368</td>\n",
       "      <td>0.469789</td>\n",
       "      <td>-0.185801</td>\n",
       "      <td>-0.100705</td>\n",
       "      <td>-0.135448</td>\n",
       "      <td>-0.187815</td>\n",
       "      <td>-0.1143</td>\n",
       "      <td>...</td>\n",
       "      <td>-1.072055</td>\n",
       "      <td>1.247504</td>\n",
       "      <td>-1.314150</td>\n",
       "      <td>-1.032425</td>\n",
       "      <td>-0.722478</td>\n",
       "      <td>-1.157095</td>\n",
       "      <td>1.057159</td>\n",
       "      <td>-1.072743</td>\n",
       "      <td>0.73937</td>\n",
       "      <td>-0.288144</td>\n",
       "    </tr>\n",
       "    <tr>\n",
       "      <th>1995</th>\n",
       "      <td>0.482741</td>\n",
       "      <td>0.017917</td>\n",
       "      <td>-0.49517</td>\n",
       "      <td>-0.195368</td>\n",
       "      <td>-0.530211</td>\n",
       "      <td>0.814199</td>\n",
       "      <td>-0.100705</td>\n",
       "      <td>-0.135448</td>\n",
       "      <td>-0.187815</td>\n",
       "      <td>-0.1143</td>\n",
       "      <td>...</td>\n",
       "      <td>-1.490576</td>\n",
       "      <td>1.247504</td>\n",
       "      <td>-1.314150</td>\n",
       "      <td>-1.032425</td>\n",
       "      <td>-1.717816</td>\n",
       "      <td>-1.157095</td>\n",
       "      <td>1.057159</td>\n",
       "      <td>-1.491942</td>\n",
       "      <td>0.73937</td>\n",
       "      <td>-0.288144</td>\n",
       "    </tr>\n",
       "    <tr>\n",
       "      <th>1996</th>\n",
       "      <td>0.482741</td>\n",
       "      <td>-1.776941</td>\n",
       "      <td>0.50483</td>\n",
       "      <td>-0.195368</td>\n",
       "      <td>-0.530211</td>\n",
       "      <td>-0.185801</td>\n",
       "      <td>-0.100705</td>\n",
       "      <td>-0.135448</td>\n",
       "      <td>-0.187815</td>\n",
       "      <td>-0.1143</td>\n",
       "      <td>...</td>\n",
       "      <td>0.602030</td>\n",
       "      <td>-0.801601</td>\n",
       "      <td>0.874397</td>\n",
       "      <td>0.060988</td>\n",
       "      <td>0.770527</td>\n",
       "      <td>0.833467</td>\n",
       "      <td>-0.945932</td>\n",
       "      <td>0.604054</td>\n",
       "      <td>-0.26063</td>\n",
       "      <td>-0.288144</td>\n",
       "    </tr>\n",
       "    <tr>\n",
       "      <th>1997</th>\n",
       "      <td>0.482741</td>\n",
       "      <td>-0.568853</td>\n",
       "      <td>-0.49517</td>\n",
       "      <td>-0.195368</td>\n",
       "      <td>-0.530211</td>\n",
       "      <td>0.814199</td>\n",
       "      <td>0.899295</td>\n",
       "      <td>-0.135448</td>\n",
       "      <td>-0.187815</td>\n",
       "      <td>-0.1143</td>\n",
       "      <td>...</td>\n",
       "      <td>0.392769</td>\n",
       "      <td>-0.801601</td>\n",
       "      <td>-0.584634</td>\n",
       "      <td>0.607695</td>\n",
       "      <td>0.770527</td>\n",
       "      <td>0.634411</td>\n",
       "      <td>-0.945932</td>\n",
       "      <td>0.394454</td>\n",
       "      <td>0.73937</td>\n",
       "      <td>-0.288144</td>\n",
       "    </tr>\n",
       "    <tr>\n",
       "      <th>1998</th>\n",
       "      <td>-0.517259</td>\n",
       "      <td>-0.378549</td>\n",
       "      <td>0.50483</td>\n",
       "      <td>0.804632</td>\n",
       "      <td>0.469789</td>\n",
       "      <td>-0.185801</td>\n",
       "      <td>-0.100705</td>\n",
       "      <td>0.864552</td>\n",
       "      <td>-0.187815</td>\n",
       "      <td>-0.1143</td>\n",
       "      <td>...</td>\n",
       "      <td>0.392769</td>\n",
       "      <td>-0.801601</td>\n",
       "      <td>0.874397</td>\n",
       "      <td>0.607695</td>\n",
       "      <td>-0.224810</td>\n",
       "      <td>0.634411</td>\n",
       "      <td>-0.945932</td>\n",
       "      <td>0.394454</td>\n",
       "      <td>-0.26063</td>\n",
       "      <td>-0.288144</td>\n",
       "    </tr>\n",
       "  </tbody>\n",
       "</table>\n",
       "<p>1999 rows × 36 columns</p>\n",
       "</div>"
      ],
      "text/plain": [
       "        Gender       Age  marrital  Hx CVA (including TIA)    Hx HTN  \\\n",
       "0    -0.517259 -2.276488  -0.49517               -0.195368 -0.530211   \n",
       "1    -0.517259  1.409512  -0.49517               -0.195368  0.469789   \n",
       "2     0.482741 -0.805033   0.50483               -0.195368 -0.530211   \n",
       "3     0.482741 -0.347398   0.50483               -0.195368 -0.530211   \n",
       "4     0.482741 -2.098078  -0.49517               -0.195368 -0.530211   \n",
       "...        ...       ...       ...                     ...       ...   \n",
       "1994  0.482741  1.137083   0.50483               -0.195368  0.469789   \n",
       "1995  0.482741  0.017917  -0.49517               -0.195368 -0.530211   \n",
       "1996  0.482741 -1.776941   0.50483               -0.195368 -0.530211   \n",
       "1997  0.482741 -0.568853  -0.49517               -0.195368 -0.530211   \n",
       "1998 -0.517259 -0.378549   0.50483                0.804632  0.469789   \n",
       "\n",
       "      Hx Sz /epilepsy  Hx brain surgery    Hx CKD  Hx CAD/MI  Hx CHF  ...  \\\n",
       "0           -0.185801         -0.100705 -0.135448  -0.187815 -0.1143  ...   \n",
       "1           -0.185801         -0.100705  0.864552  -0.187815 -0.1143  ...   \n",
       "2            0.814199         -0.100705 -0.135448  -0.187815 -0.1143  ...   \n",
       "3           -0.185801          0.899295 -0.135448  -0.187815 -0.1143  ...   \n",
       "4            0.814199         -0.100705 -0.135448  -0.187815 -0.1143  ...   \n",
       "...               ...               ...       ...        ...     ...  ...   \n",
       "1994        -0.185801         -0.100705 -0.135448  -0.187815 -0.1143  ...   \n",
       "1995         0.814199         -0.100705 -0.135448  -0.187815 -0.1143  ...   \n",
       "1996        -0.185801         -0.100705 -0.135448  -0.187815 -0.1143  ...   \n",
       "1997         0.814199          0.899295 -0.135448  -0.187815 -0.1143  ...   \n",
       "1998        -0.185801         -0.100705  0.864552  -0.187815 -0.1143  ...   \n",
       "\n",
       "      iGCS-Total  iGCS = T?    iGCS-E    iGCS-V    iGCS-M  \\\n",
       "0       0.183509  -0.801601  0.874397 -1.032425  0.770527   \n",
       "1      -0.653533  -0.801601 -1.314150 -0.485718 -0.224810   \n",
       "2      -0.444273  -0.801601  0.144881 -1.032425 -0.224810   \n",
       "3      -1.281315  -0.801601 -1.314150 -0.485718 -1.717816   \n",
       "4      -0.862794   1.247504 -1.314150 -1.032425 -0.224810   \n",
       "...          ...        ...       ...       ...       ...   \n",
       "1994   -1.072055   1.247504 -1.314150 -1.032425 -0.722478   \n",
       "1995   -1.490576   1.247504 -1.314150 -1.032425 -1.717816   \n",
       "1996    0.602030  -0.801601  0.874397  0.060988  0.770527   \n",
       "1997    0.392769  -0.801601 -0.584634  0.607695  0.770527   \n",
       "1998    0.392769  -0.801601  0.874397  0.607695 -0.224810   \n",
       "\n",
       "      Worst GCS in 1st 24  Worst GCS Intubation status  iGCS actual scores  \\\n",
       "0                0.435355                    -0.945932            0.184854   \n",
       "1               -1.157095                     1.057159           -1.491942   \n",
       "2               -0.161814                    -0.945932           -0.443944   \n",
       "3               -1.157095                     1.057159           -1.282343   \n",
       "4               -1.157095                     1.057159           -0.863144   \n",
       "...                   ...                          ...                 ...   \n",
       "1994            -1.157095                     1.057159           -1.072743   \n",
       "1995            -1.157095                     1.057159           -1.491942   \n",
       "1996             0.833467                    -0.945932            0.604054   \n",
       "1997             0.634411                    -0.945932            0.394454   \n",
       "1998             0.634411                    -0.945932            0.394454   \n",
       "\n",
       "      neuro_dx_Seizures/status epilepticus  prim_dx_Respiratory disorders  \n",
       "0                                 -0.26063                      -0.288144  \n",
       "1                                 -0.26063                       0.711856  \n",
       "2                                 -0.26063                       0.711856  \n",
       "3                                 -0.26063                       0.711856  \n",
       "4                                  0.73937                      -0.288144  \n",
       "...                                    ...                            ...  \n",
       "1994                               0.73937                      -0.288144  \n",
       "1995                               0.73937                      -0.288144  \n",
       "1996                              -0.26063                      -0.288144  \n",
       "1997                               0.73937                      -0.288144  \n",
       "1998                              -0.26063                      -0.288144  \n",
       "\n",
       "[1999 rows x 36 columns]"
      ]
     },
     "execution_count": 9,
     "metadata": {},
     "output_type": "execute_result"
    }
   ],
   "source": [
    "df = pd.DataFrame(data = C1, index = C.index, columns= C.columns[1:])\n",
    "\n",
    "df"
   ]
  },
  {
   "cell_type": "code",
   "execution_count": 10,
   "metadata": {},
   "outputs": [],
   "source": [
    "C2 = df.to_numpy()"
   ]
  },
  {
   "cell_type": "code",
   "execution_count": 11,
   "metadata": {},
   "outputs": [
    {
     "data": {
      "text/plain": [
       "Index(['Gender', 'Age', 'marrital', 'Hx CVA (including TIA)', 'Hx HTN',\n",
       "       'Hx Sz /epilepsy', 'Hx brain surgery', 'Hx CKD', 'Hx CAD/MI', 'Hx CHF',\n",
       "       'Hx DM', 'Hx of HLD', 'Hx tobacco (including ex-smokers)',\n",
       "       'Hx ETOH abuse any time in their life (just when in the hx is mentioned)',\n",
       "       'Hx other substance abuse, any time in their life',\n",
       "       'Hx cancer (other than CNS cancer)', 'Hx CNS cancer', 'Hx COPD/ Asthma',\n",
       "       'premorbid MRS before admission  (modified ranking scale),before admission',\n",
       "       'SZ at presentation,(exclude non-convulsive seizures) just if it is mentioned in MGH notes (the date is necessary, however,the date is the day of admission at MGH)',\n",
       "       'hydrocephalus  (either on admission or during hospital course)   QPID',\n",
       "       'iMV  (initial (on admission) mechanical ventilation)', 'systolic BP',\n",
       "       'diastolic BP', 'Midline shift with any reason ( Document Date)',\n",
       "       'Primary systemic dx Sepsis/Shock', 'iGCS-Total', 'iGCS = T?', 'iGCS-E',\n",
       "       'iGCS-V', 'iGCS-M', 'Worst GCS in 1st 24',\n",
       "       'Worst GCS Intubation status', 'iGCS actual scores',\n",
       "       'neuro_dx_Seizures/status epilepticus',\n",
       "       'prim_dx_Respiratory disorders'],\n",
       "      dtype='object')"
      ]
     },
     "execution_count": 11,
     "metadata": {},
     "output_type": "execute_result"
    }
   ],
   "source": [
    "df.columns"
   ]
  },
  {
   "cell_type": "code",
   "execution_count": 12,
   "metadata": {},
   "outputs": [],
   "source": [
    "#remove APACHEII\n",
    "\n",
    "#options:\n",
    "#only use GCS total \n",
    "#worst GCS in 24\n",
    "#combine diasotic and systolic BP (2*dias + Sys)/3\n",
    "\n"
   ]
  },
  {
   "cell_type": "code",
   "execution_count": 13,
   "metadata": {},
   "outputs": [
    {
     "ename": "NameError",
     "evalue": "name 'plt' is not defined",
     "output_type": "error",
     "traceback": [
      "\u001b[0;31m---------------------------------------------------------------------------\u001b[0m",
      "\u001b[0;31mNameError\u001b[0m                                 Traceback (most recent call last)",
      "\u001b[0;32m<ipython-input-13-0a5082f67b9c>\u001b[0m in \u001b[0;36m<module>\u001b[0;34m\u001b[0m\n\u001b[1;32m     18\u001b[0m \u001b[0;34m\u001b[0m\u001b[0m\n\u001b[1;32m     19\u001b[0m \u001b[0mfigure\u001b[0m\u001b[0;34m(\u001b[0m\u001b[0mnum\u001b[0m\u001b[0;34m=\u001b[0m\u001b[0;32mNone\u001b[0m\u001b[0;34m,\u001b[0m \u001b[0mfigsize\u001b[0m\u001b[0;34m=\u001b[0m\u001b[0;34m(\u001b[0m\u001b[0;36m80\u001b[0m\u001b[0;34m,\u001b[0m \u001b[0;36m60\u001b[0m\u001b[0;34m)\u001b[0m\u001b[0;34m,\u001b[0m \u001b[0mdpi\u001b[0m\u001b[0;34m=\u001b[0m\u001b[0;36m80\u001b[0m\u001b[0;34m,\u001b[0m \u001b[0mfacecolor\u001b[0m\u001b[0;34m=\u001b[0m\u001b[0;34m'w'\u001b[0m\u001b[0;34m,\u001b[0m \u001b[0medgecolor\u001b[0m\u001b[0;34m=\u001b[0m\u001b[0;34m'k'\u001b[0m\u001b[0;34m)\u001b[0m\u001b[0;34m\u001b[0m\u001b[0;34m\u001b[0m\u001b[0m\n\u001b[0;32m---> 20\u001b[0;31m \u001b[0mplt\u001b[0m\u001b[0;34m.\u001b[0m\u001b[0mimshow\u001b[0m\u001b[0;34m(\u001b[0m\u001b[0mfit_data\u001b[0m\u001b[0;34m,\u001b[0m \u001b[0mcmap\u001b[0m\u001b[0;34m=\u001b[0m\u001b[0mplt\u001b[0m\u001b[0;34m.\u001b[0m\u001b[0mcm\u001b[0m\u001b[0;34m.\u001b[0m\u001b[0mBlues\u001b[0m\u001b[0;34m,\u001b[0m \u001b[0maspect\u001b[0m \u001b[0;34m=\u001b[0m \u001b[0;34m'auto'\u001b[0m\u001b[0;34m,\u001b[0m \u001b[0minterpolation\u001b[0m\u001b[0;34m=\u001b[0m\u001b[0;34m'none'\u001b[0m\u001b[0;34m)\u001b[0m\u001b[0;34m\u001b[0m\u001b[0;34m\u001b[0m\u001b[0m\n\u001b[0m\u001b[1;32m     21\u001b[0m \u001b[0mplt\u001b[0m\u001b[0;34m.\u001b[0m\u001b[0mtitle\u001b[0m\u001b[0;34m(\u001b[0m\u001b[0;34m\"After biclustering; rearranged to show biclusters\"\u001b[0m\u001b[0;34m)\u001b[0m\u001b[0;34m\u001b[0m\u001b[0;34m\u001b[0m\u001b[0m\n\u001b[1;32m     22\u001b[0m \u001b[0mplt\u001b[0m\u001b[0;34m.\u001b[0m\u001b[0mshow\u001b[0m\u001b[0;34m(\u001b[0m\u001b[0;34m)\u001b[0m\u001b[0;34m\u001b[0m\u001b[0;34m\u001b[0m\u001b[0m\n",
      "\u001b[0;31mNameError\u001b[0m: name 'plt' is not defined"
     ]
    },
    {
     "data": {
      "text/plain": [
       "<Figure size 6400x4800 with 0 Axes>"
      ]
     },
     "metadata": {},
     "output_type": "display_data"
    }
   ],
   "source": [
    "from sklearn.cluster import SpectralBiclustering\n",
    "from sklearn.metrics import consensus_score\n",
    "from matplotlib.pyplot import figure\n",
    "from matplotlib.pyplot import savefig\n",
    "from matplotlib.pyplot import matshow\n",
    "from matplotlib.pyplot import imshow\n",
    "\n",
    "\n",
    "model = SpectralBiclustering(n_clusters=5, method='log',\n",
    "                             random_state=0)\n",
    "\n",
    "C3 = C2[:,range(2,22)]\n",
    "model.fit(C3)\n",
    "\n",
    "fit_data = C3[np.argsort(model.row_labels_)]\n",
    "fit_data = fit_data[:, np.argsort(model.column_labels_)]\n",
    "\n",
    "\n",
    "figure(num=None, figsize=(80, 60), dpi=80, facecolor='w', edgecolor='k')\n",
    "plt.imshow(fit_data, cmap=plt.cm.Blues, aspect = 'auto', interpolation='none')\n",
    "plt.title(\"After biclustering; rearranged to show biclusters\")\n",
    "plt.show()\n",
    "\n",
    "plt.imshow(np.outer(np.sort(model.row_labels_) + 1,\n",
    "                     np.sort(model.column_labels_) + 1),\n",
    "            cmap=plt.cm.Blues, aspect = 'auto')\n",
    "plt.title(\"Checkerboard structure of rearranged data\")\n",
    "\n",
    "savefig('bicluster')\n",
    "plt.show()"
   ]
  },
  {
   "cell_type": "code",
   "execution_count": null,
   "metadata": {},
   "outputs": [],
   "source": [
    "plt.imshow( model.rows_, aspect = 'auto')"
   ]
  },
  {
   "cell_type": "code",
   "execution_count": 14,
   "metadata": {},
   "outputs": [
    {
     "data": {
      "text/plain": [
       "<matplotlib.axes._subplots.AxesSubplot at 0x7f0efd1b32e0>"
      ]
     },
     "execution_count": 14,
     "metadata": {},
     "output_type": "execute_result"
    },
    {
     "data": {
      "image/png": "[encoded data removed]",
      "text/plain": [
       "<Figure size 432x288 with 1 Axes>"
      ]
     },
     "metadata": {
      "needs_background": "light"
     },
     "output_type": "display_data"
    }
   ],
   "source": [
    "import seaborn as sns\n",
    "\n",
    "sns.distplot(df['Gender'])\n",
    "\n",
    "sns.distplot(df['marrital'])\n",
    "\n",
    "sns.distplot(df['systolic BP'])"
   ]
  },
  {
   "cell_type": "code",
   "execution_count": 15,
   "metadata": {},
   "outputs": [
    {
     "data": {
      "text/plain": [
       "0      -1.312606\n",
       "1       0.395203\n",
       "2      -0.153735\n",
       "3      -0.641681\n",
       "4      -0.489198\n",
       "          ...   \n",
       "1994    0.364707\n",
       "1995   -1.465089\n",
       "1996   -0.702674\n",
       "1997   -0.672177\n",
       "1998   -0.214728\n",
       "Name: systolic BP, Length: 1999, dtype: float64"
      ]
     },
     "execution_count": 15,
     "metadata": {},
     "output_type": "execute_result"
    }
   ],
   "source": [
    "df.iloc[:,22]"
   ]
  },
  {
   "cell_type": "code",
   "execution_count": 16,
   "metadata": {},
   "outputs": [
    {
     "name": "stdout",
     "output_type": "stream",
     "text": [
      "Index(['marrital', 'Hx CVA (including TIA)', 'Hx HTN', 'Hx Sz /epilepsy',\n",
      "       'Hx brain surgery', 'Hx CKD', 'Hx CAD/MI', 'Hx CHF', 'Hx DM',\n",
      "       'Hx of HLD', 'Hx tobacco (including ex-smokers)',\n",
      "       'Hx ETOH abuse any time in their life (just when in the hx is mentioned)',\n",
      "       'Hx other substance abuse, any time in their life',\n",
      "       'Hx cancer (other than CNS cancer)', 'Hx CNS cancer',\n",
      "       'Hx COPD/ Asthma'],\n",
      "      dtype='object')\n",
      "(1999, 3)\n"
     ]
    },
    {
     "ename": "NameError",
     "evalue": "name 'KMeans' is not defined",
     "output_type": "error",
     "traceback": [
      "\u001b[0;31m---------------------------------------------------------------------------\u001b[0m",
      "\u001b[0;31mNameError\u001b[0m                                 Traceback (most recent call last)",
      "\u001b[0;32m<ipython-input-16-edb01e125924>\u001b[0m in \u001b[0;36m<module>\u001b[0;34m\u001b[0m\n\u001b[1;32m     11\u001b[0m \u001b[0;34m\u001b[0m\u001b[0m\n\u001b[1;32m     12\u001b[0m \u001b[0;34m\u001b[0m\u001b[0m\n\u001b[0;32m---> 13\u001b[0;31m \u001b[0mkmeans\u001b[0m \u001b[0;34m=\u001b[0m \u001b[0mKMeans\u001b[0m\u001b[0;34m(\u001b[0m\u001b[0mn_clusters\u001b[0m\u001b[0;34m=\u001b[0m\u001b[0;36m2\u001b[0m\u001b[0;34m)\u001b[0m\u001b[0;34m\u001b[0m\u001b[0;34m\u001b[0m\u001b[0m\n\u001b[0m\u001b[1;32m     14\u001b[0m \u001b[0mkmeans\u001b[0m\u001b[0;34m.\u001b[0m\u001b[0mfit\u001b[0m\u001b[0;34m(\u001b[0m\u001b[0mprojected\u001b[0m\u001b[0;34m)\u001b[0m\u001b[0;34m\u001b[0m\u001b[0;34m\u001b[0m\u001b[0m\n\u001b[1;32m     15\u001b[0m \u001b[0my_kmeans\u001b[0m \u001b[0;34m=\u001b[0m \u001b[0mkmeans\u001b[0m\u001b[0;34m.\u001b[0m\u001b[0mpredict\u001b[0m\u001b[0;34m(\u001b[0m\u001b[0mprojected\u001b[0m\u001b[0;34m)\u001b[0m\u001b[0;34m\u001b[0m\u001b[0;34m\u001b[0m\u001b[0m\n",
      "\u001b[0;31mNameError\u001b[0m: name 'KMeans' is not defined"
     ]
    }
   ],
   "source": [
    "from sklearn.decomposition import PCA\n",
    "pca = PCA(n_components = 3)\n",
    "X = df.iloc[:,range(2,18)]\n",
    "#X = df.iloc[:,range(0,33)]\n",
    "#X = df.iloc[:,[1,22,23,26,31]]\n",
    "print(X.columns)\n",
    "projected = pca.fit_transform(X)\n",
    "\n",
    "\n",
    "print(projected.shape)\n",
    "\n",
    "\n",
    "kmeans = KMeans(n_clusters=2)\n",
    "kmeans.fit(projected)\n",
    "y_kmeans = kmeans.predict(projected)\n",
    "\n",
    "\n",
    "plt.scatter(projected[:, 0], projected[:, 1], c = y_kmeans)"
   ]
  },
  {
   "cell_type": "code",
   "execution_count": 17,
   "metadata": {},
   "outputs": [
    {
     "ename": "NameError",
     "evalue": "name 'kmeans' is not defined",
     "output_type": "error",
     "traceback": [
      "\u001b[0;31m---------------------------------------------------------------------------\u001b[0m",
      "\u001b[0;31mNameError\u001b[0m                                 Traceback (most recent call last)",
      "\u001b[0;32m<ipython-input-17-a56a3bc8d85f>\u001b[0m in \u001b[0;36m<module>\u001b[0;34m\u001b[0m\n\u001b[1;32m     11\u001b[0m \u001b[0membedding\u001b[0m \u001b[0;34m=\u001b[0m \u001b[0mMDS\u001b[0m\u001b[0;34m(\u001b[0m\u001b[0mn_components\u001b[0m\u001b[0;34m=\u001b[0m\u001b[0;36m5\u001b[0m\u001b[0;34m,\u001b[0m \u001b[0mdissimilarity\u001b[0m\u001b[0;34m=\u001b[0m\u001b[0;34m'precomputed'\u001b[0m\u001b[0;34m)\u001b[0m\u001b[0;34m\u001b[0m\u001b[0;34m\u001b[0m\u001b[0m\n\u001b[1;32m     12\u001b[0m \u001b[0membedding\u001b[0m\u001b[0;34m.\u001b[0m\u001b[0mfit\u001b[0m\u001b[0;34m(\u001b[0m\u001b[0mdist\u001b[0m\u001b[0;34m)\u001b[0m\u001b[0;34m\u001b[0m\u001b[0;34m\u001b[0m\u001b[0m\n\u001b[0;32m---> 13\u001b[0;31m \u001b[0my_kmeans\u001b[0m \u001b[0;34m=\u001b[0m \u001b[0mkmeans\u001b[0m\u001b[0;34m.\u001b[0m\u001b[0mpredict\u001b[0m\u001b[0;34m(\u001b[0m\u001b[0mprojected\u001b[0m\u001b[0;34m)\u001b[0m\u001b[0;34m\u001b[0m\u001b[0;34m\u001b[0m\u001b[0m\n\u001b[0m\u001b[1;32m     14\u001b[0m \u001b[0mX_transformed\u001b[0m \u001b[0;34m=\u001b[0m \u001b[0membedding\u001b[0m\u001b[0;34m.\u001b[0m\u001b[0mfit_transform\u001b[0m\u001b[0;34m(\u001b[0m\u001b[0mdist\u001b[0m\u001b[0;34m)\u001b[0m\u001b[0;34m\u001b[0m\u001b[0;34m\u001b[0m\u001b[0m\n\u001b[1;32m     15\u001b[0m \u001b[0mX_transformed\u001b[0m\u001b[0;34m.\u001b[0m\u001b[0mshape\u001b[0m\u001b[0;34m\u001b[0m\u001b[0;34m\u001b[0m\u001b[0m\n",
      "\u001b[0;31mNameError\u001b[0m: name 'kmeans' is not defined"
     ]
    }
   ],
   "source": [
    "from sklearn.manifold import MDS\n",
    "\n",
    "from sklearn.metrics import pairwise_distances\n",
    "\n",
    "X = df.iloc[:,range(0,33)]\n",
    "dist = pairwise_distances(X, metric = 'hamming')\n",
    "\n",
    "\n",
    "\n",
    "\n",
    "embedding = MDS(n_components=5, dissimilarity='precomputed')\n",
    "embedding.fit(dist)\n",
    "y_kmeans = kmeans.predict(projected)\n",
    "X_transformed = embedding.fit_transform(dist)\n",
    "X_transformed.shape"
   ]
  },
  {
   "cell_type": "code",
   "execution_count": 18,
   "metadata": {},
   "outputs": [
    {
     "ename": "NameError",
     "evalue": "name 'plt' is not defined",
     "output_type": "error",
     "traceback": [
      "\u001b[0;31m---------------------------------------------------------------------------\u001b[0m",
      "\u001b[0;31mNameError\u001b[0m                                 Traceback (most recent call last)",
      "\u001b[0;32m<ipython-input-18-b01d0184481b>\u001b[0m in \u001b[0;36m<module>\u001b[0;34m\u001b[0m\n\u001b[0;32m----> 1\u001b[0;31m \u001b[0mplt\u001b[0m\u001b[0;34m.\u001b[0m\u001b[0mscatter\u001b[0m\u001b[0;34m(\u001b[0m\u001b[0mX_transformed\u001b[0m\u001b[0;34m[\u001b[0m\u001b[0;34m:\u001b[0m\u001b[0;34m,\u001b[0m \u001b[0;36m0\u001b[0m\u001b[0;34m]\u001b[0m\u001b[0;34m,\u001b[0m \u001b[0mX_transformed\u001b[0m\u001b[0;34m[\u001b[0m\u001b[0;34m:\u001b[0m\u001b[0;34m,\u001b[0m \u001b[0;36m1\u001b[0m\u001b[0;34m]\u001b[0m\u001b[0;34m)\u001b[0m\u001b[0;34m\u001b[0m\u001b[0;34m\u001b[0m\u001b[0m\n\u001b[0m",
      "\u001b[0;31mNameError\u001b[0m: name 'plt' is not defined"
     ]
    }
   ],
   "source": [
    "plt.scatter(X_transformed[:, 0], X_transformed[:, 1])"
   ]
  },
  {
   "cell_type": "code",
   "execution_count": 19,
   "metadata": {},
   "outputs": [
    {
     "name": "stdout",
     "output_type": "stream",
     "text": [
      "[0.43653431 0.13000908 0.08253283 0.03265626 0.02500387 0.02180458\n",
      " 0.0210209  0.020619   0.01935648 0.01773502 0.01630714 0.01512937\n",
      " 0.01348304 0.01269692 0.01208652 0.01162074 0.01054602 0.00999327\n",
      " 0.00970885 0.00940501 0.00903177 0.00870715 0.00781173 0.00765863\n",
      " 0.00660748 0.00628748 0.00607657 0.00520344 0.00449528 0.00378779\n",
      " 0.00305065 0.00243538 0.00059744]\n"
     ]
    },
    {
     "data": {
      "text/plain": [
       "<matplotlib.axes._subplots.AxesSubplot at 0x7f0efd067ee0>"
      ]
     },
     "execution_count": 19,
     "metadata": {},
     "output_type": "execute_result"
    },
    {
     "data": {
      "image/png": "[encoded data removed]",
      "text/plain": [
       "<Figure size 432x288 with 1 Axes>"
      ]
     },
     "metadata": {
      "needs_background": "light"
     },
     "output_type": "display_data"
    }
   ],
   "source": [
    "import seaborn as sns\n",
    "pca = PCA(n_components=33)\n",
    "pca.fit(df.iloc[:,range(0,33)])\n",
    "\n",
    "print(pca.explained_variance_ratio_)\n",
    "\n",
    "\n",
    "\n",
    "\n",
    "sns.lineplot(data=pca.explained_variance_ratio_)"
   ]
  },
  {
   "cell_type": "code",
   "execution_count": 20,
   "metadata": {},
   "outputs": [
    {
     "name": "stdout",
     "output_type": "stream",
     "text": [
      "[1, 22, 23, 26, 27, 28, 29, 30, 31, 33]\n",
      "[ 0  2  3  4  5  6  7  8  9 10 11 12 13 14 15 16 17 18 19 20 21 24 25 32\n",
      " 34 35]\n"
     ]
    }
   ],
   "source": [
    "cont = [1,22,23,26,27,28,29,30,31,33]\n",
    "\n",
    "disc = np.setdiff1d(range(0,36), cont)\n",
    "print(cont)\n",
    "print(disc)"
   ]
  },
  {
   "cell_type": "code",
   "execution_count": null,
   "metadata": {},
   "outputs": [],
   "source": []
  },
  {
   "cell_type": "code",
   "execution_count": null,
   "metadata": {},
   "outputs": [],
   "source": []
  },
  {
   "cell_type": "code",
   "execution_count": 21,
   "metadata": {},
   "outputs": [
    {
     "data": {
      "image/png": "[encoded data removed]",
      "text/plain": [
       "<Figure size 432x288 with 1 Axes>"
      ]
     },
     "metadata": {
      "needs_background": "light"
     },
     "output_type": "display_data"
    },
    {
     "data": {
      "image/png": "[encoded data removed]",
      "text/plain": [
       "<Figure size 432x288 with 1 Axes>"
      ]
     },
     "metadata": {
      "needs_background": "light"
     },
     "output_type": "display_data"
    },
    {
     "data": {
      "image/png": "[encoded data removed]",
      "text/plain": [
       "<Figure size 432x288 with 1 Axes>"
      ]
     },
     "metadata": {
      "needs_background": "light"
     },
     "output_type": "display_data"
    },
    {
     "data": {
      "image/png": "[encoded data removed]",
      "text/plain": [
       "<Figure size 432x288 with 1 Axes>"
      ]
     },
     "metadata": {
      "needs_background": "light"
     },
     "output_type": "display_data"
    }
   ],
   "source": [
    "from sklearn.metrics import silhouette_score, silhouette_samples\n",
    "from sklearn.cluster import AgglomerativeClustering\n",
    "from sklearn.cluster import KMeans\n",
    "\n",
    "for j in range(1,5):\n",
    "    sil_list = []\n",
    "    for i in range(2, 50):\n",
    "        pca = PCA(n_components = j)\n",
    "        #X = df.iloc[:,range(0,36)]\n",
    "        X = pca.fit_transform(df.iloc[:,range(2,22)])\n",
    "        \n",
    "        \n",
    "        #X = pca.fit_transform(df.iloc[:,range(0,36)])\n",
    "        \n",
    "        #X = pca.fit_transform(df.iloc[:,disc])\n",
    "\n",
    "        #clustering = KMeans(n_clusters=i).fit( X)\n",
    "\n",
    "\n",
    "        #clustering = AgglomerativeClustering().fit(C.loc[:,C.columns != 'Index'])\n",
    "        clustering = AgglomerativeClustering(n_clusters=i,affinity='euclidean').fit(X)\n",
    "        sil_list.append(silhouette_score(X, clustering.labels_))\n",
    "\n",
    "\n",
    "    import matplotlib.pyplot as plt\n",
    "    # Data for plotting\n",
    "\n",
    "\n",
    "    fig, ax = plt.subplots()\n",
    "    ax.plot(sil_list)\n",
    "\n",
    "    ax.set(xlabel='Number of Clusters', ylabel='Silouette Score',\n",
    "           title=str(j))\n",
    "    ax.grid()\n",
    "\n",
    "    plt.show()"
   ]
  },
  {
   "cell_type": "code",
   "execution_count": 22,
   "metadata": {},
   "outputs": [
    {
     "data": {
      "text/plain": [
       "Counter({10: 82,\n",
       "         7: 96,\n",
       "         1: 67,\n",
       "         20: 114,\n",
       "         12: 72,\n",
       "         0: 97,\n",
       "         16: 85,\n",
       "         3: 107,\n",
       "         13: 65,\n",
       "         6: 87,\n",
       "         17: 162,\n",
       "         9: 145,\n",
       "         2: 218,\n",
       "         4: 152,\n",
       "         15: 59,\n",
       "         19: 60,\n",
       "         8: 67,\n",
       "         18: 76,\n",
       "         14: 99,\n",
       "         11: 41,\n",
       "         5: 48})"
      ]
     },
     "execution_count": 22,
     "metadata": {},
     "output_type": "execute_result"
    }
   ],
   "source": [
    "from collections import Counter\n",
    "\n",
    "pca = PCA(n_components = 3)\n",
    "X = pca.fit_transform(df.iloc[:,range(0,36)])\n",
    "clustering = KMeans(n_clusters=21).fit( X)\n",
    "Counter(clustering.labels_)"
   ]
  },
  {
   "cell_type": "code",
   "execution_count": 23,
   "metadata": {},
   "outputs": [
    {
     "data": {
      "image/png": "[encoded data removed]",
      "text/plain": [
       "<Figure size 432x288 with 1 Axes>"
      ]
     },
     "metadata": {
      "needs_background": "light"
     },
     "output_type": "display_data"
    },
    {
     "data": {
      "image/png": "[encoded data removed]",
      "text/plain": [
       "<Figure size 432x288 with 1 Axes>"
      ]
     },
     "metadata": {
      "needs_background": "light"
     },
     "output_type": "display_data"
    },
    {
     "data": {
      "image/png": "[encoded data removed]",
      "text/plain": [
       "<Figure size 432x288 with 1 Axes>"
      ]
     },
     "metadata": {
      "needs_background": "light"
     },
     "output_type": "display_data"
    },
    {
     "data": {
      "image/png": "[encoded data removed]",
      "text/plain": [
       "<Figure size 432x288 with 1 Axes>"
      ]
     },
     "metadata": {
      "needs_background": "light"
     },
     "output_type": "display_data"
    },
    {
     "data": {
      "image/png": "[encoded data removed]",
      "text/plain": [
       "<Figure size 432x288 with 1 Axes>"
      ]
     },
     "metadata": {
      "needs_background": "light"
     },
     "output_type": "display_data"
    },
    {
     "data": {
      "image/png": "[encoded data removed]",
      "text/plain": [
       "<Figure size 432x288 with 1 Axes>"
      ]
     },
     "metadata": {
      "needs_background": "light"
     },
     "output_type": "display_data"
    },
    {
     "data": {
      "image/png": "[encoded data removed]",
      "text/plain": [
       "<Figure size 432x288 with 1 Axes>"
      ]
     },
     "metadata": {
      "needs_background": "light"
     },
     "output_type": "display_data"
    },
    {
     "data": {
      "image/png": "[encoded data removed]",
      "text/plain": [
       "<Figure size 432x288 with 1 Axes>"
      ]
     },
     "metadata": {
      "needs_background": "light"
     },
     "output_type": "display_data"
    },
    {
     "data": {
      "image/png": "[encoded data removed]",
      "text/plain": [
       "<Figure size 432x288 with 1 Axes>"
      ]
     },
     "metadata": {
      "needs_background": "light"
     },
     "output_type": "display_data"
    }
   ],
   "source": [
    "from sklearn.metrics import silhouette_score, silhouette_samples\n",
    "from sklearn.cluster import AgglomerativeClustering\n",
    "from sklearn.cluster import KMeans\n",
    "\n",
    "for j in range(1,10):\n",
    "    sil_list = []\n",
    "    for i in range(2, 50):\n",
    "        pca = PCA(n_components = j)\n",
    "        X = pca.fit_transform(df.iloc[:,range(0,36)])\n",
    "\n",
    "        clustering = KMeans(n_clusters=i).fit( X)\n",
    "\n",
    "\n",
    "        #clustering = AgglomerativeClustering().fit(C.loc[:,C.columns != 'Index'])\n",
    "        #clustering = AgglomerativeClustering(n_clusters=i,affinity='euclidean').fit(df.iloc[:,[3,4]])\n",
    "        sil_list.append(silhouette_score(X, clustering.labels_))\n",
    "\n",
    "\n",
    "    import matplotlib.pyplot as plt\n",
    "    # Data for plotting\n",
    "\n",
    "\n",
    "    fig, ax = plt.subplots()\n",
    "    ax.plot(sil_list)\n",
    "\n",
    "    ax.set(xlabel='Number of Clusters', ylabel='Silouette Score',\n",
    "           title=str(j))\n",
    "    ax.grid()\n",
    "\n",
    "    plt.show()"
   ]
  },
  {
   "cell_type": "code",
   "execution_count": null,
   "metadata": {},
   "outputs": [],
   "source": []
  },
  {
   "cell_type": "code",
   "execution_count": null,
   "metadata": {},
   "outputs": [],
   "source": []
  },
  {
   "cell_type": "code",
   "execution_count": null,
   "metadata": {},
   "outputs": [],
   "source": []
  },
  {
   "cell_type": "code",
   "execution_count": null,
   "metadata": {},
   "outputs": [],
   "source": []
  },
  {
   "cell_type": "code",
   "execution_count": 46,
   "metadata": {},
   "outputs": [
    {
     "data": {
      "text/plain": [
       "Counter({0: 1126, 1: 873})"
      ]
     },
     "execution_count": 46,
     "metadata": {},
     "output_type": "execute_result"
    }
   ],
   "source": [
    "from collections import Counter\n",
    "\n",
    "pca = PCA(n_components = 3)\n",
    "X = pca.fit_transform(df.iloc[:,range(0,36)])\n",
    "clustering = KMeans(n_clusters=2).fit( X)\n",
    "Counter(clustering.labels_)"
   ]
  },
  {
   "cell_type": "code",
   "execution_count": 47,
   "metadata": {},
   "outputs": [
    {
     "data": {
      "text/plain": [
       "0          sid1\n",
       "1          sid2\n",
       "2          sid3\n",
       "3          sid4\n",
       "4          sid5\n",
       "         ...   \n",
       "1994    sid1996\n",
       "1995    sid1997\n",
       "1996    sid1998\n",
       "1997    sid1999\n",
       "1998    sid2000\n",
       "Name: Index, Length: 1999, dtype: object"
      ]
     },
     "execution_count": 47,
     "metadata": {},
     "output_type": "execute_result"
    }
   ],
   "source": [
    "C['Index']"
   ]
  },
  {
   "cell_type": "code",
   "execution_count": 48,
   "metadata": {},
   "outputs": [
    {
     "data": {
      "text/plain": [
       "numpy.ndarray"
      ]
     },
     "execution_count": 48,
     "metadata": {},
     "output_type": "execute_result"
    }
   ],
   "source": [
    "type(clustering.labels_)"
   ]
  },
  {
   "cell_type": "code",
   "execution_count": 49,
   "metadata": {},
   "outputs": [],
   "source": [
    "C['12_Cluster'] = clustering.labels_"
   ]
  },
  {
   "cell_type": "code",
   "execution_count": 50,
   "metadata": {},
   "outputs": [],
   "source": [
    "C2 = C[['Index', '12_Cluster']]"
   ]
  },
  {
   "cell_type": "code",
   "execution_count": 51,
   "metadata": {},
   "outputs": [],
   "source": [
    "C2.to_csv('2000_cluster_2.csv', index=False )"
   ]
  },
  {
   "cell_type": "code",
   "execution_count": null,
   "metadata": {},
   "outputs": [],
   "source": []
  },
  {
   "cell_type": "code",
   "execution_count": 30,
   "metadata": {},
   "outputs": [
    {
     "name": "stderr",
     "output_type": "stream",
     "text": [
      "/home/kentaro/anaconda3/lib/python3.8/site-packages/scipy/cluster/hierarchy.py:826: ClusterWarning: scipy.cluster: The symmetric non-negative hollow observation matrix looks suspiciously like an uncondensed distance matrix\n",
      "  return linkage(y, method='ward', metric='euclidean')\n"
     ]
    },
    {
     "data": {
      "text/plain": [
       "Counter({2: 218,\n",
       "         5: 83,\n",
       "         3: 135,\n",
       "         7: 212,\n",
       "         1: 177,\n",
       "         4: 194,\n",
       "         8: 149,\n",
       "         9: 115,\n",
       "         0: 366,\n",
       "         11: 95,\n",
       "         6: 135,\n",
       "         10: 120})"
      ]
     },
     "execution_count": 30,
     "metadata": {},
     "output_type": "execute_result"
    }
   ],
   "source": [
    "dist_mat = pairwise_distances(C1,metric = 'hamming')\n",
    "dist_mat\n",
    "clustering = AgglomerativeClustering(n_clusters=12,affinity='euclidean', linkage='ward').fit(dist_mat)\n",
    "Counter(clustering.labels_)\n",
    "\n"
   ]
  },
  {
   "cell_type": "code",
   "execution_count": 170,
   "metadata": {},
   "outputs": [
    {
     "name": "stderr",
     "output_type": "stream",
     "text": [
      "/home/kentaro/anaconda3/lib/python3.8/site-packages/scipy/cluster/hierarchy.py:826: ClusterWarning: scipy.cluster: The symmetric non-negative hollow observation matrix looks suspiciously like an uncondensed distance matrix\n",
      "  return linkage(y, method='ward', metric='euclidean')\n",
      "/home/kentaro/anaconda3/lib/python3.8/site-packages/scipy/cluster/hierarchy.py:826: ClusterWarning: scipy.cluster: The symmetric non-negative hollow observation matrix looks suspiciously like an uncondensed distance matrix\n",
      "  return linkage(y, method='ward', metric='euclidean')\n",
      "/home/kentaro/anaconda3/lib/python3.8/site-packages/scipy/cluster/hierarchy.py:826: ClusterWarning: scipy.cluster: The symmetric non-negative hollow observation matrix looks suspiciously like an uncondensed distance matrix\n",
      "  return linkage(y, method='ward', metric='euclidean')\n",
      "/home/kentaro/anaconda3/lib/python3.8/site-packages/scipy/cluster/hierarchy.py:826: ClusterWarning: scipy.cluster: The symmetric non-negative hollow observation matrix looks suspiciously like an uncondensed distance matrix\n",
      "  return linkage(y, method='ward', metric='euclidean')\n",
      "/home/kentaro/anaconda3/lib/python3.8/site-packages/scipy/cluster/hierarchy.py:826: ClusterWarning: scipy.cluster: The symmetric non-negative hollow observation matrix looks suspiciously like an uncondensed distance matrix\n",
      "  return linkage(y, method='ward', metric='euclidean')\n",
      "/home/kentaro/anaconda3/lib/python3.8/site-packages/scipy/cluster/hierarchy.py:826: ClusterWarning: scipy.cluster: The symmetric non-negative hollow observation matrix looks suspiciously like an uncondensed distance matrix\n",
      "  return linkage(y, method='ward', metric='euclidean')\n",
      "/home/kentaro/anaconda3/lib/python3.8/site-packages/scipy/cluster/hierarchy.py:826: ClusterWarning: scipy.cluster: The symmetric non-negative hollow observation matrix looks suspiciously like an uncondensed distance matrix\n",
      "  return linkage(y, method='ward', metric='euclidean')\n",
      "/home/kentaro/anaconda3/lib/python3.8/site-packages/scipy/cluster/hierarchy.py:826: ClusterWarning: scipy.cluster: The symmetric non-negative hollow observation matrix looks suspiciously like an uncondensed distance matrix\n",
      "  return linkage(y, method='ward', metric='euclidean')\n",
      "/home/kentaro/anaconda3/lib/python3.8/site-packages/scipy/cluster/hierarchy.py:826: ClusterWarning: scipy.cluster: The symmetric non-negative hollow observation matrix looks suspiciously like an uncondensed distance matrix\n",
      "  return linkage(y, method='ward', metric='euclidean')\n",
      "/home/kentaro/anaconda3/lib/python3.8/site-packages/scipy/cluster/hierarchy.py:826: ClusterWarning: scipy.cluster: The symmetric non-negative hollow observation matrix looks suspiciously like an uncondensed distance matrix\n",
      "  return linkage(y, method='ward', metric='euclidean')\n",
      "/home/kentaro/anaconda3/lib/python3.8/site-packages/scipy/cluster/hierarchy.py:826: ClusterWarning: scipy.cluster: The symmetric non-negative hollow observation matrix looks suspiciously like an uncondensed distance matrix\n",
      "  return linkage(y, method='ward', metric='euclidean')\n",
      "/home/kentaro/anaconda3/lib/python3.8/site-packages/scipy/cluster/hierarchy.py:826: ClusterWarning: scipy.cluster: The symmetric non-negative hollow observation matrix looks suspiciously like an uncondensed distance matrix\n",
      "  return linkage(y, method='ward', metric='euclidean')\n",
      "/home/kentaro/anaconda3/lib/python3.8/site-packages/scipy/cluster/hierarchy.py:826: ClusterWarning: scipy.cluster: The symmetric non-negative hollow observation matrix looks suspiciously like an uncondensed distance matrix\n",
      "  return linkage(y, method='ward', metric='euclidean')\n",
      "/home/kentaro/anaconda3/lib/python3.8/site-packages/scipy/cluster/hierarchy.py:826: ClusterWarning: scipy.cluster: The symmetric non-negative hollow observation matrix looks suspiciously like an uncondensed distance matrix\n",
      "  return linkage(y, method='ward', metric='euclidean')\n",
      "/home/kentaro/anaconda3/lib/python3.8/site-packages/scipy/cluster/hierarchy.py:826: ClusterWarning: scipy.cluster: The symmetric non-negative hollow observation matrix looks suspiciously like an uncondensed distance matrix\n",
      "  return linkage(y, method='ward', metric='euclidean')\n",
      "/home/kentaro/anaconda3/lib/python3.8/site-packages/scipy/cluster/hierarchy.py:826: ClusterWarning: scipy.cluster: The symmetric non-negative hollow observation matrix looks suspiciously like an uncondensed distance matrix\n",
      "  return linkage(y, method='ward', metric='euclidean')\n",
      "/home/kentaro/anaconda3/lib/python3.8/site-packages/scipy/cluster/hierarchy.py:826: ClusterWarning: scipy.cluster: The symmetric non-negative hollow observation matrix looks suspiciously like an uncondensed distance matrix\n",
      "  return linkage(y, method='ward', metric='euclidean')\n",
      "/home/kentaro/anaconda3/lib/python3.8/site-packages/scipy/cluster/hierarchy.py:826: ClusterWarning: scipy.cluster: The symmetric non-negative hollow observation matrix looks suspiciously like an uncondensed distance matrix\n",
      "  return linkage(y, method='ward', metric='euclidean')\n",
      "/home/kentaro/anaconda3/lib/python3.8/site-packages/scipy/cluster/hierarchy.py:826: ClusterWarning: scipy.cluster: The symmetric non-negative hollow observation matrix looks suspiciously like an uncondensed distance matrix\n",
      "  return linkage(y, method='ward', metric='euclidean')\n",
      "/home/kentaro/anaconda3/lib/python3.8/site-packages/scipy/cluster/hierarchy.py:826: ClusterWarning: scipy.cluster: The symmetric non-negative hollow observation matrix looks suspiciously like an uncondensed distance matrix\n",
      "  return linkage(y, method='ward', metric='euclidean')\n",
      "/home/kentaro/anaconda3/lib/python3.8/site-packages/scipy/cluster/hierarchy.py:826: ClusterWarning: scipy.cluster: The symmetric non-negative hollow observation matrix looks suspiciously like an uncondensed distance matrix\n",
      "  return linkage(y, method='ward', metric='euclidean')\n",
      "/home/kentaro/anaconda3/lib/python3.8/site-packages/scipy/cluster/hierarchy.py:826: ClusterWarning: scipy.cluster: The symmetric non-negative hollow observation matrix looks suspiciously like an uncondensed distance matrix\n",
      "  return linkage(y, method='ward', metric='euclidean')\n",
      "/home/kentaro/anaconda3/lib/python3.8/site-packages/scipy/cluster/hierarchy.py:826: ClusterWarning: scipy.cluster: The symmetric non-negative hollow observation matrix looks suspiciously like an uncondensed distance matrix\n",
      "  return linkage(y, method='ward', metric='euclidean')\n",
      "/home/kentaro/anaconda3/lib/python3.8/site-packages/scipy/cluster/hierarchy.py:826: ClusterWarning: scipy.cluster: The symmetric non-negative hollow observation matrix looks suspiciously like an uncondensed distance matrix\n",
      "  return linkage(y, method='ward', metric='euclidean')\n",
      "/home/kentaro/anaconda3/lib/python3.8/site-packages/scipy/cluster/hierarchy.py:826: ClusterWarning: scipy.cluster: The symmetric non-negative hollow observation matrix looks suspiciously like an uncondensed distance matrix\n",
      "  return linkage(y, method='ward', metric='euclidean')\n",
      "/home/kentaro/anaconda3/lib/python3.8/site-packages/scipy/cluster/hierarchy.py:826: ClusterWarning: scipy.cluster: The symmetric non-negative hollow observation matrix looks suspiciously like an uncondensed distance matrix\n",
      "  return linkage(y, method='ward', metric='euclidean')\n",
      "/home/kentaro/anaconda3/lib/python3.8/site-packages/scipy/cluster/hierarchy.py:826: ClusterWarning: scipy.cluster: The symmetric non-negative hollow observation matrix looks suspiciously like an uncondensed distance matrix\n",
      "  return linkage(y, method='ward', metric='euclidean')\n",
      "/home/kentaro/anaconda3/lib/python3.8/site-packages/scipy/cluster/hierarchy.py:826: ClusterWarning: scipy.cluster: The symmetric non-negative hollow observation matrix looks suspiciously like an uncondensed distance matrix\n",
      "  return linkage(y, method='ward', metric='euclidean')\n"
     ]
    },
    {
     "data": {
      "image/png": "[encoded data removed]",
      "text/plain": [
       "<Figure size 432x288 with 1 Axes>"
      ]
     },
     "metadata": {
      "needs_background": "light"
     },
     "output_type": "display_data"
    }
   ],
   "source": [
    "from sklearn.metrics import pairwise_distances\n",
    "sil_list = []\n",
    "for i in range(2,30):\n",
    "    from sklearn.cluster import AgglomerativeClustering\n",
    "    #clustering = AgglomerativeClustering().fit(C.loc[:,C.columns != 'Index'])\n",
    "    dist_mat = pairwise_distances(C1,metric = 'hamming')\n",
    "    clustering = AgglomerativeClustering(n_clusters=i,affinity='euclidean', linkage='ward').fit(dist_mat)\n",
    "    sil_list.append(silhouette_score(C1, clustering.labels_))\n",
    "    \n",
    "    \n",
    "\n",
    "fig, ax = plt.subplots()\n",
    "ax.plot(sil_list)\n",
    "\n",
    "ax.set(xlabel='Number of Clusters', ylabel='Silouette Score',\n",
    "       title='How many clusters?')\n",
    "ax.grid()\n",
    "\n",
    "plt.show()   "
   ]
  },
  {
   "cell_type": "code",
   "execution_count": 172,
   "metadata": {},
   "outputs": [
    {
     "name": "stderr",
     "output_type": "stream",
     "text": [
      "/home/kentaro/anaconda3/lib/python3.8/site-packages/scipy/cluster/hierarchy.py:826: ClusterWarning: scipy.cluster: The symmetric non-negative hollow observation matrix looks suspiciously like an uncondensed distance matrix\n",
      "  return linkage(y, method='ward', metric='euclidean')\n"
     ]
    },
    {
     "data": {
      "text/plain": [
       "Counter({0: 1153, 1: 841})"
      ]
     },
     "execution_count": 172,
     "metadata": {},
     "output_type": "execute_result"
    }
   ],
   "source": [
    "dist_mat = pairwise_distances(C1,metric = 'hamming')\n",
    "dist_mat\n",
    "clustering = AgglomerativeClustering(n_clusters=4,affinity='euclidean', linkage='ward').fit(dist_mat)\n",
    "Counter(clustering.labels_)\n",
    "\n"
   ]
  },
  {
   "cell_type": "code",
   "execution_count": 168,
   "metadata": {},
   "outputs": [
    {
     "data": {
      "text/plain": [
       "Counter({3: 172,\n",
       "         0: 111,\n",
       "         1: 108,\n",
       "         7: 187,\n",
       "         14: 53,\n",
       "         13: 122,\n",
       "         11: 143,\n",
       "         5: 183,\n",
       "         2: 104,\n",
       "         4: 161,\n",
       "         12: 142,\n",
       "         6: 270,\n",
       "         10: 151,\n",
       "         8: 74,\n",
       "         9: 13})"
      ]
     },
     "execution_count": 168,
     "metadata": {},
     "output_type": "execute_result"
    }
   ],
   "source": [
    "from collections import Counter\n",
    "\n",
    "Counter(clustering.labels_)\n"
   ]
  },
  {
   "cell_type": "code",
   "execution_count": null,
   "metadata": {},
   "outputs": [],
   "source": []
  }
 ],
 "metadata": {
  "kernelspec": {
   "display_name": "Python 3",
   "language": "python",
   "name": "python3"
  },
  "language_info": {
   "codemirror_mode": {
    "name": "ipython",
    "version": 3
   },
   "file_extension": ".py",
   "mimetype": "text/x-python",
   "name": "python",
   "nbconvert_exporter": "python",
   "pygments_lexer": "ipython3",
   "version": "3.8.3"
  }
 },
 "nbformat": 4,
 "nbformat_minor": 4
}
