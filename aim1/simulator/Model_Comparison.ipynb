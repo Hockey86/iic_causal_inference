{
 "cells": [
  {
   "cell_type": "code",
   "execution_count": 1,
   "metadata": {},
   "outputs": [],
   "source": [
    "#Based on \n",
    "# https://people.stat.sc.edu/hansont/stat740/ModelSelection.pdf?fbclid=IwAR0YFk1zPRPyUHtWsxBPvrZiN_9T5z1yolgBYKrHOmxXoisNUC-jJoWxmYE\n",
    "# http://www.stat.columbia.edu/~gelman/research/published/waic_understand3.pdf?fbclid=IwAR0YFk1zPRPyUHtWsxBPvrZiN_9T5z1yolgBYKrHOmxXoisNUC-jJoWxmYE"
   ]
  },
  {
   "cell_type": "code",
   "execution_count": 1,
   "metadata": {},
   "outputs": [],
   "source": [
    "import pystan\n",
    "import numpy as np\n",
    "import sklearn \n",
    "import pandas as pd\n"
   ]
  },
  {
   "cell_type": "code",
   "execution_count": 2,
   "metadata": {},
   "outputs": [],
   "source": [
    "n = 1000\n",
    "\n",
    "alpha = 4.0\n",
    "beta = 0.5\n",
    "sigma = 1.0\n",
    "\n",
    "# Generate and plot data\n",
    "x = 10 * np.random.rand(n)\n",
    "y = alpha + beta * x\n",
    "y = np.random.normal(y, scale=sigma)\n",
    "\n",
    "#nusance variable\n",
    "z= 4* np.random.rand(n)\n",
    "\n",
    "\n",
    "\n"
   ]
  },
  {
   "cell_type": "code",
   "execution_count": 3,
   "metadata": {},
   "outputs": [],
   "source": [
    "model = \"\"\"\n",
    "data {\n",
    "    int<lower=0> N;\n",
    "    vector[N] x;\n",
    "    vector[N] y;\n",
    "    vector[N] z;\n",
    "}\n",
    "parameters {\n",
    "    real alpha;\n",
    "    real beta;\n",
    "    real beta2;\n",
    "    real<lower=0> sigma;\n",
    "}\n",
    "model {\n",
    "    y ~ normal(alpha + beta * x + beta2 * z, sigma);\n",
    "}\n",
    "\n",
    "\n",
    "\n",
    "\n",
    "\"\"\""
   ]
  },
  {
   "cell_type": "code",
   "execution_count": null,
   "metadata": {},
   "outputs": [],
   "source": []
  },
  {
   "cell_type": "code",
   "execution_count": 5,
   "metadata": {},
   "outputs": [
    {
     "name": "stderr",
     "output_type": "stream",
     "text": [
      "INFO:pystan:COMPILING THE C++ CODE FOR MODEL anon_model_d7f2b3d8dd98bddd22808816e0d7aecf NOW.\n"
     ]
    }
   ],
   "source": [
    "# Put our data in a dictionary\n",
    "data = {'N': len(x), 'x': x, 'y': y, 'z':z}\n",
    "\n",
    "# Compile the model\n",
    "sm = pystan.StanModel(model_code=model)\n",
    "\n",
    "# Train the model and generate samples\n",
    "fit = sm.sampling(data=data, iter=1000, chains=1, warmup=500, thin=1, seed=101)"
   ]
  },
  {
   "cell_type": "code",
   "execution_count": 6,
   "metadata": {},
   "outputs": [
    {
     "data": {
      "text/plain": [
       "Inference for Stan model: anon_model_d7f2b3d8dd98bddd22808816e0d7aecf.\n",
       "1 chains, each with iter=1000; warmup=500; thin=1; \n",
       "post-warmup draws per chain=500, total post-warmup draws=500.\n",
       "\n",
       "        mean se_mean     sd   2.5%    25%    50%    75%  97.5%  n_eff   Rhat\n",
       "alpha   4.06  3.9e-3   0.08   3.92   4.01   4.07   4.12   4.21    394    1.0\n",
       "beta    0.51  5.1e-4   0.01   0.48    0.5   0.51   0.51   0.53    465    1.0\n",
       "beta2  -0.04  1.3e-3   0.03  -0.09  -0.05  -0.04  -0.02   0.02    454    1.0\n",
       "sigma   1.01  1.1e-3   0.02   0.97    1.0   1.01   1.03   1.06    429   1.01\n",
       "lp__  -509.9    0.09   1.31 -513.3 -510.6 -509.7 -508.9 -508.2    207    1.0\n",
       "\n",
       "Samples were drawn using NUTS at Wed Sep  9 15:48:54 2020.\n",
       "For each parameter, n_eff is a crude measure of effective sample size,\n",
       "and Rhat is the potential scale reduction factor on split chains (at \n",
       "convergence, Rhat=1)."
      ]
     },
     "execution_count": 6,
     "metadata": {},
     "output_type": "execute_result"
    }
   ],
   "source": [
    "fit"
   ]
  },
  {
   "cell_type": "code",
   "execution_count": 7,
   "metadata": {},
   "outputs": [
    {
     "data": {
      "text/plain": [
       "stanfit4anon_model_d7f2b3d8dd98bddd22808816e0d7aecf_1987080328341055463.StanFit4Model"
      ]
     },
     "execution_count": 7,
     "metadata": {},
     "output_type": "execute_result"
    }
   ],
   "source": [
    "type(fit)"
   ]
  },
  {
   "cell_type": "code",
   "execution_count": 8,
   "metadata": {},
   "outputs": [
    {
     "data": {
      "text/html": [
       "<div>\n",
       "<style scoped>\n",
       "    .dataframe tbody tr th:only-of-type {\n",
       "        vertical-align: middle;\n",
       "    }\n",
       "\n",
       "    .dataframe tbody tr th {\n",
       "        vertical-align: top;\n",
       "    }\n",
       "\n",
       "    .dataframe thead th {\n",
       "        text-align: right;\n",
       "    }\n",
       "</style>\n",
       "<table border=\"1\" class=\"dataframe\">\n",
       "  <thead>\n",
       "    <tr style=\"text-align: right;\">\n",
       "      <th></th>\n",
       "      <th>chain</th>\n",
       "      <th>draw</th>\n",
       "      <th>warmup</th>\n",
       "      <th>alpha</th>\n",
       "      <th>beta</th>\n",
       "      <th>beta2</th>\n",
       "      <th>sigma</th>\n",
       "      <th>lp__</th>\n",
       "      <th>accept_stat__</th>\n",
       "      <th>stepsize__</th>\n",
       "      <th>treedepth__</th>\n",
       "      <th>n_leapfrog__</th>\n",
       "      <th>divergent__</th>\n",
       "      <th>energy__</th>\n",
       "    </tr>\n",
       "  </thead>\n",
       "  <tbody>\n",
       "    <tr>\n",
       "      <th>0</th>\n",
       "      <td>0</td>\n",
       "      <td>0</td>\n",
       "      <td>0</td>\n",
       "      <td>4.011501</td>\n",
       "      <td>0.505655</td>\n",
       "      <td>-0.001611</td>\n",
       "      <td>0.973964</td>\n",
       "      <td>-510.558236</td>\n",
       "      <td>0.972632</td>\n",
       "      <td>0.301362</td>\n",
       "      <td>4</td>\n",
       "      <td>15</td>\n",
       "      <td>0</td>\n",
       "      <td>513.408309</td>\n",
       "    </tr>\n",
       "    <tr>\n",
       "      <th>1</th>\n",
       "      <td>0</td>\n",
       "      <td>1</td>\n",
       "      <td>0</td>\n",
       "      <td>4.008361</td>\n",
       "      <td>0.505132</td>\n",
       "      <td>-0.009198</td>\n",
       "      <td>0.984605</td>\n",
       "      <td>-509.243373</td>\n",
       "      <td>0.894239</td>\n",
       "      <td>0.301362</td>\n",
       "      <td>2</td>\n",
       "      <td>7</td>\n",
       "      <td>0</td>\n",
       "      <td>511.213714</td>\n",
       "    </tr>\n",
       "    <tr>\n",
       "      <th>2</th>\n",
       "      <td>0</td>\n",
       "      <td>2</td>\n",
       "      <td>0</td>\n",
       "      <td>4.097469</td>\n",
       "      <td>0.506277</td>\n",
       "      <td>-0.050111</td>\n",
       "      <td>1.018018</td>\n",
       "      <td>-508.270650</td>\n",
       "      <td>0.993329</td>\n",
       "      <td>0.301362</td>\n",
       "      <td>3</td>\n",
       "      <td>15</td>\n",
       "      <td>0</td>\n",
       "      <td>509.368310</td>\n",
       "    </tr>\n",
       "    <tr>\n",
       "      <th>3</th>\n",
       "      <td>0</td>\n",
       "      <td>3</td>\n",
       "      <td>0</td>\n",
       "      <td>4.106868</td>\n",
       "      <td>0.503551</td>\n",
       "      <td>-0.048113</td>\n",
       "      <td>1.037503</td>\n",
       "      <td>-508.950662</td>\n",
       "      <td>0.998656</td>\n",
       "      <td>0.301362</td>\n",
       "      <td>4</td>\n",
       "      <td>15</td>\n",
       "      <td>0</td>\n",
       "      <td>509.009827</td>\n",
       "    </tr>\n",
       "    <tr>\n",
       "      <th>4</th>\n",
       "      <td>0</td>\n",
       "      <td>4</td>\n",
       "      <td>0</td>\n",
       "      <td>4.130073</td>\n",
       "      <td>0.490779</td>\n",
       "      <td>-0.051937</td>\n",
       "      <td>0.990403</td>\n",
       "      <td>-509.978241</td>\n",
       "      <td>0.816237</td>\n",
       "      <td>0.301362</td>\n",
       "      <td>4</td>\n",
       "      <td>15</td>\n",
       "      <td>0</td>\n",
       "      <td>514.490579</td>\n",
       "    </tr>\n",
       "    <tr>\n",
       "      <th>...</th>\n",
       "      <td>...</td>\n",
       "      <td>...</td>\n",
       "      <td>...</td>\n",
       "      <td>...</td>\n",
       "      <td>...</td>\n",
       "      <td>...</td>\n",
       "      <td>...</td>\n",
       "      <td>...</td>\n",
       "      <td>...</td>\n",
       "      <td>...</td>\n",
       "      <td>...</td>\n",
       "      <td>...</td>\n",
       "      <td>...</td>\n",
       "      <td>...</td>\n",
       "    </tr>\n",
       "    <tr>\n",
       "      <th>495</th>\n",
       "      <td>0</td>\n",
       "      <td>495</td>\n",
       "      <td>0</td>\n",
       "      <td>4.134395</td>\n",
       "      <td>0.509446</td>\n",
       "      <td>-0.061170</td>\n",
       "      <td>1.036559</td>\n",
       "      <td>-509.942858</td>\n",
       "      <td>0.877984</td>\n",
       "      <td>0.301362</td>\n",
       "      <td>2</td>\n",
       "      <td>3</td>\n",
       "      <td>0</td>\n",
       "      <td>511.604052</td>\n",
       "    </tr>\n",
       "    <tr>\n",
       "      <th>496</th>\n",
       "      <td>0</td>\n",
       "      <td>496</td>\n",
       "      <td>0</td>\n",
       "      <td>4.048593</td>\n",
       "      <td>0.505319</td>\n",
       "      <td>-0.048197</td>\n",
       "      <td>1.003558</td>\n",
       "      <td>-508.786379</td>\n",
       "      <td>0.996188</td>\n",
       "      <td>0.301362</td>\n",
       "      <td>4</td>\n",
       "      <td>15</td>\n",
       "      <td>0</td>\n",
       "      <td>511.698918</td>\n",
       "    </tr>\n",
       "    <tr>\n",
       "      <th>497</th>\n",
       "      <td>0</td>\n",
       "      <td>497</td>\n",
       "      <td>0</td>\n",
       "      <td>4.058265</td>\n",
       "      <td>0.512952</td>\n",
       "      <td>-0.039263</td>\n",
       "      <td>1.017580</td>\n",
       "      <td>-508.747427</td>\n",
       "      <td>0.990846</td>\n",
       "      <td>0.301362</td>\n",
       "      <td>3</td>\n",
       "      <td>15</td>\n",
       "      <td>0</td>\n",
       "      <td>509.360384</td>\n",
       "    </tr>\n",
       "    <tr>\n",
       "      <th>498</th>\n",
       "      <td>0</td>\n",
       "      <td>498</td>\n",
       "      <td>0</td>\n",
       "      <td>4.125238</td>\n",
       "      <td>0.509994</td>\n",
       "      <td>-0.055641</td>\n",
       "      <td>1.010120</td>\n",
       "      <td>-509.378307</td>\n",
       "      <td>0.861943</td>\n",
       "      <td>0.301362</td>\n",
       "      <td>3</td>\n",
       "      <td>15</td>\n",
       "      <td>0</td>\n",
       "      <td>510.331866</td>\n",
       "    </tr>\n",
       "    <tr>\n",
       "      <th>499</th>\n",
       "      <td>0</td>\n",
       "      <td>499</td>\n",
       "      <td>0</td>\n",
       "      <td>4.112582</td>\n",
       "      <td>0.507128</td>\n",
       "      <td>-0.079314</td>\n",
       "      <td>1.048657</td>\n",
       "      <td>-510.799426</td>\n",
       "      <td>0.883101</td>\n",
       "      <td>0.301362</td>\n",
       "      <td>3</td>\n",
       "      <td>15</td>\n",
       "      <td>0</td>\n",
       "      <td>513.648811</td>\n",
       "    </tr>\n",
       "  </tbody>\n",
       "</table>\n",
       "<p>500 rows × 14 columns</p>\n",
       "</div>"
      ],
      "text/plain": [
       "     chain  draw  warmup     alpha      beta     beta2     sigma        lp__  \\\n",
       "0        0     0       0  4.011501  0.505655 -0.001611  0.973964 -510.558236   \n",
       "1        0     1       0  4.008361  0.505132 -0.009198  0.984605 -509.243373   \n",
       "2        0     2       0  4.097469  0.506277 -0.050111  1.018018 -508.270650   \n",
       "3        0     3       0  4.106868  0.503551 -0.048113  1.037503 -508.950662   \n",
       "4        0     4       0  4.130073  0.490779 -0.051937  0.990403 -509.978241   \n",
       "..     ...   ...     ...       ...       ...       ...       ...         ...   \n",
       "495      0   495       0  4.134395  0.509446 -0.061170  1.036559 -509.942858   \n",
       "496      0   496       0  4.048593  0.505319 -0.048197  1.003558 -508.786379   \n",
       "497      0   497       0  4.058265  0.512952 -0.039263  1.017580 -508.747427   \n",
       "498      0   498       0  4.125238  0.509994 -0.055641  1.010120 -509.378307   \n",
       "499      0   499       0  4.112582  0.507128 -0.079314  1.048657 -510.799426   \n",
       "\n",
       "     accept_stat__  stepsize__  treedepth__  n_leapfrog__  divergent__  \\\n",
       "0         0.972632    0.301362            4            15            0   \n",
       "1         0.894239    0.301362            2             7            0   \n",
       "2         0.993329    0.301362            3            15            0   \n",
       "3         0.998656    0.301362            4            15            0   \n",
       "4         0.816237    0.301362            4            15            0   \n",
       "..             ...         ...          ...           ...          ...   \n",
       "495       0.877984    0.301362            2             3            0   \n",
       "496       0.996188    0.301362            4            15            0   \n",
       "497       0.990846    0.301362            3            15            0   \n",
       "498       0.861943    0.301362            3            15            0   \n",
       "499       0.883101    0.301362            3            15            0   \n",
       "\n",
       "       energy__  \n",
       "0    513.408309  \n",
       "1    511.213714  \n",
       "2    509.368310  \n",
       "3    509.009827  \n",
       "4    514.490579  \n",
       "..          ...  \n",
       "495  511.604052  \n",
       "496  511.698918  \n",
       "497  509.360384  \n",
       "498  510.331866  \n",
       "499  513.648811  \n",
       "\n",
       "[500 rows x 14 columns]"
      ]
     },
     "execution_count": 8,
     "metadata": {},
     "output_type": "execute_result"
    }
   ],
   "source": [
    "sim1 = fit.to_dataframe()\n",
    "sim1"
   ]
  },
  {
   "cell_type": "code",
   "execution_count": null,
   "metadata": {},
   "outputs": [],
   "source": []
  },
  {
   "cell_type": "code",
   "execution_count": 9,
   "metadata": {},
   "outputs": [
    {
     "data": {
      "text/plain": [
       "array([[ 4.06378968],\n",
       "       [ 0.50523401],\n",
       "       [-0.03800017],\n",
       "       [ 1.01178752]])"
      ]
     },
     "execution_count": 9,
     "metadata": {},
     "output_type": "execute_result"
    }
   ],
   "source": [
    "post_means  = fit.get_posterior_mean()\n",
    "post_means = post_means[0:len(post_means)-1]\n",
    "post_means"
   ]
  },
  {
   "cell_type": "code",
   "execution_count": 10,
   "metadata": {},
   "outputs": [
    {
     "data": {
      "text/plain": [
       "-1077.9387908652045"
      ]
     },
     "execution_count": 10,
     "metadata": {},
     "output_type": "execute_result"
    }
   ],
   "source": [
    "lik1 = fit.log_prob(post_means)\n",
    "\n",
    "lik1"
   ]
  },
  {
   "cell_type": "code",
   "execution_count": 11,
   "metadata": {},
   "outputs": [
    {
     "data": {
      "text/plain": [
       "lp__   -509.969994\n",
       "dtype: float64"
      ]
     },
     "execution_count": 11,
     "metadata": {},
     "output_type": "execute_result"
    }
   ],
   "source": [
    "np.mean(sim1[['lp__']])"
   ]
  },
  {
   "cell_type": "code",
   "execution_count": 12,
   "metadata": {},
   "outputs": [
    {
     "name": "stderr",
     "output_type": "stream",
     "text": [
      "INFO:numexpr.utils:NumExpr defaulting to 8 threads.\n"
     ]
    },
    {
     "data": {
      "text/plain": [
       "lp__   -1135.937593\n",
       "dtype: float64"
      ]
     },
     "execution_count": 12,
     "metadata": {},
     "output_type": "execute_result"
    }
   ],
   "source": [
    "DIC1 = 2*(lik1 - np.mean(sim1[['lp__']]))\n",
    "DIC1"
   ]
  },
  {
   "cell_type": "code",
   "execution_count": 13,
   "metadata": {},
   "outputs": [],
   "source": [
    "model2 = \"\"\"\n",
    "data {\n",
    "    int<lower=0> N;\n",
    "    vector[N] x;\n",
    "    vector[N] y;\n",
    "    vector[N] z;\n",
    "}\n",
    "parameters {\n",
    "    real alpha;\n",
    "    real beta;\n",
    "    real<lower=0> sigma;\n",
    "}\n",
    "model {\n",
    "    y ~ normal(alpha + beta * x , sigma);\n",
    "}\n",
    "\n",
    "\n",
    "\n",
    "\n",
    "\"\"\""
   ]
  },
  {
   "cell_type": "code",
   "execution_count": 14,
   "metadata": {},
   "outputs": [
    {
     "name": "stderr",
     "output_type": "stream",
     "text": [
      "INFO:pystan:COMPILING THE C++ CODE FOR MODEL anon_model_ddb2ffeb4973f36a46ac6b7b7f073873 NOW.\n"
     ]
    }
   ],
   "source": [
    "# Put our data in a dictionary\n",
    "data = {'N': len(x), 'x': x, 'y': y, 'z':z }\n",
    "\n",
    "# Compile the model\n",
    "sm = pystan.StanModel(model_code=model2)\n",
    "\n",
    "# Train the model and generate samples\n",
    "fit2 = sm.sampling(data=data, iter=1000, chains=1, warmup=500, thin=1, seed=101)"
   ]
  },
  {
   "cell_type": "code",
   "execution_count": 15,
   "metadata": {},
   "outputs": [
    {
     "data": {
      "text/plain": [
       "Inference for Stan model: anon_model_ddb2ffeb4973f36a46ac6b7b7f073873.\n",
       "1 chains, each with iter=1000; warmup=500; thin=1; \n",
       "post-warmup draws per chain=500, total post-warmup draws=500.\n",
       "\n",
       "        mean se_mean     sd   2.5%    25%    50%    75%  97.5%  n_eff   Rhat\n",
       "alpha    4.0  4.2e-3   0.06   3.87   3.95    4.0   4.04   4.11    204    1.0\n",
       "beta     0.5  6.9e-4   0.01   0.48    0.5    0.5   0.51   0.52    250    1.0\n",
       "sigma   1.01  1.3e-3   0.02   0.97   0.99   1.01   1.03   1.06    293    1.0\n",
       "lp__  -510.4    0.08   1.13 -513.3 -511.0 -510.1 -509.6 -509.1    228   1.02\n",
       "\n",
       "Samples were drawn using NUTS at Wed Sep  9 15:49:39 2020.\n",
       "For each parameter, n_eff is a crude measure of effective sample size,\n",
       "and Rhat is the potential scale reduction factor on split chains (at \n",
       "convergence, Rhat=1)."
      ]
     },
     "execution_count": 15,
     "metadata": {},
     "output_type": "execute_result"
    }
   ],
   "source": [
    "fit2"
   ]
  },
  {
   "cell_type": "code",
   "execution_count": null,
   "metadata": {},
   "outputs": [],
   "source": []
  },
  {
   "cell_type": "code",
   "execution_count": 16,
   "metadata": {},
   "outputs": [
    {
     "data": {
      "text/plain": [
       "array([[3.99713491],\n",
       "       [0.50317854],\n",
       "       [1.01130939]])"
      ]
     },
     "execution_count": 16,
     "metadata": {},
     "output_type": "execute_result"
    }
   ],
   "source": [
    "post_means  = fit2.get_posterior_mean()\n",
    "post_means = post_means[0:len(post_means)-1]\n",
    "\n",
    "post_means"
   ]
  },
  {
   "cell_type": "code",
   "execution_count": 17,
   "metadata": {},
   "outputs": [
    {
     "data": {
      "text/plain": [
       "-1077.659385798255"
      ]
     },
     "execution_count": 17,
     "metadata": {},
     "output_type": "execute_result"
    }
   ],
   "source": [
    "lik2 = fit2.log_prob(post_means)\n",
    "lik2"
   ]
  },
  {
   "cell_type": "code",
   "execution_count": 18,
   "metadata": {},
   "outputs": [
    {
     "data": {
      "text/html": [
       "<div>\n",
       "<style scoped>\n",
       "    .dataframe tbody tr th:only-of-type {\n",
       "        vertical-align: middle;\n",
       "    }\n",
       "\n",
       "    .dataframe tbody tr th {\n",
       "        vertical-align: top;\n",
       "    }\n",
       "\n",
       "    .dataframe thead th {\n",
       "        text-align: right;\n",
       "    }\n",
       "</style>\n",
       "<table border=\"1\" class=\"dataframe\">\n",
       "  <thead>\n",
       "    <tr style=\"text-align: right;\">\n",
       "      <th></th>\n",
       "      <th>chain</th>\n",
       "      <th>draw</th>\n",
       "      <th>warmup</th>\n",
       "      <th>alpha</th>\n",
       "      <th>beta</th>\n",
       "      <th>sigma</th>\n",
       "      <th>lp__</th>\n",
       "      <th>accept_stat__</th>\n",
       "      <th>stepsize__</th>\n",
       "      <th>treedepth__</th>\n",
       "      <th>n_leapfrog__</th>\n",
       "      <th>divergent__</th>\n",
       "      <th>energy__</th>\n",
       "    </tr>\n",
       "  </thead>\n",
       "  <tbody>\n",
       "    <tr>\n",
       "      <th>0</th>\n",
       "      <td>0</td>\n",
       "      <td>0</td>\n",
       "      <td>0</td>\n",
       "      <td>4.034058</td>\n",
       "      <td>0.493428</td>\n",
       "      <td>0.990808</td>\n",
       "      <td>-509.897863</td>\n",
       "      <td>0.979900</td>\n",
       "      <td>0.37545</td>\n",
       "      <td>3</td>\n",
       "      <td>7</td>\n",
       "      <td>0</td>\n",
       "      <td>510.384038</td>\n",
       "    </tr>\n",
       "    <tr>\n",
       "      <th>1</th>\n",
       "      <td>0</td>\n",
       "      <td>1</td>\n",
       "      <td>0</td>\n",
       "      <td>4.028704</td>\n",
       "      <td>0.489461</td>\n",
       "      <td>0.992141</td>\n",
       "      <td>-510.849404</td>\n",
       "      <td>0.877564</td>\n",
       "      <td>0.37545</td>\n",
       "      <td>3</td>\n",
       "      <td>7</td>\n",
       "      <td>0</td>\n",
       "      <td>510.931743</td>\n",
       "    </tr>\n",
       "    <tr>\n",
       "      <th>2</th>\n",
       "      <td>0</td>\n",
       "      <td>2</td>\n",
       "      <td>0</td>\n",
       "      <td>4.004068</td>\n",
       "      <td>0.506017</td>\n",
       "      <td>0.997924</td>\n",
       "      <td>-509.400059</td>\n",
       "      <td>0.917027</td>\n",
       "      <td>0.37545</td>\n",
       "      <td>3</td>\n",
       "      <td>7</td>\n",
       "      <td>0</td>\n",
       "      <td>511.525388</td>\n",
       "    </tr>\n",
       "    <tr>\n",
       "      <th>3</th>\n",
       "      <td>0</td>\n",
       "      <td>3</td>\n",
       "      <td>0</td>\n",
       "      <td>4.035887</td>\n",
       "      <td>0.492648</td>\n",
       "      <td>1.022687</td>\n",
       "      <td>-509.763308</td>\n",
       "      <td>0.982189</td>\n",
       "      <td>0.37545</td>\n",
       "      <td>4</td>\n",
       "      <td>15</td>\n",
       "      <td>0</td>\n",
       "      <td>510.232175</td>\n",
       "    </tr>\n",
       "    <tr>\n",
       "      <th>4</th>\n",
       "      <td>0</td>\n",
       "      <td>4</td>\n",
       "      <td>0</td>\n",
       "      <td>3.946723</td>\n",
       "      <td>0.516843</td>\n",
       "      <td>0.989822</td>\n",
       "      <td>-510.264040</td>\n",
       "      <td>0.976853</td>\n",
       "      <td>0.37545</td>\n",
       "      <td>3</td>\n",
       "      <td>7</td>\n",
       "      <td>0</td>\n",
       "      <td>511.092703</td>\n",
       "    </tr>\n",
       "    <tr>\n",
       "      <th>...</th>\n",
       "      <td>...</td>\n",
       "      <td>...</td>\n",
       "      <td>...</td>\n",
       "      <td>...</td>\n",
       "      <td>...</td>\n",
       "      <td>...</td>\n",
       "      <td>...</td>\n",
       "      <td>...</td>\n",
       "      <td>...</td>\n",
       "      <td>...</td>\n",
       "      <td>...</td>\n",
       "      <td>...</td>\n",
       "      <td>...</td>\n",
       "    </tr>\n",
       "    <tr>\n",
       "      <th>495</th>\n",
       "      <td>0</td>\n",
       "      <td>495</td>\n",
       "      <td>0</td>\n",
       "      <td>4.027954</td>\n",
       "      <td>0.494081</td>\n",
       "      <td>1.008007</td>\n",
       "      <td>-509.510058</td>\n",
       "      <td>0.777054</td>\n",
       "      <td>0.37545</td>\n",
       "      <td>2</td>\n",
       "      <td>3</td>\n",
       "      <td>0</td>\n",
       "      <td>510.928708</td>\n",
       "    </tr>\n",
       "    <tr>\n",
       "      <th>496</th>\n",
       "      <td>0</td>\n",
       "      <td>496</td>\n",
       "      <td>0</td>\n",
       "      <td>3.998435</td>\n",
       "      <td>0.493322</td>\n",
       "      <td>1.010072</td>\n",
       "      <td>-510.568860</td>\n",
       "      <td>0.839290</td>\n",
       "      <td>0.37545</td>\n",
       "      <td>2</td>\n",
       "      <td>7</td>\n",
       "      <td>0</td>\n",
       "      <td>510.984956</td>\n",
       "    </tr>\n",
       "    <tr>\n",
       "      <th>497</th>\n",
       "      <td>0</td>\n",
       "      <td>497</td>\n",
       "      <td>0</td>\n",
       "      <td>3.998435</td>\n",
       "      <td>0.493322</td>\n",
       "      <td>1.010072</td>\n",
       "      <td>-510.568860</td>\n",
       "      <td>0.671822</td>\n",
       "      <td>0.37545</td>\n",
       "      <td>1</td>\n",
       "      <td>3</td>\n",
       "      <td>0</td>\n",
       "      <td>512.372628</td>\n",
       "    </tr>\n",
       "    <tr>\n",
       "      <th>498</th>\n",
       "      <td>0</td>\n",
       "      <td>498</td>\n",
       "      <td>0</td>\n",
       "      <td>4.015931</td>\n",
       "      <td>0.493247</td>\n",
       "      <td>1.019368</td>\n",
       "      <td>-509.999736</td>\n",
       "      <td>0.992574</td>\n",
       "      <td>0.37545</td>\n",
       "      <td>2</td>\n",
       "      <td>7</td>\n",
       "      <td>0</td>\n",
       "      <td>511.154006</td>\n",
       "    </tr>\n",
       "    <tr>\n",
       "      <th>499</th>\n",
       "      <td>0</td>\n",
       "      <td>499</td>\n",
       "      <td>0</td>\n",
       "      <td>3.975090</td>\n",
       "      <td>0.511499</td>\n",
       "      <td>1.013245</td>\n",
       "      <td>-509.443918</td>\n",
       "      <td>0.983702</td>\n",
       "      <td>0.37545</td>\n",
       "      <td>4</td>\n",
       "      <td>15</td>\n",
       "      <td>0</td>\n",
       "      <td>510.067476</td>\n",
       "    </tr>\n",
       "  </tbody>\n",
       "</table>\n",
       "<p>500 rows × 13 columns</p>\n",
       "</div>"
      ],
      "text/plain": [
       "     chain  draw  warmup     alpha      beta     sigma        lp__  \\\n",
       "0        0     0       0  4.034058  0.493428  0.990808 -509.897863   \n",
       "1        0     1       0  4.028704  0.489461  0.992141 -510.849404   \n",
       "2        0     2       0  4.004068  0.506017  0.997924 -509.400059   \n",
       "3        0     3       0  4.035887  0.492648  1.022687 -509.763308   \n",
       "4        0     4       0  3.946723  0.516843  0.989822 -510.264040   \n",
       "..     ...   ...     ...       ...       ...       ...         ...   \n",
       "495      0   495       0  4.027954  0.494081  1.008007 -509.510058   \n",
       "496      0   496       0  3.998435  0.493322  1.010072 -510.568860   \n",
       "497      0   497       0  3.998435  0.493322  1.010072 -510.568860   \n",
       "498      0   498       0  4.015931  0.493247  1.019368 -509.999736   \n",
       "499      0   499       0  3.975090  0.511499  1.013245 -509.443918   \n",
       "\n",
       "     accept_stat__  stepsize__  treedepth__  n_leapfrog__  divergent__  \\\n",
       "0         0.979900     0.37545            3             7            0   \n",
       "1         0.877564     0.37545            3             7            0   \n",
       "2         0.917027     0.37545            3             7            0   \n",
       "3         0.982189     0.37545            4            15            0   \n",
       "4         0.976853     0.37545            3             7            0   \n",
       "..             ...         ...          ...           ...          ...   \n",
       "495       0.777054     0.37545            2             3            0   \n",
       "496       0.839290     0.37545            2             7            0   \n",
       "497       0.671822     0.37545            1             3            0   \n",
       "498       0.992574     0.37545            2             7            0   \n",
       "499       0.983702     0.37545            4            15            0   \n",
       "\n",
       "       energy__  \n",
       "0    510.384038  \n",
       "1    510.931743  \n",
       "2    511.525388  \n",
       "3    510.232175  \n",
       "4    511.092703  \n",
       "..          ...  \n",
       "495  510.928708  \n",
       "496  510.984956  \n",
       "497  512.372628  \n",
       "498  511.154006  \n",
       "499  510.067476  \n",
       "\n",
       "[500 rows x 13 columns]"
      ]
     },
     "execution_count": 18,
     "metadata": {},
     "output_type": "execute_result"
    }
   ],
   "source": [
    "sim2 = fit2.to_dataframe()\n",
    "sim2"
   ]
  },
  {
   "cell_type": "code",
   "execution_count": 19,
   "metadata": {},
   "outputs": [
    {
     "data": {
      "text/plain": [
       "lp__   -510.459814\n",
       "dtype: float64"
      ]
     },
     "execution_count": 19,
     "metadata": {},
     "output_type": "execute_result"
    }
   ],
   "source": [
    "np.mean(sim2[['lp__']])"
   ]
  },
  {
   "cell_type": "code",
   "execution_count": 20,
   "metadata": {},
   "outputs": [
    {
     "data": {
      "text/plain": [
       "lp__   -1134.399144\n",
       "dtype: float64"
      ]
     },
     "execution_count": 20,
     "metadata": {},
     "output_type": "execute_result"
    }
   ],
   "source": [
    "DIC2 = 2*(lik2 - np.mean(sim2[['lp__']]))\n",
    "DIC2"
   ]
  },
  {
   "cell_type": "code",
   "execution_count": null,
   "metadata": {},
   "outputs": [],
   "source": []
  },
  {
   "cell_type": "code",
   "execution_count": 74,
   "metadata": {},
   "outputs": [
    {
     "data": {
      "text/plain": [
       "lp__   -1135.937593\n",
       "dtype: float64"
      ]
     },
     "execution_count": 74,
     "metadata": {},
     "output_type": "execute_result"
    }
   ],
   "source": [
    "DIC1"
   ]
  },
  {
   "cell_type": "code",
   "execution_count": 75,
   "metadata": {},
   "outputs": [
    {
     "data": {
      "text/plain": [
       "lp__   -1134.399144\n",
       "dtype: float64"
      ]
     },
     "execution_count": 75,
     "metadata": {},
     "output_type": "execute_result"
    }
   ],
   "source": [
    "DIC2"
   ]
  },
  {
   "cell_type": "code",
   "execution_count": null,
   "metadata": {},
   "outputs": [],
   "source": []
  },
  {
   "cell_type": "code",
   "execution_count": 76,
   "metadata": {},
   "outputs": [],
   "source": [
    "#^ The one with the higher DIC is better. \n",
    "#In this case, since model 1 had unnecessary parameters, DIC2 is better so its penalizing for parameters correctly\n",
    "#it since it has a data based degrees of freedom calculation, it's valid for multiplicative models too\n"
   ]
  },
  {
   "cell_type": "code",
   "execution_count": 77,
   "metadata": {},
   "outputs": [],
   "source": []
  },
  {
   "cell_type": "code",
   "execution_count": 78,
   "metadata": {},
   "outputs": [
    {
     "name": "stderr",
     "output_type": "stream",
     "text": [
      "INFO:pystan:COMPILING THE C++ CODE FOR MODEL anon_model_a33929003e9509f9c9fbc54beac0c762 NOW.\n"
     ]
    }
   ],
   "source": []
  },
  {
   "cell_type": "code",
   "execution_count": 79,
   "metadata": {},
   "outputs": [
    {
     "data": {
      "text/plain": [
       "Inference for Stan model: anon_model_a33929003e9509f9c9fbc54beac0c762.\n",
       "1 chains, each with iter=1000; warmup=500; thin=1; \n",
       "post-warmup draws per chain=500, total post-warmup draws=500.\n",
       "\n",
       "         mean se_mean     sd   2.5%    25%    50%    75%  97.5%  n_eff   Rhat\n",
       "alpha1    4.0  4.8e-3   0.09   3.84   3.94    4.0   4.06   4.18    337    1.0\n",
       "beta1     0.5  8.2e-4   0.01   0.47   0.49    0.5   0.51   0.53    324    1.0\n",
       "sigma1   1.02  1.2e-3   0.03   0.95    1.0   1.02   1.04   1.08    648    1.0\n",
       "alpha2   3.98  3.9e-3   0.08   3.82   3.93   3.99   4.04   4.14    425    1.0\n",
       "beta2    0.51  7.0e-4   0.01   0.48    0.5   0.51   0.52   0.54    461    1.0\n",
       "sigma2   1.01  1.3e-3   0.03   0.95   0.98   1.01   1.03   1.07    702    1.0\n",
       "lp__   -511.1     0.1   1.63 -515.0 -511.9 -510.8 -510.0 -508.6    247    1.0\n",
       "\n",
       "Samples were drawn using NUTS at Wed Sep  9 16:22:38 2020.\n",
       "For each parameter, n_eff is a crude measure of effective sample size,\n",
       "and Rhat is the potential scale reduction factor on split chains (at \n",
       "convergence, Rhat=1)."
      ]
     },
     "execution_count": 79,
     "metadata": {},
     "output_type": "execute_result"
    }
   ],
   "source": []
  },
  {
   "cell_type": "code",
   "execution_count": null,
   "metadata": {},
   "outputs": [],
   "source": []
  },
  {
   "cell_type": "code",
   "execution_count": 80,
   "metadata": {},
   "outputs": [
    {
     "data": {
      "text/plain": [
       "array([[4.00113683],\n",
       "       [0.49673403],\n",
       "       [1.01593714],\n",
       "       [3.98372349],\n",
       "       [0.51258991],\n",
       "       [1.00809936]])"
      ]
     },
     "execution_count": 80,
     "metadata": {},
     "output_type": "execute_result"
    }
   ],
   "source": []
  },
  {
   "cell_type": "code",
   "execution_count": 81,
   "metadata": {},
   "outputs": [
    {
     "data": {
      "text/plain": [
       "-508.25444174494277"
      ]
     },
     "execution_count": 81,
     "metadata": {},
     "output_type": "execute_result"
    }
   ],
   "source": []
  },
  {
   "cell_type": "code",
   "execution_count": 58,
   "metadata": {},
   "outputs": [
    {
     "data": {
      "text/html": [
       "<div>\n",
       "<style scoped>\n",
       "    .dataframe tbody tr th:only-of-type {\n",
       "        vertical-align: middle;\n",
       "    }\n",
       "\n",
       "    .dataframe tbody tr th {\n",
       "        vertical-align: top;\n",
       "    }\n",
       "\n",
       "    .dataframe thead th {\n",
       "        text-align: right;\n",
       "    }\n",
       "</style>\n",
       "<table border=\"1\" class=\"dataframe\">\n",
       "  <thead>\n",
       "    <tr style=\"text-align: right;\">\n",
       "      <th></th>\n",
       "      <th>chain</th>\n",
       "      <th>draw</th>\n",
       "      <th>warmup</th>\n",
       "      <th>alpha1</th>\n",
       "      <th>beta1</th>\n",
       "      <th>sigma1</th>\n",
       "      <th>alpha2</th>\n",
       "      <th>beta2</th>\n",
       "      <th>sigma2</th>\n",
       "      <th>lp__</th>\n",
       "      <th>accept_stat__</th>\n",
       "      <th>stepsize__</th>\n",
       "      <th>treedepth__</th>\n",
       "      <th>n_leapfrog__</th>\n",
       "      <th>divergent__</th>\n",
       "      <th>energy__</th>\n",
       "    </tr>\n",
       "  </thead>\n",
       "  <tbody>\n",
       "    <tr>\n",
       "      <th>0</th>\n",
       "      <td>0</td>\n",
       "      <td>0</td>\n",
       "      <td>0</td>\n",
       "      <td>4.070167</td>\n",
       "      <td>0.479644</td>\n",
       "      <td>0.979756</td>\n",
       "      <td>3.818995</td>\n",
       "      <td>0.531778</td>\n",
       "      <td>1.019212</td>\n",
       "      <td>-509.527057</td>\n",
       "      <td>0.993839</td>\n",
       "      <td>0.339827</td>\n",
       "      <td>2</td>\n",
       "      <td>7</td>\n",
       "      <td>0</td>\n",
       "      <td>511.672067</td>\n",
       "    </tr>\n",
       "    <tr>\n",
       "      <th>1</th>\n",
       "      <td>0</td>\n",
       "      <td>1</td>\n",
       "      <td>0</td>\n",
       "      <td>4.091176</td>\n",
       "      <td>0.496481</td>\n",
       "      <td>1.020266</td>\n",
       "      <td>3.810023</td>\n",
       "      <td>0.539210</td>\n",
       "      <td>1.074989</td>\n",
       "      <td>-509.935184</td>\n",
       "      <td>0.975337</td>\n",
       "      <td>0.339827</td>\n",
       "      <td>4</td>\n",
       "      <td>15</td>\n",
       "      <td>0</td>\n",
       "      <td>512.283114</td>\n",
       "    </tr>\n",
       "    <tr>\n",
       "      <th>2</th>\n",
       "      <td>0</td>\n",
       "      <td>2</td>\n",
       "      <td>0</td>\n",
       "      <td>4.035564</td>\n",
       "      <td>0.487070</td>\n",
       "      <td>1.017721</td>\n",
       "      <td>3.867564</td>\n",
       "      <td>0.538554</td>\n",
       "      <td>0.962841</td>\n",
       "      <td>-510.430236</td>\n",
       "      <td>0.918261</td>\n",
       "      <td>0.339827</td>\n",
       "      <td>3</td>\n",
       "      <td>7</td>\n",
       "      <td>0</td>\n",
       "      <td>513.406255</td>\n",
       "    </tr>\n",
       "    <tr>\n",
       "      <th>3</th>\n",
       "      <td>0</td>\n",
       "      <td>3</td>\n",
       "      <td>0</td>\n",
       "      <td>3.993038</td>\n",
       "      <td>0.482927</td>\n",
       "      <td>1.033366</td>\n",
       "      <td>3.857825</td>\n",
       "      <td>0.529195</td>\n",
       "      <td>0.985389</td>\n",
       "      <td>-513.086868</td>\n",
       "      <td>0.759327</td>\n",
       "      <td>0.339827</td>\n",
       "      <td>4</td>\n",
       "      <td>15</td>\n",
       "      <td>0</td>\n",
       "      <td>517.402482</td>\n",
       "    </tr>\n",
       "    <tr>\n",
       "      <th>4</th>\n",
       "      <td>0</td>\n",
       "      <td>4</td>\n",
       "      <td>0</td>\n",
       "      <td>4.030942</td>\n",
       "      <td>0.498570</td>\n",
       "      <td>1.037344</td>\n",
       "      <td>3.909373</td>\n",
       "      <td>0.531053</td>\n",
       "      <td>1.013648</td>\n",
       "      <td>-509.203715</td>\n",
       "      <td>1.000000</td>\n",
       "      <td>0.339827</td>\n",
       "      <td>2</td>\n",
       "      <td>3</td>\n",
       "      <td>0</td>\n",
       "      <td>513.369295</td>\n",
       "    </tr>\n",
       "    <tr>\n",
       "      <th>...</th>\n",
       "      <td>...</td>\n",
       "      <td>...</td>\n",
       "      <td>...</td>\n",
       "      <td>...</td>\n",
       "      <td>...</td>\n",
       "      <td>...</td>\n",
       "      <td>...</td>\n",
       "      <td>...</td>\n",
       "      <td>...</td>\n",
       "      <td>...</td>\n",
       "      <td>...</td>\n",
       "      <td>...</td>\n",
       "      <td>...</td>\n",
       "      <td>...</td>\n",
       "      <td>...</td>\n",
       "      <td>...</td>\n",
       "    </tr>\n",
       "    <tr>\n",
       "      <th>495</th>\n",
       "      <td>0</td>\n",
       "      <td>495</td>\n",
       "      <td>0</td>\n",
       "      <td>4.142142</td>\n",
       "      <td>0.481288</td>\n",
       "      <td>1.023829</td>\n",
       "      <td>3.945561</td>\n",
       "      <td>0.514835</td>\n",
       "      <td>0.986078</td>\n",
       "      <td>-509.856794</td>\n",
       "      <td>0.883758</td>\n",
       "      <td>0.339827</td>\n",
       "      <td>4</td>\n",
       "      <td>15</td>\n",
       "      <td>0</td>\n",
       "      <td>518.490783</td>\n",
       "    </tr>\n",
       "    <tr>\n",
       "      <th>496</th>\n",
       "      <td>0</td>\n",
       "      <td>496</td>\n",
       "      <td>0</td>\n",
       "      <td>4.098357</td>\n",
       "      <td>0.483851</td>\n",
       "      <td>1.018869</td>\n",
       "      <td>3.983931</td>\n",
       "      <td>0.518850</td>\n",
       "      <td>0.996082</td>\n",
       "      <td>-509.325832</td>\n",
       "      <td>0.989155</td>\n",
       "      <td>0.339827</td>\n",
       "      <td>3</td>\n",
       "      <td>7</td>\n",
       "      <td>0</td>\n",
       "      <td>510.488818</td>\n",
       "    </tr>\n",
       "    <tr>\n",
       "      <th>497</th>\n",
       "      <td>0</td>\n",
       "      <td>497</td>\n",
       "      <td>0</td>\n",
       "      <td>4.068526</td>\n",
       "      <td>0.475670</td>\n",
       "      <td>0.986317</td>\n",
       "      <td>3.672221</td>\n",
       "      <td>0.553006</td>\n",
       "      <td>1.081344</td>\n",
       "      <td>-512.454210</td>\n",
       "      <td>0.745961</td>\n",
       "      <td>0.339827</td>\n",
       "      <td>4</td>\n",
       "      <td>15</td>\n",
       "      <td>0</td>\n",
       "      <td>514.493758</td>\n",
       "    </tr>\n",
       "    <tr>\n",
       "      <th>498</th>\n",
       "      <td>0</td>\n",
       "      <td>498</td>\n",
       "      <td>0</td>\n",
       "      <td>4.216921</td>\n",
       "      <td>0.476690</td>\n",
       "      <td>1.060150</td>\n",
       "      <td>3.896735</td>\n",
       "      <td>0.537281</td>\n",
       "      <td>1.072656</td>\n",
       "      <td>-514.273174</td>\n",
       "      <td>0.989612</td>\n",
       "      <td>0.339827</td>\n",
       "      <td>4</td>\n",
       "      <td>15</td>\n",
       "      <td>0</td>\n",
       "      <td>517.548668</td>\n",
       "    </tr>\n",
       "    <tr>\n",
       "      <th>499</th>\n",
       "      <td>0</td>\n",
       "      <td>499</td>\n",
       "      <td>0</td>\n",
       "      <td>4.207841</td>\n",
       "      <td>0.472831</td>\n",
       "      <td>1.047351</td>\n",
       "      <td>3.819717</td>\n",
       "      <td>0.546150</td>\n",
       "      <td>1.062876</td>\n",
       "      <td>-512.137674</td>\n",
       "      <td>0.993835</td>\n",
       "      <td>0.339827</td>\n",
       "      <td>4</td>\n",
       "      <td>15</td>\n",
       "      <td>0</td>\n",
       "      <td>518.001072</td>\n",
       "    </tr>\n",
       "  </tbody>\n",
       "</table>\n",
       "<p>500 rows × 16 columns</p>\n",
       "</div>"
      ],
      "text/plain": [
       "     chain  draw  warmup    alpha1     beta1    sigma1    alpha2     beta2  \\\n",
       "0        0     0       0  4.070167  0.479644  0.979756  3.818995  0.531778   \n",
       "1        0     1       0  4.091176  0.496481  1.020266  3.810023  0.539210   \n",
       "2        0     2       0  4.035564  0.487070  1.017721  3.867564  0.538554   \n",
       "3        0     3       0  3.993038  0.482927  1.033366  3.857825  0.529195   \n",
       "4        0     4       0  4.030942  0.498570  1.037344  3.909373  0.531053   \n",
       "..     ...   ...     ...       ...       ...       ...       ...       ...   \n",
       "495      0   495       0  4.142142  0.481288  1.023829  3.945561  0.514835   \n",
       "496      0   496       0  4.098357  0.483851  1.018869  3.983931  0.518850   \n",
       "497      0   497       0  4.068526  0.475670  0.986317  3.672221  0.553006   \n",
       "498      0   498       0  4.216921  0.476690  1.060150  3.896735  0.537281   \n",
       "499      0   499       0  4.207841  0.472831  1.047351  3.819717  0.546150   \n",
       "\n",
       "       sigma2        lp__  accept_stat__  stepsize__  treedepth__  \\\n",
       "0    1.019212 -509.527057       0.993839    0.339827            2   \n",
       "1    1.074989 -509.935184       0.975337    0.339827            4   \n",
       "2    0.962841 -510.430236       0.918261    0.339827            3   \n",
       "3    0.985389 -513.086868       0.759327    0.339827            4   \n",
       "4    1.013648 -509.203715       1.000000    0.339827            2   \n",
       "..        ...         ...            ...         ...          ...   \n",
       "495  0.986078 -509.856794       0.883758    0.339827            4   \n",
       "496  0.996082 -509.325832       0.989155    0.339827            3   \n",
       "497  1.081344 -512.454210       0.745961    0.339827            4   \n",
       "498  1.072656 -514.273174       0.989612    0.339827            4   \n",
       "499  1.062876 -512.137674       0.993835    0.339827            4   \n",
       "\n",
       "     n_leapfrog__  divergent__    energy__  \n",
       "0               7            0  511.672067  \n",
       "1              15            0  512.283114  \n",
       "2               7            0  513.406255  \n",
       "3              15            0  517.402482  \n",
       "4               3            0  513.369295  \n",
       "..            ...          ...         ...  \n",
       "495            15            0  518.490783  \n",
       "496             7            0  510.488818  \n",
       "497            15            0  514.493758  \n",
       "498            15            0  517.548668  \n",
       "499            15            0  518.001072  \n",
       "\n",
       "[500 rows x 16 columns]"
      ]
     },
     "execution_count": 58,
     "metadata": {},
     "output_type": "execute_result"
    }
   ],
   "source": []
  },
  {
   "cell_type": "code",
   "execution_count": 59,
   "metadata": {},
   "outputs": [
    {
     "data": {
      "text/plain": [
       "lp__   -510.606534\n",
       "dtype: float64"
      ]
     },
     "execution_count": 59,
     "metadata": {},
     "output_type": "execute_result"
    }
   ],
   "source": []
  },
  {
   "cell_type": "code",
   "execution_count": 60,
   "metadata": {},
   "outputs": [
    {
     "data": {
      "text/plain": [
       "lp__   -510.459814\n",
       "dtype: float64"
      ]
     },
     "execution_count": 60,
     "metadata": {},
     "output_type": "execute_result"
    }
   ],
   "source": []
  },
  {
   "cell_type": "code",
   "execution_count": 61,
   "metadata": {},
   "outputs": [
    {
     "data": {
      "text/plain": [
       "-1077.659385798255"
      ]
     },
     "execution_count": 61,
     "metadata": {},
     "output_type": "execute_result"
    }
   ],
   "source": []
  },
  {
   "cell_type": "code",
   "execution_count": 62,
   "metadata": {},
   "outputs": [
    {
     "data": {
      "text/plain": [
       "-507.7439339946402"
      ]
     },
     "execution_count": 62,
     "metadata": {},
     "output_type": "execute_result"
    }
   ],
   "source": []
  },
  {
   "cell_type": "code",
   "execution_count": 63,
   "metadata": {},
   "outputs": [
    {
     "data": {
      "text/plain": [
       "lp__    5.725201\n",
       "dtype: float64"
      ]
     },
     "execution_count": 63,
     "metadata": {},
     "output_type": "execute_result"
    }
   ],
   "source": []
  },
  {
   "cell_type": "code",
   "execution_count": null,
   "metadata": {},
   "outputs": [],
   "source": []
  },
  {
   "cell_type": "code",
   "execution_count": 52,
   "metadata": {},
   "outputs": [],
   "source": [
    "## simulation GOF test"
   ]
  },
  {
   "cell_type": "code",
   "execution_count": 64,
   "metadata": {
    "scrolled": true
   },
   "outputs": [
    {
     "data": {
      "text/plain": [
       "Inference for Stan model: anon_model_ddb2ffeb4973f36a46ac6b7b7f073873.\n",
       "1 chains, each with iter=1000; warmup=500; thin=1; \n",
       "post-warmup draws per chain=500, total post-warmup draws=500.\n",
       "\n",
       "        mean se_mean     sd   2.5%    25%    50%    75%  97.5%  n_eff   Rhat\n",
       "alpha    4.0  4.2e-3   0.06   3.87   3.95    4.0   4.04   4.11    204    1.0\n",
       "beta     0.5  6.9e-4   0.01   0.48    0.5    0.5   0.51   0.52    250    1.0\n",
       "sigma   1.01  1.3e-3   0.02   0.97   0.99   1.01   1.03   1.06    293    1.0\n",
       "lp__  -510.4    0.08   1.13 -513.3 -511.0 -510.1 -509.6 -509.1    228   1.02\n",
       "\n",
       "Samples were drawn using NUTS at Wed Sep  9 15:49:39 2020.\n",
       "For each parameter, n_eff is a crude measure of effective sample size,\n",
       "and Rhat is the potential scale reduction factor on split chains (at \n",
       "convergence, Rhat=1)."
      ]
     },
     "execution_count": 64,
     "metadata": {},
     "output_type": "execute_result"
    }
   ],
   "source": [
    "fit2"
   ]
  },
  {
   "cell_type": "code",
   "execution_count": 66,
   "metadata": {},
   "outputs": [
    {
     "data": {
      "text/plain": [
       "array([[3.99713491],\n",
       "       [0.50317854],\n",
       "       [1.01130939]])"
      ]
     },
     "execution_count": 66,
     "metadata": {},
     "output_type": "execute_result"
    }
   ],
   "source": [
    "post_means  = fit2.get_posterior_mean()\n",
    "post_means = post_means[0:len(post_means)-1]\n",
    "\n",
    "post_means"
   ]
  },
  {
   "cell_type": "code",
   "execution_count": 70,
   "metadata": {},
   "outputs": [],
   "source": [
    "import random\n",
    "\n",
    "n_sim = 100\n",
    "n_len = len(x)\n",
    "sim_Y = np.empty([n_sim,n_len])\n",
    "\n",
    "\n",
    "current_alpha = post_means[0]\n",
    "current_beta = post_means[1]\n",
    "current_sigma = post_means[2]\n",
    "\n",
    "\n",
    "for i in range(0, n_sim):\n",
    "    sim_Y[i,0] = current_alpha\n",
    "    for j in range(1, n_len):\n",
    "        sim_Y[i,j] = current_alpha + current_beta * sim_Y[i,j-1] + random.gauss(0, current_sigma)\n",
    "\n",
    "\n"
   ]
  },
  {
   "cell_type": "code",
   "execution_count": 71,
   "metadata": {},
   "outputs": [
    {
     "data": {
      "text/plain": [
       "[<matplotlib.lines.Line2D at 0x7f8e8204db50>,\n",
       " <matplotlib.lines.Line2D at 0x7f8e8204dc70>,\n",
       " <matplotlib.lines.Line2D at 0x7f8e8204dd30>,\n",
       " <matplotlib.lines.Line2D at 0x7f8e8204ddf0>,\n",
       " <matplotlib.lines.Line2D at 0x7f8e8204deb0>,\n",
       " <matplotlib.lines.Line2D at 0x7f8e8204df70>,\n",
       " <matplotlib.lines.Line2D at 0x7f8e82057040>,\n",
       " <matplotlib.lines.Line2D at 0x7f8e82057130>,\n",
       " <matplotlib.lines.Line2D at 0x7f8e820571f0>,\n",
       " <matplotlib.lines.Line2D at 0x7f8e820572b0>,\n",
       " <matplotlib.lines.Line2D at 0x7f8e81f6ea30>,\n",
       " <matplotlib.lines.Line2D at 0x7f8e820573d0>,\n",
       " <matplotlib.lines.Line2D at 0x7f8e820574c0>,\n",
       " <matplotlib.lines.Line2D at 0x7f8e82057580>,\n",
       " <matplotlib.lines.Line2D at 0x7f8e82057640>,\n",
       " <matplotlib.lines.Line2D at 0x7f8e82057700>,\n",
       " <matplotlib.lines.Line2D at 0x7f8e820577c0>,\n",
       " <matplotlib.lines.Line2D at 0x7f8e82057880>,\n",
       " <matplotlib.lines.Line2D at 0x7f8e82057940>,\n",
       " <matplotlib.lines.Line2D at 0x7f8e82057a00>,\n",
       " <matplotlib.lines.Line2D at 0x7f8e82057ac0>,\n",
       " <matplotlib.lines.Line2D at 0x7f8e82057b80>,\n",
       " <matplotlib.lines.Line2D at 0x7f8e82057c40>,\n",
       " <matplotlib.lines.Line2D at 0x7f8e82057d00>,\n",
       " <matplotlib.lines.Line2D at 0x7f8e82057dc0>,\n",
       " <matplotlib.lines.Line2D at 0x7f8e82057e80>,\n",
       " <matplotlib.lines.Line2D at 0x7f8e82057f40>,\n",
       " <matplotlib.lines.Line2D at 0x7f8e82057fa0>,\n",
       " <matplotlib.lines.Line2D at 0x7f8e8205e100>,\n",
       " <matplotlib.lines.Line2D at 0x7f8e8205e1c0>,\n",
       " <matplotlib.lines.Line2D at 0x7f8e8205e280>,\n",
       " <matplotlib.lines.Line2D at 0x7f8e8205e340>,\n",
       " <matplotlib.lines.Line2D at 0x7f8e8205e400>,\n",
       " <matplotlib.lines.Line2D at 0x7f8e8205e4c0>,\n",
       " <matplotlib.lines.Line2D at 0x7f8e8205e580>,\n",
       " <matplotlib.lines.Line2D at 0x7f8e8205e640>,\n",
       " <matplotlib.lines.Line2D at 0x7f8e8205e700>,\n",
       " <matplotlib.lines.Line2D at 0x7f8e8205e7c0>,\n",
       " <matplotlib.lines.Line2D at 0x7f8e8205e880>,\n",
       " <matplotlib.lines.Line2D at 0x7f8e8205e940>,\n",
       " <matplotlib.lines.Line2D at 0x7f8e8205ea00>,\n",
       " <matplotlib.lines.Line2D at 0x7f8e8205eac0>,\n",
       " <matplotlib.lines.Line2D at 0x7f8e8205eb80>,\n",
       " <matplotlib.lines.Line2D at 0x7f8e8205ec40>,\n",
       " <matplotlib.lines.Line2D at 0x7f8e8205ed00>,\n",
       " <matplotlib.lines.Line2D at 0x7f8e8205edc0>,\n",
       " <matplotlib.lines.Line2D at 0x7f8e8205ee80>,\n",
       " <matplotlib.lines.Line2D at 0x7f8e8205ef40>,\n",
       " <matplotlib.lines.Line2D at 0x7f8e8205efa0>,\n",
       " <matplotlib.lines.Line2D at 0x7f8e820c0100>,\n",
       " <matplotlib.lines.Line2D at 0x7f8e820c01c0>,\n",
       " <matplotlib.lines.Line2D at 0x7f8e820c0280>,\n",
       " <matplotlib.lines.Line2D at 0x7f8e820c0340>,\n",
       " <matplotlib.lines.Line2D at 0x7f8e820c0400>,\n",
       " <matplotlib.lines.Line2D at 0x7f8e820c04c0>,\n",
       " <matplotlib.lines.Line2D at 0x7f8e820c0580>,\n",
       " <matplotlib.lines.Line2D at 0x7f8e820c0640>,\n",
       " <matplotlib.lines.Line2D at 0x7f8e820c0700>,\n",
       " <matplotlib.lines.Line2D at 0x7f8e820c07c0>,\n",
       " <matplotlib.lines.Line2D at 0x7f8e820c0880>,\n",
       " <matplotlib.lines.Line2D at 0x7f8e820c0940>,\n",
       " <matplotlib.lines.Line2D at 0x7f8e820c0a00>,\n",
       " <matplotlib.lines.Line2D at 0x7f8e820c0ac0>,\n",
       " <matplotlib.lines.Line2D at 0x7f8e820c0b80>,\n",
       " <matplotlib.lines.Line2D at 0x7f8e820c0c40>,\n",
       " <matplotlib.lines.Line2D at 0x7f8e820c0d00>,\n",
       " <matplotlib.lines.Line2D at 0x7f8e820c0dc0>,\n",
       " <matplotlib.lines.Line2D at 0x7f8e820c0e80>,\n",
       " <matplotlib.lines.Line2D at 0x7f8e820c0f40>,\n",
       " <matplotlib.lines.Line2D at 0x7f8e820c0fa0>,\n",
       " <matplotlib.lines.Line2D at 0x7f8e820c8100>,\n",
       " <matplotlib.lines.Line2D at 0x7f8e820c81c0>,\n",
       " <matplotlib.lines.Line2D at 0x7f8e820c8280>,\n",
       " <matplotlib.lines.Line2D at 0x7f8e820c8340>,\n",
       " <matplotlib.lines.Line2D at 0x7f8e820c8400>,\n",
       " <matplotlib.lines.Line2D at 0x7f8e820c84c0>,\n",
       " <matplotlib.lines.Line2D at 0x7f8e820c8580>,\n",
       " <matplotlib.lines.Line2D at 0x7f8e820c8640>,\n",
       " <matplotlib.lines.Line2D at 0x7f8e820c8700>,\n",
       " <matplotlib.lines.Line2D at 0x7f8e820c87c0>,\n",
       " <matplotlib.lines.Line2D at 0x7f8e820c8880>,\n",
       " <matplotlib.lines.Line2D at 0x7f8e820c8940>,\n",
       " <matplotlib.lines.Line2D at 0x7f8e820c8a00>,\n",
       " <matplotlib.lines.Line2D at 0x7f8e820c8ac0>,\n",
       " <matplotlib.lines.Line2D at 0x7f8e820c8b80>,\n",
       " <matplotlib.lines.Line2D at 0x7f8e820c8c40>,\n",
       " <matplotlib.lines.Line2D at 0x7f8e820c8d00>,\n",
       " <matplotlib.lines.Line2D at 0x7f8e820c8dc0>,\n",
       " <matplotlib.lines.Line2D at 0x7f8e820c8e80>,\n",
       " <matplotlib.lines.Line2D at 0x7f8e820c8f40>,\n",
       " <matplotlib.lines.Line2D at 0x7f8e820c8fa0>,\n",
       " <matplotlib.lines.Line2D at 0x7f8e820cf100>,\n",
       " <matplotlib.lines.Line2D at 0x7f8e820cf1c0>,\n",
       " <matplotlib.lines.Line2D at 0x7f8e820cf280>,\n",
       " <matplotlib.lines.Line2D at 0x7f8e820cf340>,\n",
       " <matplotlib.lines.Line2D at 0x7f8e820cf400>,\n",
       " <matplotlib.lines.Line2D at 0x7f8e820cf4c0>,\n",
       " <matplotlib.lines.Line2D at 0x7f8e820cf580>,\n",
       " <matplotlib.lines.Line2D at 0x7f8e820cf640>,\n",
       " <matplotlib.lines.Line2D at 0x7f8e820cf700>]"
      ]
     },
     "execution_count": 71,
     "metadata": {},
     "output_type": "execute_result"
    },
    {
     "data": {
      "image/png": "[encoded data removed]",
      "text/plain": [
       "<Figure size 432x288 with 1 Axes>"
      ]
     },
     "metadata": {
      "needs_background": "light"
     },
     "output_type": "display_data"
    }
   ],
   "source": [
    "import matplotlib.pyplot as plt\n",
    "plt.plot(sim_Y.transpose())"
   ]
  },
  {
   "cell_type": "code",
   "execution_count": 73,
   "metadata": {},
   "outputs": [
    {
     "ename": "SyntaxError",
     "evalue": "EOF while scanning triple-quoted string literal (<ipython-input-73-7440daa18e83>, line 18)",
     "output_type": "error",
     "traceback": [
      "\u001b[0;36m  File \u001b[0;32m\"<ipython-input-73-7440daa18e83>\"\u001b[0;36m, line \u001b[0;32m18\u001b[0m\n\u001b[0;31m    \u001b[0m\n\u001b[0m    ^\u001b[0m\n\u001b[0;31mSyntaxError\u001b[0m\u001b[0;31m:\u001b[0m EOF while scanning triple-quoted string literal\n"
     ]
    }
   ],
   "source": []
  },
  {
   "cell_type": "code",
   "execution_count": null,
   "metadata": {},
   "outputs": [],
   "source": []
  },
  {
   "cell_type": "code",
   "execution_count": null,
   "metadata": {},
   "outputs": [],
   "source": []
  },
  {
   "cell_type": "code",
   "execution_count": null,
   "metadata": {},
   "outputs": [],
   "source": []
  }
 ],
 "metadata": {
  "kernelspec": {
   "display_name": "Python 3",
   "language": "python",
   "name": "python3"
  },
  "language_info": {
   "codemirror_mode": {
    "name": "ipython",
    "version": 3
   },
   "file_extension": ".py",
   "mimetype": "text/x-python",
   "name": "python",
   "nbconvert_exporter": "python",
   "pygments_lexer": "ipython3",
   "version": "3.6.9"
  }
 },
 "nbformat": 4,
 "nbformat_minor": 4
}
