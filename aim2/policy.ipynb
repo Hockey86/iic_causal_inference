{
 "cells": [
  {
   "cell_type": "code",
   "execution_count": 1,
   "id": "bd34f3d1-4eb7-44fe-b082-5783f9149c82",
   "metadata": {},
   "outputs": [],
   "source": [
    "import numpy as np\n",
    "import pandas as pd\n",
    "import matplotlib.pyplot as plt\n",
    "import scipy.optimize as opt\n",
    "import seaborn as sns\n",
    "import tqdm\n",
    "import pymalts as pm\n",
    "import networkx as nx\n",
    "import sklearn.linear_model as lm\n",
    "import sklearn.tree as tree\n",
    "import sklearn.svm as svm\n",
    "import sklearn.ensemble as en\n",
    "from sklearn.neighbors import NearestNeighbors\n",
    "from sklearn.datasets import make_classification\n",
    "from sklearn.multioutput import MultiOutputClassifier\n",
    "from sklearn.multioutput import MultiOutputRegressor\n",
    "import warnings\n",
    "import importlib\n",
    "warnings.filterwarnings(\"ignore\")\n",
    "\n",
    "path_to_git = '/Users/harshparikh/Documents/GitHub/iic_causal_inference/'\n",
    "\n",
    "iic_burden = pd.read_pickle(path_to_git + 'aim1/data_to_fit_CNNIIC_iic_burden_smooth_W300.pickle')\n",
    "\n",
    "iic_burden.keys()\n",
    "\n",
    "sns.set(font_scale=4,style='whitegrid')\n",
    "\n",
    "df_pkpd = pd.read_csv('PD_Parameters_result.csv',index_col=0)\n",
    "df_pkpd = df_pkpd.fillna(df_pkpd.mean())"
   ]
  },
  {
   "cell_type": "markdown",
   "id": "599d0435-1566-41df-b1f2-7627f5e3d3f1",
   "metadata": {},
   "source": [
    "# Some functions!"
   ]
  },
  {
   "cell_type": "code",
   "execution_count": 2,
   "id": "ef17608f-bb76-419e-8bac-3d28190e6fb7",
   "metadata": {
    "tags": []
   },
   "outputs": [],
   "source": [
    "def plot_unit(E,D,Dnames):\n",
    "    n_drugs = D.shape[1]\n",
    "    drug_names = Dnames\n",
    "    fig,axs = plt.subplots(nrows=1+D.shape[1],ncols=1,\n",
    "                           sharex=True,\n",
    "                           figsize=(15, 6 + 1.25*n_drugs),\n",
    "                           gridspec_kw = {'height_ratios':[4]+[1 for i in range(D.shape[1])]})\n",
    "    axs[0].plot( E, c='black',label='Observed')\n",
    "    axs[0].set_title('IIC Burden')\n",
    "    for i in range(1,1+n_drugs):\n",
    "        y = D[:,i-1]\n",
    "        axs[i].imshow(y[np.newaxis,:], cmap=\"copper\", aspect=\"auto\")\n",
    "        axs[i].set_title(drug_names[i-1])\n",
    "        \n",
    "def policy(Et,a,step):\n",
    "    t = len(Et)\n",
    "    X = np.zeros((36//step,1))\n",
    "    if t>1:\n",
    "        X[0] = np.nanmean(Et[t-1:t])\n",
    "    if t>3:\n",
    "        X[1] = np.nanmean(Et[t-3:t])\n",
    "    if t>6:\n",
    "        X[2] = np.nanmean(Et[t-6:t])\n",
    "        X[5] = np.nanmean(Et[t-3:t]) * np.nanmean(Et[t-6:t])\n",
    "    if t>12:\n",
    "        X[3] = np.nanmean(Et[t-12:t])\n",
    "        X[6] = np.nanmean(Et[t-3:t]) * np.nanmean(Et[t-6:t]) * np.nanmean(Et[t-12:t])\n",
    "    if t>36:\n",
    "        X[4] = np.nanmean(Et[t-36:t])\n",
    "        X[7] = (1-np.nanmean(Et[t-3:t]))*(1-np.nanmean(Et[t-6:t]))*(1-np.nanmean(Et[t-12:t])) * (1-np.nanmean(Et[t-36:t]))\n",
    "        X[8] = 1\n",
    "    # for s in range(0,min(t,36),step):\n",
    "    #     X[s//step] = np.nanmean(Et[t-s:t])\n",
    "    A = np.matmul(a,X)\n",
    "    return A\n",
    "\n",
    "def objective_infer_policy(E,D,a,step):\n",
    "    a0 = a.reshape((D.shape[1],36//step))\n",
    "    loss = 0\n",
    "    T = E.shape[0]\n",
    "    for t in range(0,T):\n",
    "        Et = E[:t]\n",
    "        A = policy(Et,a0,step)\n",
    "        loss += np.linalg.norm(A-D[t,:])\n",
    "    regularization = np.linalg.norm(a)\n",
    "    # cons = 1e+2*np.sum(a0<0)\n",
    "    return loss + regularization#+cons\n",
    "\n",
    "def infer_policy(i,step=2):\n",
    "    E = iic_burden['Pobs'][i]\n",
    "    D = iic_burden['Ddose'][i][:,[1,5]]\n",
    "    f = lambda a: objective_infer_policy(E,D,a,step)\n",
    "    a0 = np.zeros((D.shape[1]*(36//step),))\n",
    "    res = opt.minimize(fun=f,x0=a0,method='COBYLA')\n",
    "    return res.x\n",
    "    \n",
    "\n",
    "def setup_coarsen_data(iic_burden,window = 36,summarize='max',**kwargs):\n",
    "    df = pd.DataFrame(iic_burden['C'],columns=iic_burden['Cname'],index=iic_burden['sids'])\n",
    "    df['mRS'] = iic_burden['Y']\n",
    "    n = df.shape[0]\n",
    "    E_col = []\n",
    "    D_col = []\n",
    "    for i in (range(n)):\n",
    "        t = len(iic_burden['Pobs'][i])\n",
    "        if t>window:\n",
    "            if summarize == 'max':\n",
    "                E = np.max([ np.nanmean(iic_burden['Pobs'][i][j:j+window]) for j in range(t-window) ])\n",
    "            if summarize == 'proportion':\n",
    "                threshold = kwargs.get('threshold',0.5)\n",
    "                E = np.nanmean( np.array([ np.nanmean(iic_burden['Pobs'][i][j:j+window]) for j in range(t-window) ]) > threshold )\n",
    "            if summarize == 'mean':\n",
    "                E = np.mean([ np.nanmean(iic_burden['Pobs'][i][j:j+window]) for j in range(t-window) ])\n",
    "        else:\n",
    "            E = np.nanmean(iic_burden['Pobs'][i])\n",
    "        E_col.append(E)\n",
    "        D = np.nanmean(iic_burden['Ddose'][i],axis=0)\n",
    "        D_col.append(D)\n",
    "    df['E'] = E_col\n",
    "    df_D = pd.DataFrame(D_col,columns=iic_burden['Dname'],index=df.index)\n",
    "    df = df.join(df_D,how='inner')\n",
    "    return df\n",
    "        \n",
    "        \n"
   ]
  },
  {
   "cell_type": "markdown",
   "id": "d8e5ea97-ce68-40cf-851f-72b6d2b671ea",
   "metadata": {},
   "source": [
    "# Approach 2"
   ]
  },
  {
   "cell_type": "code",
   "execution_count": null,
   "id": "e8e6ef94-6359-499d-baa6-acaaf23587a2",
   "metadata": {},
   "outputs": [],
   "source": [
    "def get_features(E,D):\n",
    "    T = len(E)\n",
    "    Xf = []\n",
    "    for t in range(T):\n",
    "        Et = E[:t]\n",
    "        Dt = D[:t,:]\n",
    "        X = np.zeros((14,))\n",
    "        X[0] = 1\n",
    "        if t>1:\n",
    "            X[1] = np.nanmean(Et[t-1:t])\n",
    "            X[9] = np.nanmean(Dt[t-1:t,1])\n",
    "        if t>3:\n",
    "            X[2] = np.nanmean(Et[t-3:t])\n",
    "            X[10] = np.nanmean(Dt[t-3:t,1])\n",
    "        if t>6:\n",
    "            X[3] = np.nanmean(Et[t-6:t])\n",
    "            X[6] = np.nanmean(Et[t-3:t]) * np.nanmean(Et[t-6:t])\n",
    "            X[11] = np.nanmean(Dt[t-6:t,0])\n",
    "        if t>12:\n",
    "            X[4] = np.nanmean(Et[t-12:t])\n",
    "            X[7] = np.nanmean(Et[t-3:t]) * np.nanmean(Et[t-6:t]) * np.nanmean(Et[t-12:t])\n",
    "            X[12] = np.nanmean(Dt[t-12:t,0])\n",
    "        if t>36:\n",
    "            X[5] = np.nanmean(Et[t-36:t])\n",
    "            X[8] = (1-np.nanmean(Et[t-3:t]))*(1-np.nanmean(Et[t-6:t]))*(1-np.nanmean(Et[t-12:t]))\n",
    "            X[13] = np.nanmean(Dt[t-36:t,0])\n",
    "        Xf.append(X)\n",
    "    return np.array(Xf)\n",
    "\n",
    "def get_policy(i):\n",
    "    E = iic_burden['Pobs'][i]\n",
    "    D = np.array(iic_burden['Ddose'][i])[:,[1,5]]\n",
    "    X = pd.DataFrame(get_features(E,D),\n",
    "                     columns=['1','E[10]','E[30]',\n",
    "                              'E[60]','E[120]',\n",
    "                              'E[360]','E[30]E[60]',\n",
    "                              'E[30]E[60]E[120]',\n",
    "                              '1-E','Prop10','Prop30',\n",
    "                              'Lev1','Lev2','Lev6'])\n",
    "    X['lev'] = iic_burden['Ddose'][i][:,1]\n",
    "    X['prop'] = iic_burden['Ddose'][i][:,5]\n",
    "    X = X.dropna()\n",
    "    m1 = lm.RidgeCV()\n",
    "    multi_target_lr = MultiOutputRegressor(m1, n_jobs=-1)\n",
    "    multi_target_lr = multi_target_lr.fit(X.drop(columns=['lev','prop']), X[['lev','prop']])\n",
    "    return multi_target_lr\n",
    "    \n",
    "    "
   ]
  },
  {
   "cell_type": "code",
   "execution_count": null,
   "id": "4e04e4d0-b9a1-459d-aa01-51e9cff61698",
   "metadata": {},
   "outputs": [],
   "source": [
    "N = len(iic_burden['Pobs'])\n",
    "\n",
    "lev_policy = pd.DataFrame()\n",
    "prop_policy = pd.DataFrame()\n",
    "\n",
    "for i in tqdm.tqdm(range(0,N)):\n",
    "    m1 = get_policy(i)\n",
    "    c_lev = pd.Series(m1.estimators_[0].coef_,index=['1','E[10]','E[30]',\n",
    "                                                      'E[60]','E[120]',\n",
    "                                                      'E[360]','E[30]E[60]',\n",
    "                                                      'E[30]E[60]E[120]',\n",
    "                                                      '1-E','Prop10','Prop30',\n",
    "                                                      'Lev1','Lev2','Lev6'])\n",
    "    c_prop = pd.Series(m1.estimators_[1].coef_,index=['1','E[10]','E[30]',\n",
    "                                                      'E[60]','E[120]',\n",
    "                                                      'E[360]','E[30]E[60]',\n",
    "                                                      'E[30]E[60]E[120]',\n",
    "                                                      '1-E','Prop10','Prop30',\n",
    "                                                      'Lev1','Lev2','Lev6'])\n",
    "    \n",
    "    lev_policy = lev_policy.append(c_lev,ignore_index=True)\n",
    "    prop_policy = prop_policy.append(c_prop,ignore_index=True)"
   ]
  },
  {
   "cell_type": "code",
   "execution_count": null,
   "id": "ae29d8eb-8b10-4e15-a1ec-dc04809f1621",
   "metadata": {},
   "outputs": [],
   "source": [
    "p_dm = prop_policy - np.mean(prop_policy,axis=0)\n",
    "u,s,v = np.linalg.svd(p_dm)\n",
    "plt.plot(s)\n",
    "\n",
    "from sklearn.cluster import *\n",
    "U2 = u[:,:9]\n",
    "c = DBSCAN().fit(X=U2)\n",
    "clus = prop_policy.copy(deep=True)\n",
    "clus.index = iic_burden['sids']\n",
    "clus['c']=c.labels_\n",
    "\n",
    "plt.figure(figsize=(10,10))\n",
    "sns.scatterplot(u[:,1],u[:,0],hue=clus['c'],palette='tab10')\n",
    "\n",
    "from sklearn.cluster import *\n",
    "\n",
    "c = KMeans(n_clusters=4).fit(X=prop_policy)\n",
    "\n",
    "\n",
    "clus = prop_policy.copy(deep=True)\n",
    "clus.index = iic_burden['sids']\n",
    "clus['c']=c.labels_\n",
    "\n",
    "clus['c'].unique()"
   ]
  },
  {
   "cell_type": "code",
   "execution_count": null,
   "id": "6f8b6bca-33d0-44ce-8781-3ff993e15bf5",
   "metadata": {
    "tags": []
   },
   "outputs": [],
   "source": [
    "plt.figure(figsize=(10,10))\n",
    "sns.scatterplot(x=clus['1-E'],y=clus['E[360]'],hue=clus['c'],palette='tab10',legend=False)\n",
    "plt.legend(bbox_to_anchor=(1.05, 1), loc=2, borderaxespad=0.)\n",
    "plt.axvline(0,c='black')\n",
    "plt.axhline(0,c='black')\n",
    "plt.ylabel(r'coef. $\\eta[4]$')\n",
    "plt.xlabel(r'coef. $\\eta[7]$')\n",
    "plt.tight_layout()\n",
    "plt.savefig('prelim_e360_vs_1_minus_e.png')\n",
    "\n",
    "plt.figure(figsize=(10,10))\n",
    "sns.scatterplot(x=clus['1'],y=clus['E[360]'],hue=clus['c'],palette='tab10',legend=False)\n",
    "plt.legend(bbox_to_anchor=(1.05, 1), loc=2, borderaxespad=0.)\n",
    "plt.axvline(0,c='black')\n",
    "plt.axhline(0,c='black')\n",
    "plt.ylabel(r'coef. $\\eta[4]$')\n",
    "plt.xlabel('intercept')\n",
    "plt.tight_layout()\n",
    "plt.savefig('prelim_e360_vs_intercept.png')\n",
    "\n",
    "plt.figure(figsize=(10,10))\n",
    "sns.scatterplot(x=clus['E[120]'],y=clus['E[360]'],hue=clus['c'],palette='tab10',legend=False)\n",
    "plt.legend(bbox_to_anchor=(1.05, 1), loc=2, borderaxespad=0.)\n",
    "plt.axvline(0,c='black')\n",
    "plt.axhline(0,c='black')\n",
    "plt.ylabel(r'coef. $\\eta[4]$')\n",
    "plt.xlabel(r'coef. $\\eta[3]$')\n",
    "plt.tight_layout()\n",
    "plt.savefig('prelim_e360_vs_e120.png')"
   ]
  },
  {
   "cell_type": "code",
   "execution_count": null,
   "id": "2e1a12ca-0035-4719-b2fa-ccafbc49460d",
   "metadata": {
    "tags": []
   },
   "outputs": [],
   "source": [
    "clus.to_csv('prelim_pol_prop.csv')"
   ]
  },
  {
   "cell_type": "code",
   "execution_count": null,
   "id": "352e046f-09cf-4419-8f6f-5f3cd76b35a7",
   "metadata": {},
   "outputs": [],
   "source": [
    "df_C = pd.DataFrame(iic_burden['C'],columns=iic_burden['Cname'],index=iic_burden['sids'])\n",
    "df = df_C.join(clus)\n",
    "df['Y'] =iic_burden['Y']>4"
   ]
  },
  {
   "cell_type": "code",
   "execution_count": null,
   "id": "759303de-da3c-4193-a00f-ddd60053802e",
   "metadata": {},
   "outputs": [],
   "source": [
    "df.groupby(by='c').mean()[['Prop10','1-E','Y','APACHE II 1st 24h','Worst GCS in 1st 24h','NeuroDx:IschStroke','NeuroDx:HemStroke','NeuroDx:Sz/SE']].round(decimals=2)"
   ]
  },
  {
   "cell_type": "code",
   "execution_count": null,
   "id": "bd06834d-78a5-4ba4-8cd5-bbcb0a18502e",
   "metadata": {
    "tags": []
   },
   "outputs": [],
   "source": [
    "fig = sns.jointplot(data=df.loc[df['Prop10']!=0],x='Prop10',y='1-E',hue='c',palette='tab10',height=10, ratio=5)\n",
    "fig.set_axis_labels(xlabel=r'coef. $propofol_{-10 min}$',ylabel=r'coef. $(1-E_{-3hrs})$')\n",
    "plt.savefig('prelim_prop10_vs_1minus_e.png')"
   ]
  },
  {
   "cell_type": "markdown",
   "id": "ca6e3057-1400-441d-8f09-99954082e77d",
   "metadata": {},
   "source": [
    "# Plotting"
   ]
  },
  {
   "cell_type": "code",
   "execution_count": null,
   "id": "ffa47b9d-847f-4811-9a18-f4baeb532c17",
   "metadata": {},
   "outputs": [],
   "source": [
    "sns.set(font_scale=1.5)\n",
    "plot_u = lambda i: plot_unit(iic_burden['Pobs'][i],iic_burden['D'][i][:,[1,5]],Dnames=['Lev','Prop'])"
   ]
  },
  {
   "cell_type": "code",
   "execution_count": null,
   "id": "d734da04-95d7-4737-9828-c2529b14a485",
   "metadata": {},
   "outputs": [],
   "source": [
    "plot_u(2)\n",
    "\n",
    "plot_u(8)\n",
    "\n",
    "plot_u(25)"
   ]
  },
  {
   "cell_type": "markdown",
   "id": "383ca0a4-e30d-4a31-bcca-573e5da85bee",
   "metadata": {},
   "source": [
    "# Fitting PK/PD"
   ]
  },
  {
   "cell_type": "code",
   "execution_count": 3,
   "id": "e4a92130-a929-42ee-85f2-a330a01addce",
   "metadata": {
    "tags": []
   },
   "outputs": [
    {
     "data": {
      "text/plain": [
       "<module 'fit_pkpd' from '/Users/harshparikh/Documents/GitHub/iic_causal_inference/aim2/fit_pkpd.py'>"
      ]
     },
     "execution_count": 3,
     "metadata": {},
     "output_type": "execute_result"
    }
   ],
   "source": [
    "import fit_pkpd\n",
    "importlib.reload(fit_pkpd)"
   ]
  },
  {
   "cell_type": "code",
   "execution_count": 4,
   "id": "3129b8a9-6f77-48ee-8da9-de11f1061cec",
   "metadata": {},
   "outputs": [
    {
     "data": {
      "text/plain": [
       "dict_keys(['W', 'window_start_ids', 'D', 'Ddose', 'Dname', 'Pobs', 'Pname', 'C', 'Cname', 'Y', 'Yname', 'sids', 'pseudoMRNs'])"
      ]
     },
     "execution_count": 4,
     "metadata": {},
     "output_type": "execute_result"
    }
   ],
   "source": [
    "iic_burden.keys()"
   ]
  },
  {
   "cell_type": "code",
   "execution_count": 5,
   "id": "a40501d0-5335-4477-85f6-bcc3366a85e2",
   "metadata": {},
   "outputs": [],
   "source": [
    "columns = []\n",
    "for drug in ['levetiracetam','propofol']:\n",
    "    for i in ['50','B','0','Hill']:\n",
    "        columns += [drug+'_'+str(i)]"
   ]
  },
  {
   "cell_type": "code",
   "execution_count": 195,
   "id": "262e6d9b-efcf-4477-baeb-4d9b99a1dfb0",
   "metadata": {},
   "outputs": [
    {
     "name": "stderr",
     "output_type": "stream",
     "text": [
      "100%|██████████| 1323/1323 [14:01<00:00,  1.57it/s]\n"
     ]
    }
   ],
   "source": [
    "pd_param_df = pd.DataFrame()\n",
    "for i in tqdm.tqdm(range(len(iic_burden['sids']))):\n",
    "    D = iic_burden['D'][i]\n",
    "    D = pd.DataFrame(D,columns=iic_burden['Dname'])[['levetiracetam','propofol']]\n",
    "    E = pd.Series(iic_burden['Pobs'][i])\n",
    "    E = E.interpolate(method='linear')\n",
    "    pd_params = pd.DataFrame( np.array([fit_pkpd.fit_PD(E,D)]), index=[iic_burden['sids'][i]], columns=columns)\n",
    "    pd_param_df = pd_param_df.append(pd_params)\n",
    "pd_param_df = pd_param_df.dropna()"
   ]
  },
  {
   "cell_type": "code",
   "execution_count": 196,
   "id": "eaf01e90-dd00-40f8-9dbe-7a7013586768",
   "metadata": {},
   "outputs": [
    {
     "data": {
      "text/plain": [
       "levetiracetam_50      0.425\n",
       "levetiracetam_B       0.811\n",
       "levetiracetam_0       0.042\n",
       "levetiracetam_Hill    0.700\n",
       "propofol_50           1.572\n",
       "propofol_B            0.663\n",
       "propofol_0            0.114\n",
       "propofol_Hill         3.494\n",
       "dtype: float64"
      ]
     },
     "execution_count": 196,
     "metadata": {},
     "output_type": "execute_result"
    }
   ],
   "source": [
    "pd_param_df = pd_param_df.dropna()\n",
    "pd_param_df.mean().round(3)\n",
    "# Propofol:  Most patients will require 0.25 - 0.75 mg propofol/kg body weight/10mins"
   ]
  },
  {
   "cell_type": "code",
   "execution_count": 197,
   "id": "2f2fe9c8-7e23-4241-b6ab-2ce65ae78395",
   "metadata": {},
   "outputs": [
    {
     "data": {
      "text/plain": [
       "(-5.0, 40.0)"
      ]
     },
     "execution_count": 197,
     "metadata": {},
     "output_type": "execute_result"
    },
    {
     "data": {
      "image/png": "[encoded data removed]",
      "text/plain": [
       "<Figure size 432x288 with 1 Axes>"
      ]
     },
     "metadata": {},
     "output_type": "display_data"
    }
   ],
   "source": [
    "sns.regplot(data=pd_param_df,x='propofol_Hill',y='propofol_50',scatter_kws={'alpha':0.2},order=2)\n",
    "sns.kdeplot(data=pd_param_df,x='propofol_Hill',y='propofol_50')\n",
    "plt.ylim((-2,12))\n",
    "plt.xlim((-5,40))"
   ]
  },
  {
   "cell_type": "code",
   "execution_count": 190,
   "id": "190b95b7-2bf5-486a-b280-cc603710491f",
   "metadata": {},
   "outputs": [],
   "source": [
    "pd_param_df.to_csv('pd_params_lev_prop.csv')"
   ]
  },
  {
   "cell_type": "code",
   "execution_count": 7,
   "id": "0eec5fab-67fa-4a03-8906-0540db688c72",
   "metadata": {},
   "outputs": [
    {
     "data": {
      "text/plain": [
       "array([ 0.        , 43.1257452 ,  0.        ,  0.        ,  0.        ,\n",
       "        0.        ,  0.        ,  0.08840876,  0.        , 55.95103363])"
      ]
     },
     "execution_count": 7,
     "metadata": {},
     "output_type": "execute_result"
    }
   ],
   "source": [
    "np.mean(iic_burden['D'][0],axis=0)"
   ]
  },
  {
   "cell_type": "code",
   "execution_count": 30,
   "id": "199a6edd-65b1-41df-b4f3-3ad8e76e084d",
   "metadata": {},
   "outputs": [],
   "source": [
    "patients = ['sid1158',\n",
    "             'sid871',\n",
    "             'sid708',\n",
    "             'sid287',\n",
    "             'sid1832',\n",
    "             'sid286',\n",
    "             'sid1211',\n",
    "             'sid1577',\n",
    "             'sid877',\n",
    "             'sid320',\n",
    "             'sid861',\n",
    "             'sid350',\n",
    "             'sid967',\n",
    "             'sid1112',\n",
    "             'sid351',\n",
    "             'sid345',\n",
    "             'sid353',\n",
    "             'sid804',\n",
    "             'sid958',\n",
    "             'sid970',\n",
    "             'sid742',\n",
    "             'sid959',\n",
    "             'sid949',\n",
    "             'sid341',\n",
    "             'sid962',\n",
    "             'sid1117',\n",
    "             'sid1881',\n",
    "             'sid826',\n",
    "             'sid1127',\n",
    "             'sid1118',\n",
    "             'sid1125',\n",
    "             'sid1119',\n",
    "             'sid1535',\n",
    "             'sid834',\n",
    "             'sid1486',\n",
    "             'sid1109',\n",
    "             'sid1532',\n",
    "             'sid716',\n",
    "             'sid1144',\n",
    "             'sid850',\n",
    "             'sid846',\n",
    "             'sid1194',\n",
    "             'sid922',\n",
    "             'sid854',\n",
    "             'sid868',\n",
    "             'sid920',\n",
    "             'sid855',\n",
    "             'sid699']"
   ]
  },
  {
   "cell_type": "code",
   "execution_count": 42,
   "id": "579d90af-3d9b-4aea-a099-8aa47c0e8f39",
   "metadata": {},
   "outputs": [],
   "source": [
    "idxs = pd.DataFrame(iic_burden['sids'])\n",
    "idxs = idxs.reset_index()\n",
    "patients_idx = idxs.set_index(0).loc[patients].values"
   ]
  },
  {
   "cell_type": "code",
   "execution_count": 40,
   "id": "b871c0ae-71d0-4b7a-b75f-e9f3685cf3b8",
   "metadata": {},
   "outputs": [
    {
     "name": "stderr",
     "output_type": "stream",
     "text": [
      "100%|██████████| 48/48 [00:00<00:00, 19168.48it/s]\n"
     ]
    }
   ],
   "source": [
    "D = []\n",
    "for i in tqdm.tqdm(list(patients_idx.T[0])):\n",
    "    D.append(np.mean(iic_burden['Ddose'][i]>0,axis=0))\n",
    "    \n",
    "D = pd.DataFrame(np.array(D),columns=iic_burden['Dname'])"
   ]
  },
  {
   "cell_type": "code",
   "execution_count": 41,
   "id": "ab20f427-ebf7-4f42-b732-f92d1d6f944a",
   "metadata": {},
   "outputs": [
    {
     "data": {
      "text/plain": [
       "midazolam        0.000000\n",
       "pentobarbital    0.000000\n",
       "valproate        0.000000\n",
       "diazepam         0.000000\n",
       "fosphenytoin     0.000000\n",
       "lacosamide       0.000104\n",
       "lorazepam        0.000225\n",
       "phenobarbital    0.000317\n",
       "levetiracetam    0.010274\n",
       "propofol         0.622306\n",
       "dtype: float64"
      ]
     },
     "execution_count": 41,
     "metadata": {},
     "output_type": "execute_result"
    }
   ],
   "source": [
    "D.mean().sort_values()"
   ]
  },
  {
   "cell_type": "code",
   "execution_count": 44,
   "id": "2f54ca95-adb9-413b-83b5-8ff04201ced8",
   "metadata": {},
   "outputs": [
    {
     "data": {
      "text/plain": [
       "array([ 796,  588,  488,  183, 1215,  182,  824, 1052,  593,  208,  582,\n",
       "        231,  663,  759,  232,  228,  234,  541,  658,  665,  514,  659,\n",
       "        650,  225,  660,  764, 1247,  555,  774,  765,  772,  766, 1028,\n",
       "        560,  997,  756, 1026,  492,  786,  573,  570,  814,  626,  577,\n",
       "        586,  624,  578,  482])"
      ]
     },
     "execution_count": 44,
     "metadata": {},
     "output_type": "execute_result"
    }
   ],
   "source": [
    "patients_idx.T[0]"
   ]
  },
  {
   "cell_type": "code",
   "execution_count": null,
   "id": "94ba4518-df28-4eb5-a91f-b1387ced1cbf",
   "metadata": {},
   "outputs": [],
   "source": []
  }
 ],
 "metadata": {
  "kernelspec": {
   "display_name": "Python 3 (ipykernel)",
   "language": "python",
   "name": "python3"
  },
  "language_info": {
   "codemirror_mode": {
    "name": "ipython",
    "version": 3
   },
   "file_extension": ".py",
   "mimetype": "text/x-python",
   "name": "python",
   "nbconvert_exporter": "python",
   "pygments_lexer": "ipython3",
   "version": "3.9.7"
  }
 },
 "nbformat": 4,
 "nbformat_minor": 5
}
