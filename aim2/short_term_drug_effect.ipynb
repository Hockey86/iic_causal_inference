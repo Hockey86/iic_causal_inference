{
 "cells": [
  {
   "cell_type": "code",
   "execution_count": 63,
   "id": "surprised-front",
   "metadata": {},
   "outputs": [
    {
     "data": {
      "text/plain": [
       "dict_keys(['W', 'window_start_ids', 'D', 'Ddose', 'Dname', 'Pobs', 'Pname', 'C', 'Cname', 'Y', 'Yname', 'cluster', 'sids', 'pseudoMRNs'])"
      ]
     },
     "execution_count": 63,
     "metadata": {},
     "output_type": "execute_result"
    }
   ],
   "source": [
    "import numpy as np\n",
    "import pandas as pd\n",
    "import matplotlib.pyplot as plt\n",
    "import seaborn as sns\n",
    "import tqdm\n",
    "import pymalts as pm\n",
    "import sklearn.linear_model as lm\n",
    "import sklearn.svm as svm\n",
    "import sklearn.ensemble as en\n",
    "import warnings\n",
    "warnings.filterwarnings(\"ignore\")\n",
    "\n",
    "path_to_git = '/Users/harshparikh/Documents/GitHub/iic_causal_inference/'\n",
    "# path_to_git = '/home/kentaro/github/iic_causal_inference/'\n",
    "\n",
    "iic_burden = pd.read_pickle(path_to_git + 'aim1/data_to_fit_CNNIIC_iic_burden_smooth.pickle')\n",
    "\n",
    "iic_burden.keys()"
   ]
  },
  {
   "cell_type": "code",
   "execution_count": 70,
   "id": "documentary-third",
   "metadata": {},
   "outputs": [
    {
     "data": {
      "text/plain": [
       "['Gender',\n",
       " 'Age',\n",
       " 'marrital',\n",
       " 'APACHE II  first 24',\n",
       " 'Hx CVA (including TIA)',\n",
       " 'Hx HTN',\n",
       " 'Hx Sz /epilepsy',\n",
       " 'Hx brain surgery',\n",
       " 'Hx CKD',\n",
       " 'Hx CAD/MI',\n",
       " 'Hx CHF',\n",
       " 'Hx DM',\n",
       " 'Hx of HLD',\n",
       " 'Hx tobacco (including ex-smokers)',\n",
       " 'Hx ETOH abuse any time in their life (just when in the hx is mentioned)',\n",
       " 'Hx other substance abuse, any time in their life',\n",
       " 'Hx cancer (other than CNS cancer)',\n",
       " 'Hx CNS cancer',\n",
       " 'Hx COPD/ Asthma',\n",
       " 'premorbid MRS before admission  (modified ranking scale),before admission',\n",
       " 'SZ at presentation,(exclude non-convulsive seizures) just if it is mentioned in MGH notes (the date is necessary, however,the date is the day of admission at MGH)',\n",
       " 'hydrocephalus  (either on admission or during hospital course)   QPID',\n",
       " 'iMV  (initial (on admission) mechanical ventilation)',\n",
       " 'systolic BP',\n",
       " 'diastolic BP',\n",
       " 'Midline shift with any reason ( Document Date)',\n",
       " 'Primary systemic dx Sepsis/Shock',\n",
       " 'iGCS-Total',\n",
       " 'iGCS = T?',\n",
       " 'iGCS-E',\n",
       " 'iGCS-V',\n",
       " 'iGCS-M',\n",
       " 'Worst GCS in 1st 24',\n",
       " 'Worst GCS Intubation status',\n",
       " 'iGCS actual scores',\n",
       " 'neuro_dx_Seizures/status epilepticus',\n",
       " 'prim_dx_Respiratory disorders']"
      ]
     },
     "execution_count": 70,
     "metadata": {},
     "output_type": "execute_result"
    }
   ],
   "source": [
    "iic_burden['Cname']"
   ]
  },
  {
   "cell_type": "code",
   "execution_count": 9,
   "id": "charming-genealogy",
   "metadata": {},
   "outputs": [],
   "source": [
    "def plot_unit(E,D,Dnames):\n",
    "    n_drugs = D.shape[1]\n",
    "    drug_names = Dnames\n",
    "    fig,axs = plt.subplots(nrows=1+D.shape[1],ncols=1,\n",
    "                           sharex=True,\n",
    "                           figsize=(15, 6 + 1.25*n_drugs),\n",
    "                           gridspec_kw = {'height_ratios':[4]+[1 for i in range(D.shape[1])]})\n",
    "    axs[0].plot( E, c='black',label='Observed')\n",
    "    axs[0].set_title('IIC Burden')\n",
    "    for i in range(1,1+n_drugs):\n",
    "        y = D[:,i-1]\n",
    "        axs[i].imshow(y[np.newaxis,:], cmap=\"copper\", aspect=\"auto\")\n",
    "        axs[i].set_title(drug_names[i-1])\n",
    "    \n",
    "\n",
    "def setup_data(iic_burden,frame=10):\n",
    "    df = pd.DataFrame(iic_burden['C'],columns=iic_burden['Cname'])\n",
    "    df['mRS'] = iic_burden['Y']\n",
    "    n = df.shape[0]\n",
    "    df_wave = pd.DataFrame()\n",
    "    for i in (range(n)):\n",
    "        try:\n",
    "            E = iic_burden['Pobs'][i][:frame]\n",
    "            Ename = ['iic_%d'%(j) for j in range(frame)]\n",
    "            D = iic_burden['D'][i][:frame,:]\n",
    "            time_of_intervention = np.argmax(D.sum(axis=1)>0)\n",
    "            if D.sum(axis=1)[time_of_intervention] == 0:\n",
    "                time_of_intervention = frame-1\n",
    "            D_flat = D.reshape(-1,)\n",
    "            Dname_flat = np.array([ ['%s_%d'%(drug,j) for drug in iic_burden['Dname'] ] for j in range(frame) ]).reshape(-1,)\n",
    "            D_summary = D.sum(axis=0)\n",
    "            First_D = iic_burden['Dname'][np.argmax(D[time_of_intervention,:])]\n",
    "            Dname_summary = iic_burden['Dname']\n",
    "            E_summary_pre = np.nanmean(E[:time_of_intervention])\n",
    "            E_summary_post = np.nanmean(E[time_of_intervention:])\n",
    "            if D.sum(axis=1)[time_of_intervention] == 0:\n",
    "                time_of_intervention = np.inf\n",
    "                First_D = 0\n",
    "                E_summary_post = E_summary_pre\n",
    "            df_temp = pd.DataFrame( [[time_of_intervention]+[First_D]+list(E)+[E_summary_pre,E_summary_post]+list(D_flat)+list(D_summary)], \n",
    "                                   index = [df.index[i]],\n",
    "                                   columns = ['time_of_intervention']+['drug_administered']+Ename+['avg_iic_pre','avg_iic_post']+list(Dname_flat)+list(Dname_summary))\n",
    "    #         print(df.index[i],df_temp)\n",
    "            df_wave = df_wave.append(df_temp)\n",
    "        except:\n",
    "            continue\n",
    "    df = df.join(df_wave)\n",
    "    return df\n",
    "\n",
    "def setup_coarsen_data(iic_burden,window = 36,summarize='max',**kwargs):\n",
    "    df = pd.DataFrame(iic_burden['C'],columns=iic_burden['Cname'])\n",
    "    df['mRS'] = iic_burden['Y']\n",
    "    n = df.shape[0]\n",
    "    E_col = []\n",
    "    D_col = []\n",
    "    for i in (range(n)):\n",
    "        t = len(iic_burden['Pobs'][i])\n",
    "        if t>window:\n",
    "            if summarize == 'max':\n",
    "                E = np.max([ np.nanmean(iic_burden['Pobs'][i][j:j+window]) for j in range(t-window) ])\n",
    "            if summarize == 'proportion':\n",
    "                threshold = kwargs.get('threshold',0.5)\n",
    "                E = np.nanmean( np.array([ np.nanmean(iic_burden['Pobs'][i][j:j+window]) for j in range(t-window) ]) > threshold )\n",
    "            if summarize == 'mean':\n",
    "                E = np.mean([ np.nanmean(iic_burden['Pobs'][i][j:j+window]) for j in range(t-window) ])\n",
    "        else:\n",
    "            E = np.nanmean(iic_burden['Pobs'][i])\n",
    "        E_col.append(E)\n",
    "        D = np.nanmean(iic_burden['D'][i],axis=0)\n",
    "        D_col.append(D)\n",
    "    df['E'] = E_col\n",
    "    df_D = pd.DataFrame(D_col,columns=iic_burden['Dname'],index=df.index)\n",
    "    df = df.join(df_D,how='inner')\n",
    "    return df\n",
    "        \n",
    "        "
   ]
  },
  {
   "cell_type": "markdown",
   "id": "outer-shock",
   "metadata": {},
   "source": [
    "# Effect of IIC Burden on Outcome"
   ]
  },
  {
   "cell_type": "markdown",
   "id": "contrary-holder",
   "metadata": {},
   "source": [
    "## Controlling for age"
   ]
  },
  {
   "cell_type": "code",
   "execution_count": 169,
   "id": "unusual-still",
   "metadata": {},
   "outputs": [
    {
     "name": "stderr",
     "output_type": "stream",
     "text": [
      "  0%|          | 0/1 [00:00<?, ?it/s]\n",
      "  0%|          | 0/5 [00:00<?, ?it/s]\u001b[A\n",
      " 20%|██        | 1/5 [01:09<04:39, 69.95s/it]\u001b[A\n",
      " 40%|████      | 2/5 [02:10<03:12, 64.28s/it]\u001b[A\n",
      " 60%|██████    | 3/5 [03:10<02:04, 62.33s/it]\u001b[A\n",
      " 80%|████████  | 4/5 [04:11<01:01, 61.76s/it]\u001b[A\n",
      "100%|██████████| 5/5 [05:24<00:00, 64.95s/it]\u001b[A\n",
      "100%|██████████| 1/1 [05:29<00:00, 329.28s/it]\n"
     ]
    }
   ],
   "source": [
    "m_dict_dict = {}\n",
    "cates_dict_dict = {}\n",
    "\n",
    "for type_summary in tqdm.tqdm(['max']):#,'mean','proportion']):\n",
    "    df_coarsen = setup_coarsen_data(iic_burden,window = 36,summarize=type_summary,threshold=0.1)\n",
    "    df_coarsen_1 = df_coarsen[['Age', 'mRS', 'E'\n",
    "                               ,'lacosamide', 'levetiracetam', 'midazolam', 'pentobarbital', 'phenobarbital', 'propofol', 'valproate']].dropna()\n",
    "\n",
    "    \n",
    "    baseline_threshold = 0.1\n",
    "    df_coarsen_1['Y'] = df_coarsen_1['mRS'] > 4\n",
    "    df_coarsen_baseline = df_coarsen_1.loc[df_coarsen_1['E']<baseline_threshold]\n",
    "    num_control = df_coarsen_baseline.shape[0]\n",
    "    \n",
    "    num = []\n",
    "    n_thresholds = 5\n",
    "    thresholds = list(np.linspace(baseline_threshold,0.8,num=n_thresholds)) + [1.0001]\n",
    "    \n",
    "    m_dict = {}\n",
    "    cates_dict = {}\n",
    "    \n",
    "    for i in tqdm.tqdm(range(0,n_thresholds)):\n",
    "        # setting up the data\n",
    "        threshold = thresholds[i]\n",
    "        upper_threshold = thresholds[i+1]\n",
    "        \n",
    "        df_coarsen_comparison = df_coarsen_1.loc[df_coarsen_1['E'] >= threshold]\n",
    "        df_coarsen_comparison = df_coarsen_comparison.loc[df_coarsen_comparison['E']<upper_threshold] #T=1 if threshold <= E < upper_threshold\n",
    "        num_treated = df_coarsen_comparison.shape[0]\n",
    "        \n",
    "        df_malts = df_coarsen_comparison.append(df_coarsen_baseline)\n",
    "        \n",
    "        df_malts['T'] = df_malts['E'] >= threshold\n",
    "        \n",
    "        # malts object, match only on pre-treatment covariates\n",
    "        n_repeats = 5\n",
    "        n_splits = 2\n",
    "        m = pm.malts_mf(outcome='Y',\n",
    "                        treatment='T', \n",
    "                        data=df_malts.drop(columns=['mRS','E','lacosamide', 'levetiracetam', 'midazolam', 'pentobarbital', 'phenobarbital', 'propofol', 'valproate']),\n",
    "                        n_repeats=n_repeats,\n",
    "                        n_splits=n_splits,\n",
    "                        output_format='full')\n",
    "        \n",
    "        # storing the malts object\n",
    "        m_dict[threshold] = m\n",
    "        \n",
    "        # saving configuration \n",
    "        num = num + ['%.2f\\n(%d,%d)'%(threshold,num_treated,num_control)]\n",
    "        # summary name appended with current level of threshold\n",
    "        name = type_summary + str(threshold)\n",
    "\n",
    "#         mg = m.MG_matrix\n",
    "#         cates = [] # cate of unit for a given summary fn, at a given threshold\n",
    "#         for i in mg.index:\n",
    "#             mgi = mg.loc[i]\n",
    "#             try:\n",
    "#                 mgi_units = mgi.loc[mgi>(n_repeats*n_splits//2)-1].index\n",
    "#                 df_mgi = df_malts.drop(columns=['mRS','E']).loc[mgi_units][['lacosamide', 'levetiracetam', 'midazolam', 'pentobarbital', 'phenobarbital', 'propofol', 'valproate','T','Y']]\n",
    "#                 df_mgi_ind = df_mgi[['lacosamide', 'levetiracetam', 'midazolam', 'pentobarbital', 'phenobarbital', 'propofol', 'valproate']]>0\n",
    "#                 df_mgi = df_mgi_ind.join(df_mgi, lsuffix= '_given' )\n",
    "#                 df_mgi2 = df_mgi[['lacosamide', 'levetiracetam', 'midazolam', 'pentobarbital', 'phenobarbital', 'propofol', 'valproate']]**2\n",
    "#                 df_mgi = df_mgi.join(df_mgi2, rsuffix= '$^2$' )\n",
    "#                 model = lm.LinearRegression().fit(df_mgi.drop(columns=['Y']),df_mgi['Y'])\n",
    "#                 cates.append( model.coef_.reshape(-1,) )\n",
    "#             except:\n",
    "#                 continue\n",
    "#         cates = pd.DataFrame(np.array(cates),index=mg.index,columns=df_mgi.drop(columns=['Y']).columns)\n",
    "#         df_malts_res = df_malts.join(cates,rsuffix='_coef')\n",
    "#         cates_dict[threshold] = df_malts_res\n",
    "        \n",
    "    m_dict_dict[type_summary] = m_dict\n",
    "    cates_dict_dict[type_summary] = cates_dict\n"
   ]
  },
  {
   "cell_type": "code",
   "execution_count": 170,
   "id": "corresponding-philosophy",
   "metadata": {},
   "outputs": [],
   "source": [
    "df_m_atec_dict = {}\n",
    "for type_summary in m_dict_dict.keys():\n",
    "    m_dict = m_dict_dict[type_summary]\n",
    "    df_m_atec = pd.DataFrame( np.array([m_dict[threshold].CATE_df.loc[m_dict[threshold].CATE_df['T']==0].mean(axis=0)['CATE'].values for threshold in m_dict.keys()]), \n",
    "                            index = ['%.2f'%(j) for j in m_dict.keys()], columns = ['ATE' for i in range(len(m_dict[threshold].CATE_df.mean(axis=0)['CATE'].values))] )\n",
    "    df_m_atec_dict[type_summary] = df_m_atec"
   ]
  },
  {
   "cell_type": "code",
   "execution_count": 171,
   "id": "functioning-above",
   "metadata": {},
   "outputs": [
    {
     "data": {
      "text/plain": [
       "<AxesSubplot:>"
      ]
     },
     "execution_count": 171,
     "metadata": {},
     "output_type": "execute_result"
    },
    {
     "data": {
      "image/png": "[encoded data removed]",
      "text/plain": [
       "<Figure size 432x288 with 1 Axes>"
      ]
     },
     "metadata": {},
     "output_type": "display_data"
    }
   ],
   "source": [
    "df_m_atec.T.plot(kind='box')"
   ]
  },
  {
   "cell_type": "markdown",
   "id": "moral-portfolio",
   "metadata": {},
   "source": [
    "# Controlling for all pre-admission covariates"
   ]
  },
  {
   "cell_type": "code",
   "execution_count": 157,
   "id": "catholic-fundamentals",
   "metadata": {},
   "outputs": [
    {
     "name": "stderr",
     "output_type": "stream",
     "text": [
      "  0%|          | 0/1 [00:00<?, ?it/s]\n",
      "  0%|          | 0/5 [00:00<?, ?it/s]\u001b[A\n",
      " 20%|██        | 1/5 [02:26<09:47, 146.84s/it]\u001b[A\n",
      " 40%|████      | 2/5 [04:44<07:04, 141.35s/it]\u001b[A\n",
      " 60%|██████    | 3/5 [06:59<04:36, 138.45s/it]\u001b[A\n",
      " 80%|████████  | 4/5 [09:09<02:15, 135.13s/it]\u001b[A\n",
      "100%|██████████| 5/5 [11:38<00:00, 139.62s/it]\u001b[A\n",
      "100%|██████████| 1/1 [11:42<00:00, 702.52s/it]\n"
     ]
    }
   ],
   "source": [
    "m_dict_dict = {}\n",
    "cates_dict_dict = {}\n",
    "\n",
    "for type_summary in tqdm.tqdm(['max']):#,'mean','proportion']):\n",
    "    df_coarsen = setup_coarsen_data(iic_burden,window = 36,summarize=type_summary,threshold=0.1)\n",
    "    df_coarsen_1 = df_coarsen[['Gender', 'Age', 'marrital',\n",
    "                               'Hx CVA (including TIA)', 'Hx HTN', 'Hx Sz /epilepsy', \n",
    "                               'Hx brain surgery', 'Hx CKD', 'Hx CAD/MI', 'Hx CHF',\n",
    "                               'Hx DM', 'Hx of HLD', 'Hx tobacco (including ex-smokers)', \n",
    "                               'Hx ETOH abuse any time in their life (just when in the hx is mentioned)', \n",
    "                               'Hx other substance abuse, any time in their life', 'Hx cancer (other than CNS cancer)',\n",
    "                               'Hx CNS cancer', 'Hx COPD/ Asthma', \n",
    "                               'premorbid MRS before admission  (modified ranking scale),before admission', \n",
    "                               'hydrocephalus  (either on admission or during hospital course)   QPID', \n",
    "                               'iMV  (initial (on admission) mechanical ventilation)',\n",
    "                               'Primary systemic dx Sepsis/Shock', 'iGCS-Total', \n",
    "                               'iGCS actual scores', 'Worst GCS in 1st 24',\n",
    "                               'Worst GCS Intubation status',\n",
    "                               'neuro_dx_Seizures/status epilepticus', 'prim_dx_Respiratory disorders',  \n",
    "                               'mRS', 'E'\n",
    "                               ,'lacosamide', 'levetiracetam', 'midazolam', 'pentobarbital', 'phenobarbital', 'propofol', 'valproate']].dropna()\n",
    "\n",
    "    \n",
    "    baseline_threshold = 0.1\n",
    "    df_coarsen_1['Y'] = df_coarsen_1['mRS'] > 4\n",
    "    df_coarsen_baseline = df_coarsen_1.loc[df_coarsen_1['E']<baseline_threshold]\n",
    "    num_control = df_coarsen_baseline.shape[0]\n",
    "    \n",
    "    num = []\n",
    "    n_thresholds = 5\n",
    "    thresholds = list(np.linspace(baseline_threshold,0.8,num=n_thresholds)) + [1.0001]\n",
    "    \n",
    "    m_dict = {}\n",
    "    cates_dict = {}\n",
    "    \n",
    "    for i in tqdm.tqdm(range(0,n_thresholds)):\n",
    "        # setting up the data\n",
    "        threshold = thresholds[i]\n",
    "        upper_threshold = thresholds[i+1]\n",
    "        \n",
    "        df_coarsen_comparison = df_coarsen_1.loc[df_coarsen_1['E'] >= threshold]\n",
    "        df_coarsen_comparison = df_coarsen_comparison.loc[df_coarsen_comparison['E']<upper_threshold] #T=1 if threshold <= E < upper_threshold\n",
    "        num_treated = df_coarsen_comparison.shape[0]\n",
    "        \n",
    "        df_malts = df_coarsen_comparison.append(df_coarsen_baseline)\n",
    "        \n",
    "        df_malts['T'] = df_malts['E'] >= threshold\n",
    "        \n",
    "        # malts object, match only on pre-treatment covariates\n",
    "        n_repeats = 5\n",
    "        n_splits = 2\n",
    "        m = pm.malts_mf(outcome='Y',\n",
    "                        treatment='T', \n",
    "                        data=df_malts.drop(columns=['mRS','E','lacosamide', 'levetiracetam', 'midazolam', 'pentobarbital', 'phenobarbital', 'propofol', 'valproate']),\n",
    "                        n_repeats=n_repeats,\n",
    "                        n_splits=n_splits,\n",
    "                        output_format='full')\n",
    "        \n",
    "        # storing the malts object\n",
    "        m_dict[threshold] = m\n",
    "        \n",
    "        # saving configuration \n",
    "        num = num + ['%.2f\\n(%d,%d)'%(threshold,num_treated,num_control)]\n",
    "        # summary name appended with current level of threshold\n",
    "        name = type_summary + str(threshold)\n",
    "\n",
    "#         mg = m.MG_matrix\n",
    "#         cates = [] # cate of unit for a given summary fn, at a given threshold\n",
    "#         for i in mg.index:\n",
    "#             mgi = mg.loc[i]\n",
    "#             try:\n",
    "#                 mgi_units = mgi.loc[mgi>(n_repeats*n_splits//2)-1].index\n",
    "#                 df_mgi = df_malts.drop(columns=['mRS','E']).loc[mgi_units][['lacosamide', 'levetiracetam', 'midazolam', 'pentobarbital', 'phenobarbital', 'propofol', 'valproate','T','Y']]\n",
    "#                 df_mgi_ind = df_mgi[['lacosamide', 'levetiracetam', 'midazolam', 'pentobarbital', 'phenobarbital', 'propofol', 'valproate']]>0\n",
    "#                 df_mgi = df_mgi_ind.join(df_mgi, lsuffix= '_given' )\n",
    "#                 df_mgi2 = df_mgi[['lacosamide', 'levetiracetam', 'midazolam', 'pentobarbital', 'phenobarbital', 'propofol', 'valproate']]**2\n",
    "#                 df_mgi = df_mgi.join(df_mgi2, rsuffix= '$^2$' )\n",
    "#                 model = lm.LinearRegression().fit(df_mgi.drop(columns=['Y']),df_mgi['Y'])\n",
    "#                 cates.append( model.coef_.reshape(-1,) )\n",
    "#             except:\n",
    "#                 continue\n",
    "#         cates = pd.DataFrame(np.array(cates),index=mg.index,columns=df_mgi.drop(columns=['Y']).columns)\n",
    "#         df_malts_res = df_malts.join(cates,rsuffix='_coef')\n",
    "#         cates_dict[threshold] = df_malts_res\n",
    "        \n",
    "    m_dict_dict[type_summary] = m_dict\n",
    "    cates_dict_dict[type_summary] = cates_dict\n",
    "\n",
    "\n",
    "\n"
   ]
  },
  {
   "cell_type": "code",
   "execution_count": 167,
   "id": "played-crown",
   "metadata": {},
   "outputs": [],
   "source": [
    "df_m_atec_dict = {}\n",
    "for type_summary in m_dict_dict.keys():\n",
    "    m_dict = m_dict_dict[type_summary]\n",
    "    df_m_atec = pd.DataFrame( np.array([m_dict[threshold].CATE_df.loc[m_dict[threshold].CATE_df['T']==0].mean(axis=0)['CATE'].values for threshold in m_dict.keys()]), \n",
    "                            index = ['%.2f'%(j) for j in m_dict.keys()], columns = ['ATE' for i in range(len(m_dict[threshold].CATE_df.mean(axis=0)['CATE'].values))] )\n",
    "    df_m_atec_dict[type_summary] = df_m_atec"
   ]
  },
  {
   "cell_type": "code",
   "execution_count": 168,
   "id": "tamil-country",
   "metadata": {},
   "outputs": [
    {
     "data": {
      "text/plain": [
       "<AxesSubplot:>"
      ]
     },
     "execution_count": 168,
     "metadata": {},
     "output_type": "execute_result"
    },
    {
     "data": {
      "image/png": "[encoded data removed]",
      "text/plain": [
       "<Figure size 432x288 with 1 Axes>"
      ]
     },
     "metadata": {},
     "output_type": "display_data"
    }
   ],
   "source": [
    "df_m_atec.T.plot(kind='box')"
   ]
  },
  {
   "cell_type": "code",
   "execution_count": 27,
   "id": "nuclear-increase",
   "metadata": {},
   "outputs": [
    {
     "data": {
      "text/plain": [
       "Text(0.5, 0, 'mRS')"
      ]
     },
     "execution_count": 27,
     "metadata": {},
     "output_type": "execute_result"
    },
    {
     "data": {
      "image/png": "[encoded data removed]",
      "text/plain": [
       "<Figure size 720x432 with 1 Axes>"
      ]
     },
     "metadata": {},
     "output_type": "display_data"
    }
   ],
   "source": [
    "sns.set(font_scale=1.5)\n",
    "plt.figure(figsize=(10,6))\n",
    "plt.plot(df_coarsen_1.groupby(by='mRS')['E'].mean())\n",
    "plt.fill_between(df_coarsen_1.groupby(by='mRS')['E'].mean().index,\n",
    "                 df_coarsen_1.groupby(by='mRS')['E'].mean()+df_coarsen_1.groupby(by='mRS')['E'].std(),\n",
    "                 df_coarsen_1.groupby(by='mRS')['E'].mean()-df_coarsen_1.groupby(by='mRS')['E'].std(),\n",
    "                alpha=0.2)\n",
    "plt.ylim(0,1)\n",
    "plt.ylabel('Proportion of time IIC > 0.1')\n",
    "plt.xlabel('mRS')"
   ]
  }
 ],
 "metadata": {
  "kernelspec": {
   "display_name": "Python 3",
   "language": "python",
   "name": "python3"
  },
  "language_info": {
   "codemirror_mode": {
    "name": "ipython",
    "version": 3
   },
   "file_extension": ".py",
   "mimetype": "text/x-python",
   "name": "python",
   "nbconvert_exporter": "python",
   "pygments_lexer": "ipython3",
   "version": "3.8.5"
  }
 },
 "nbformat": 4,
 "nbformat_minor": 5
}
